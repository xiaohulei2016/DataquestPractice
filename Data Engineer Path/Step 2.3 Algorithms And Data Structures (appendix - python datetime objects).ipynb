{
 "cells": [
  {
   "cell_type": "markdown",
   "metadata": {},
   "source": [
    "# Step 2.3 Algorithms and Data Structures - (Appendix - datetime objects)\n",
    "\n",
    "### Questions:\n",
    "1. __[所有python variable 都是某实际对象的reference ======> sys.getsizeof() ====> reference的大小？？还是实际object的大小？？](https://www.quora.com/How-much-memory-taken-by-variables-in-python)__\n",
    "    \n",
    "    * 1.1 __[Python 内存管理: id(a)==> integer; hex(id(a))==> 十六进制](http://www.cnblogs.com/vamei/p/3232088.html)__\n",
    "    * 1.2 __[python 对象地址学习： id(obj)==>identity; hex(id(obj))==> memory address](https://blog.csdn.net/heipark_/article/details/48369467)__\n",
    "    * __\"is\"__ keywords: a is b\n",
    "2. __[measure real size of any python object](https://goshippo.com/blog/measure-real-size-any-python-object/)__\n",
    "    * a = 10, sys.getsizeof(a)\n",
    "    * b=[a], sys.getsizeof(b) ===> only return the size of the list container, not including the size of its elements, a\n",
    "    * Using __sys.getsizeof__ on python object (including dictionary) may not be exact since it does not count __referenced objects__.\n",
    "3. __[understand how much memory your python objects use](https://code.tutsplus.com/tutorials/understand-how-much-memory-your-python-objects-use--cms-25609)__\n",
    "    * sys.getsizeof() only does a shallow measure!! \n",
    "    * for instance: sys.getsizeof(list): only the memory of the list and the pointers to its objects.\n",
    "    * user-defined - deep_getsizeof(): Drills down __recursively__ and calculates the actual memory usage of a Python object graph\n",
    "       \n",
    "4. __[id() - memory 是十进制吗 - not memory address, just an unique identifier in integer](https://groups.google.com/forum/#!topic/comp.lang.python/LdQIdn1DGa4)__\n",
    "5. __[understanding python variables as pointers](http://scottlobdell.me/2013/08/understanding-python-variables-as-pointers/)__\n",
    "\n",
    "6. __[Data model in Python](https://docs.python.org/3/reference/datamodel.html)__\n",
    "    * every obect has an __identity, a type and a value__ (3 fundamental elements)\n",
    "        * __Identity__: never changes once an object has been created\n",
    "            * is: operator 'is' compares the identity of two objects\n",
    "            * id(): id() function returns an integer representing its identity --- for CPython, id(x) is the memory address\n",
    "        * __Type__: object's type is unchangeable\n",
    "            * type(): return an object's type, which is an object itself\n",
    "        * __Value__: the value of some objects can change\n",
    "            * mutable: dictionart, list\n",
    "            * immutable: number, string, tuple\n",
    "            \n",
    "7. Distributed Computation Hash Table\n",
    "    * how to combile hash table easily\n",
    "    * No duplicated keys in hash table?\n",
    "            \n",
    "\n",
    "### Contents\n",
    "1. Processing Tasks With Stacks And Queues\n",
    "    \n",
    "    Learn how to process tasks in the right order with stacks and queues while working with driver's license application data\n",
    "        * How to implement a stack in Python\n",
    "        * How to implement a queue in Python\n",
    "        * How to profile stacks and queues\n",
    "    \n",
    "2. Effectively Using Arrays And List\n",
    "    \n",
    "    Learn how to utilize arrays and lists to process stick price data more effectively\n",
    "        * How to sort an array using selection sort\n",
    "        * how to sort an array using bubble sort\n",
    "        * How to profile both sorting algorithms\n",
    "\n",
    "3. Sorting Arrays And Lists (Sorting Algorithms  --- list.sort(); sorted())\n",
    "\n",
    "    Learn how to sort arrays and lists, and the tradeoffs invovled\n",
    "    * __[python sorting howto](https://docs.python.org/3/howto/sorting.html)__\n",
    "        * Selection Sort: For Loop ===> For Loop\n",
    "        * Bubble Sort: While Loop ===> For Loop\n",
    "        * Insertion Sort: For Loop ===> While Loop\n",
    "        * All are O(n^2)\n",
    "        * Generally, Insertion > Selection > Bubble\n",
    "        * Foundation: Swap function\n",
    "\n",
    "4. Searching Arrays And Lists (Searching Algorithms --- list.index())\n",
    "\n",
    "    Learn how to search for values in arrays and lists\n",
    "    * __[Python Builtin Binary Search Algorithm ===> bisect](https://docs.python.org/3/library/bisect.html)__\n",
    "        * The difference between linear and binary search\n",
    "        * How to profile search algorithms\n",
    "\n",
    "5. Hash Tables\n",
    "\n",
    "    Learn about hash tables, a versatile data structure with fast lookup and insertion times\n",
    "        * How a hash table and hash functions work\n",
    "        * How to implement a hash table in Python\n",
    "        * How to profile hash tables\n",
    "    \n",
    "6. Guided Project: Analyzing Stock Prices\n",
    "\n",
    "    Use the correct data structures to analyze stock prices efficiently\n",
    "        * Using hash tables to compute aggregates\n",
    "        * Implementing search algorithms\n",
    "        \n",
    "\n",
    "    "
   ]
  },
  {
   "cell_type": "markdown",
   "metadata": {},
   "source": [
    "## 1. Processing Tasks With Stacks And Queses"
   ]
  },
  {
   "cell_type": "markdown",
   "metadata": {},
   "source": [
    "### 1.1 Assigning Tasks to Pools\n",
    "\n",
    "In the last course, we talked about the idea of worker pools. We used assigning documents to translators as an example. You have a \"pool\" of several translators who are waiting for work. As the work comes in, it gets assigned to free translators, who then complete the translation work. This model works well when you have a fixed amount of work, or when you have more translators than available work. Here's an example with a fixed amount of work:\n",
    "\n",
    "![img alt](https://s3.amazonaws.com/dq-content/168/translators_2.svg)\n",
    "\n",
    "But what happens when work is constantly coming in? Let's say that you're writing some code for the Department Of Motor Vehicles, or DMV, in California. If you're unfamiliar, the DMV in America handles driver's license issuances and renewals. In order to apply for a driver's license, you need quite a bit of information, including:\n",
    "\n",
    "* Your name\n",
    "* Your address\n",
    "* __[Your Social Security Number](https://en.wikipedia.org/wiki/Social_Security_number)__\n",
    "\n",
    "A single DMV office is usually open between 9am and 5pm. During these hours, people come in, and give their application information to clerks. These clerks then collate the application information and file it for further processing. After the processing is done, the license is able to be printed and given to the applicant.\n",
    "\n",
    "Let's say that the code you're writing needs to handle this further processing, and your system can handle processing 200 applications per hour. Throughout the day, the DMV handles a variable number of visitors:\n",
    "\n",
    "![img alt](https://s3.amazonaws.com/dq-content/172/visitors_during_day_1.svg)\n",
    "\n",
    "\n",
    "As you can see, there are times during the day when you're below processing capacity (green), times when you're at capacity (blue) and times when you're above capacity (red). This means that not everyone will get their application processed immediately. When we can't process applications immediately, we put them in a __backlog__ to process later. We can look at backlog length by hour to get a better sense of this:\n",
    "\n",
    "![img alt](https://s3.amazonaws.com/dq-content/172/queue_length_during_day_1.svg)\n",
    "\n",
    "As you can see, backlog length generally increases throughout the day. Whenever the backlog length is greater than 0, it means that people coming in may have to wait for a while in order to get their license. Note that because your computer system works 24/7, any applications that are unprocessed at the end of the day will finish being processed overnight.\n",
    "\n",
    "There's one __simple strategy__ for dealing with the backlog -- we just process people's applications in the order they were added to the backlog. This works like a traditional line -- if you're the first person in line, your application is processed first, and if you're the last person, your application gets processed last. Because the DMV has a __small waiting area__, they don't want tons of people waiting for their licenses. So if they can't guarantee that your applicant will be processed __immediately__, they ask you to come back the next day to pick up your license.\n",
    "\n",
    "This means that the clerks at the DMV would tell __everyone to come back the next morning__ if there's any kind of backlog. For example, if there are 50 applications in the backlog, and you just submitted your application, there wouldn't be a guarantee of your task being processed immediately, so you'd have to come back later. Here's how this strategy would look:\n",
    "\n",
    "![img alt](https://s3.amazonaws.com/dq-content/172/processing_with_queue.svg)\n",
    "\n",
    "As you can see above, we add new applications to the end of the line, or the \"bottom\", and we pull applications to process from the start of the line, or the \"top\".\n",
    "\n",
    "There's another, more complex, strategy that may lead to better customer outcomes. In the alternate strategy, you process applications as soon as they come in, ignoring what's already in the backlog. So if there are 50 applications in the backlog already, a new application will be prioritized ahead of them if it was just submitted. This means that some percentage of people during busy times will immediately get their applications processed, while everyone else will have to come back the next day. This theoretically is better for customers than the alternative, as some are able to get their application processed more quickly:\n",
    "\n",
    "![img alt](https://s3.amazonaws.com/dq-content/172/processing_with_stack.svg)\n",
    "\n",
    "As you can see above, we add new applications to the start of the line, or the \"top\", and we pull applications to process from the start of the line as well.\n",
    "\n",
    "Both of the task __prioritization paradigms__ we mentioned above are used extensively in computer science. The first is known as the __queue__, and the second is known as the __stack__. In this mission, we'll expand on queues and stacks, and go into more depth about how and when each model is useful.\n",
    "\n",
    "Before we do so, here's a diagram of a stack:\n",
    "\n",
    "![img alt](https://s3.amazonaws.com/dq-content/172/Lifo_stack.png)\n",
    "\n",
    "And here's a diagram of a queue:\n",
    "\n",
    "![img alt](https://s3.amazonaws.com/dq-content/172/fifo_queue.png)\n",
    "\n",
    "\n"
   ]
  },
  {
   "cell_type": "markdown",
   "metadata": {},
   "source": [
    "### 1.2 Processing Applications\n",
    "\n",
    "In this mission, we'll use a dataset of applications for driver's licenses. Due to the sensitivity of the fields, we're using randomly generated data. You can look at __generate_data.py__ in this same folder for a peek at how the generation was done. The applications are stored in application.csv, and each application contains the following fields:\n",
    "\n",
    "* name -- the first and last name of the applicant.\n",
    "* address -- the current address of the applicant.\n",
    "* previous_address -- the previous address of the applicant.\n",
    "* gender -- the gender of the applicant.\n",
    "* ssn -- the social security number of the applicant.\n",
    "* birthdate -- the date of birth of the applicant.\n",
    "* job -- a description of the applicant's job.\n",
    "* phone -- the applicant's phone number.\n",
    "\n",
    "There are 2400 applications to process altogether. To keep things simple, we're assuming that 300 applications come in every hour, and since there are 8 hours between 9am and 5pm, that gives us 2400 total applications to process.\n",
    "\n",
    "Here are the first 5 rows of __applications.csv__:\n",
    "\n",
    "<table class=\"dataframe\">\n",
    "<thead>\n",
    "<tr>\n",
    "<th></th>\n",
    "<th>name</th>\n",
    "<th>address</th>\n",
    "<th>previous_address</th>\n",
    "<th>gender</th>\n",
    "<th>ssn</th>\n",
    "<th>birthdate</th>\n",
    "<th>job</th>\n",
    "<th>phone</th>\n",
    "</tr>\n",
    "</thead>\n",
    "<tbody>\n",
    "<tr>\n",
    "<th>0</th>\n",
    "<td>William Sims</td>\n",
    "<td>25000 Tyler Grove Suite 918 South Roberthaven ...</td>\n",
    "<td>4014 Marie Ville Apt. 371 Denisechester  NH 39109</td>\n",
    "<td>M</td>\n",
    "<td>323-87-8515</td>\n",
    "<td>2007-02-09 12:12:34</td>\n",
    "<td>Make</td>\n",
    "<td>1-815-060-8846x235</td>\n",
    "</tr>\n",
    "<tr>\n",
    "<th>1</th>\n",
    "<td>Jason Watts</td>\n",
    "<td>761 James Plains Lake Angelica CA 91912</td>\n",
    "<td>2966 Spencer Shore Saraton  MH 29914</td>\n",
    "<td>M</td>\n",
    "<td>837-07-1293</td>\n",
    "<td>1947-02-05 10:05:30</td>\n",
    "<td>Surgeon</td>\n",
    "<td>572.705.2316x8697</td>\n",
    "</tr>\n",
    "<tr>\n",
    "<th>2</th>\n",
    "<td>Jason Terrell</td>\n",
    "<td>7184 Robert Via Larsonland CA 90137</td>\n",
    "<td>13591 Jamie Ford Port Daisy  TN 25888</td>\n",
    "<td>M</td>\n",
    "<td>384-14-4050</td>\n",
    "<td>1995-12-19 19:32:13</td>\n",
    "<td>Make</td>\n",
    "<td>(746)760-8222x67759</td>\n",
    "</tr>\n",
    "<tr>\n",
    "<th>3</th>\n",
    "<td>Zachary Williams</td>\n",
    "<td>276 Anna Mountain Apt. 981 Port David CA 93685</td>\n",
    "<td>9181 Erika Mountains Huffland  DE 41070-9178</td>\n",
    "<td>M</td>\n",
    "<td>415-79-6265</td>\n",
    "<td>2004-07-22 23:55:29</td>\n",
    "<td>Secretary/administrator</td>\n",
    "<td>1-964-288-2197x7301</td>\n",
    "</tr>\n",
    "<tr>\n",
    "<th>4</th>\n",
    "<td>Marilyn Brown</td>\n",
    "<td>316 Holmes Spring Apt. 413 Christopherberg CA ...</td>\n",
    "<td>PSC 1168  Box 0078 APO AA 19438</td>\n",
    "<td>F</td>\n",
    "<td>746-51-0509</td>\n",
    "<td>1977-01-23 11:42:50</td>\n",
    "<td>Homeopath</td>\n",
    "<td>(176)997-1358x95807</td>\n",
    "</tr>\n",
    "</tbody>\n",
    "</table>\n",
    "\n",
    "Before we look into how to use stacks and queues to prioritize tasks, let's write a function that processes a single application. The function will need to take in a single applicant, then:\n",
    "\n",
    "* Verify that they're at least 18 years old.\n",
    "* Verify that they live in California (abbreviated as CA in the address column).\n",
    "\n",
    "We've read __applications.csv__ into a pandas DataFrame called __applications__."
   ]
  },
  {
   "cell_type": "markdown",
   "metadata": {},
   "source": [
    "### 1.3 Processing Applications\n",
    "\n",
    "#### Instructions\n",
    "\n",
    "* Write a function called process_application to perform the age and address verifications mentioned earlier for a single applicant.\n",
    "    * Age check\n",
    "        * Verify that the applicant is at least 18.\n",
    "        * To make the age check easier, let's assume every year has 365.25 days.\n",
    "    * Residence check\n",
    "        * Verify that the applicant lives in CA.\n",
    "    * The function should return True if the applicant passes both verifications, and False if they failed one.\n",
    "* Run the function over every applicant.\n",
    "* Assign the result to application_status.\n",
    "    * Ensure that application_status is a list of Boolean values."
   ]
  },
  {
   "cell_type": "code",
   "execution_count": 1,
   "metadata": {
    "collapsed": true
   },
   "outputs": [],
   "source": [
    "import pandas as pd\n",
    "applications = pd.read_csv(\"Data/applications.csv\")\n",
    "from datetime import datetime"
   ]
  },
  {
   "cell_type": "code",
   "execution_count": 2,
   "metadata": {},
   "outputs": [
    {
     "name": "stdout",
     "output_type": "stream",
     "text": [
      "<class 'list'>\n"
     ]
    }
   ],
   "source": [
    "def process_application(single_case):\n",
    "    birth_date = datetime.strptime(single_case['birthdate'], \"%Y-%m-%d %H:%M:%S\")\n",
    "    today = datetime.today()\n",
    "    dt = today - birth_date\n",
    "    age = dt.total_seconds()/(3600*24*365.25)\n",
    "    if age < 18:\n",
    "        return False\n",
    "    state = single_case['address'].split(\" \")[-2]\n",
    "    if state != 'CA':\n",
    "        return False\n",
    "    return True\n",
    "\n",
    "application_status = applications.apply(process_application, axis=1).tolist()\n",
    "print(type(application_status))"
   ]
  },
  {
   "cell_type": "markdown",
   "metadata": {},
   "source": [
    "### 1.4 Stacks\n",
    "\n",
    "A stack is a data structure that takes in new elements at the \"top\". When you want to access an element, it is also removed from the top. This is known as __\"last-in-first-out\"__ queue, since the last element put into the stack is the first element taken out.\n",
    "\n",
    "![img alt](https://s3.amazonaws.com/dq-content/172/stack_operations_1.svg)\n",
    "\n",
    "As you can see, we add element 3 to the top, then add element 4 to the top. We then remove element 4 from the top. We can __simulate this with the Python list.insert and list.pop methods__. We'll start with a list that contains elements 1 and 2:\n",
    "\n",
    "```python\n",
    ">> stack = [1,2]\n",
    ">> stack\n",
    "[1,2]\n",
    "```\n",
    "We then add element 3 to the \"top\" of the stack:\n",
    "\n",
    "```python\n",
    ">> stack.insert(0,3)\n",
    "[3,1,2]\n",
    "```\n",
    "We then add 4 to the top of the stack:\n",
    "\n",
    "```python\n",
    ">> stack.insert(0,4)\n",
    ">> stack\n",
    "[4,3,1,2]\n",
    "```\n",
    "We can then remove the \"top\" element of the stack:\n",
    "\n",
    "```python\n",
    ">> stack.pop(0)\n",
    "4\n",
    ">> stack\n",
    "[3,1,2]\n",
    "```\n",
    "\n",
    "We're considering the beginning of the list to be the \"top\" of our stack, and the end of the list to be the \"bottom\". This, when we add elements using insert, we add them at index 0, or the beginning. We also remove elements from index 0, or the beginning, using pop.\n",
    "\n",
    "A stack is a way to implement the theoretically more efficient method of prioritization we discussed in the first screen. In this example, applications would be added to the top of the backlog as they're submitted. We'd then remove tasks from the top of the stack to process them. Let's profile how a stack would perform if it was processing the data for the DMV. We can do this by:\n",
    "\n",
    "    * Creating a stack.\n",
    "    * Creating one thread to add tasks to the stack.\n",
    "    * Creating a second thread to remove tasks from the stack and process them.\n",
    "    * Keeping track of wait time for each task:\n",
    "        * If the task was put on the stack and immediately removed and processed, let's say the wait time is 10 minutes.\n",
    "        * If the task had to wait for another task to process first, the applicant has to come back the next morning at 9am. To keep things simple, let's say that 300 applications are added to the backlog every hour, and that applications start coming in at 9am. Thus, the first 300 applications (from 1 to 300) would have to wait 23 hours (from 10am to 9am the bext day). Applications throughout the day would have to wait:\n",
    "            * 301-600 -- 22 hours.\n",
    "            * 601-900 -- 21 hours.\n",
    "            * 901-1200 -- 20 hours.\n",
    "            * 1201-1500 -- 19 hours.\n",
    "            * 1501-1800 -- 18 hours.\n",
    "            * 1801-2100 -- 17 hours.\n",
    "            * 2101-2400 -- 16 hours.\n",
    "\n",
    "We can compute wait time with the following method:\n",
    "\n",
    "    * Create a list to store the wait times.\n",
    "    * When adding tasks:\n",
    "        * Store the task number in the stack, along with the application data.\n",
    "        * Keep track of the task numbers added to the stack in a separate list.\n",
    "    * When processing tasks:\n",
    "        * If the last task added to the stack is being processed, add 10 minutes to the total wait time.\n",
    "            * Find this by comparing the latest task number to the task number of the application being processed.\n",
    "        * If the last task is not being processed, calculate the wait time based on the task number.\n",
    "\n",
    "By averaging the wait time across all applications, we can figure out how efficient it is to prioritize our DMV applications using a stack."
   ]
  },
  {
   "cell_type": "markdown",
   "metadata": {},
   "source": [
    "### 1.5 Stacks\n",
    "\n",
    "#### Instructions\n",
    "* Create a list called wait_times to store the wait times.\n",
    "* Create a list called stack to store the tasks.\n",
    "* Create a list called task_numbers to store the task numbers of the tasks added to stack.\n",
    "* Create a function, add_tasks, to add tasks to the stack. The function should loop through applications, and:\n",
    "    * Individually add rows to stack, along with the task numbers, in a single tuple. The task number is the pandas row index with 1 added to it. (the row index starts at 0, but task numbers start at 1, so we need to add 1)\n",
    "        * Here's how this should look in code: stack.insert(0,(index + 1, row))\n",
    "    * Append the task number to task_numbers whenever an item is added to stack.\n",
    "    * Sleep for .001 seconds.\n",
    "* Create a function, process_tasks, to process tasks. The function should:\n",
    "    * Check if stack is empty. If it is, wait for a second.\n",
    "    * If stack is not empty, remove the first task from task, and process the task using process_application.\n",
    "    * Compute the wait time for this task, and append to wait_times.\n",
    "        * If the task number matches the last number in tasks, the wait time is 10 minutes.\n",
    "        * If not, you'll need to compute it based on the task number.\n",
    "* Start two threads, one for each function, and wait until they finish executing.\n",
    "* Find the average wait time, in seconds, and assign to average_wait_time.\n",
    "* Inspect wait_times to see how the wait time changed as more tasks were processed.\n",
    "* Try varying the sleep times in the process_application and add_tasks functions. Does this change the average wait time? Why do you think this is happening?"
   ]
  },
  {
   "cell_type": "code",
   "execution_count": 3,
   "metadata": {},
   "outputs": [
    {
     "data": {
      "text/html": [
       "<div>\n",
       "<style>\n",
       "    .dataframe thead tr:only-child th {\n",
       "        text-align: right;\n",
       "    }\n",
       "\n",
       "    .dataframe thead th {\n",
       "        text-align: left;\n",
       "    }\n",
       "\n",
       "    .dataframe tbody tr th {\n",
       "        vertical-align: top;\n",
       "    }\n",
       "</style>\n",
       "<table border=\"1\" class=\"dataframe\">\n",
       "  <thead>\n",
       "    <tr style=\"text-align: right;\">\n",
       "      <th></th>\n",
       "      <th>A</th>\n",
       "      <th>B</th>\n",
       "    </tr>\n",
       "  </thead>\n",
       "  <tbody>\n",
       "    <tr>\n",
       "      <th>0</th>\n",
       "      <td>1</td>\n",
       "      <td>-0.545611</td>\n",
       "    </tr>\n",
       "    <tr>\n",
       "      <th>1</th>\n",
       "      <td>2</td>\n",
       "      <td>1.802448</td>\n",
       "    </tr>\n",
       "    <tr>\n",
       "      <th>2</th>\n",
       "      <td>9</td>\n",
       "      <td>-0.392484</td>\n",
       "    </tr>\n",
       "    <tr>\n",
       "      <th>3</th>\n",
       "      <td>2</td>\n",
       "      <td>0.494489</td>\n",
       "    </tr>\n",
       "    <tr>\n",
       "      <th>4</th>\n",
       "      <td>9</td>\n",
       "      <td>-1.011158</td>\n",
       "    </tr>\n",
       "  </tbody>\n",
       "</table>\n",
       "</div>"
      ],
      "text/plain": [
       "   A         B\n",
       "0  1 -0.545611\n",
       "1  2  1.802448\n",
       "2  9 -0.392484\n",
       "3  2  0.494489\n",
       "4  9 -1.011158"
      ]
     },
     "metadata": {},
     "output_type": "display_data"
    },
    {
     "name": "stdout",
     "output_type": "stream",
     "text": [
      "iterrows():\n",
      "0\n",
      "A    1.000000\n",
      "B   -0.545611\n",
      "Name: 0, dtype: float64\n",
      "1\n",
      "A    2.000000\n",
      "B    1.802448\n",
      "Name: 1, dtype: float64\n",
      "2\n",
      "A    9.000000\n",
      "B   -0.392484\n",
      "Name: 2, dtype: float64\n",
      "3\n",
      "A    2.000000\n",
      "B    0.494489\n",
      "Name: 3, dtype: float64\n",
      "4\n",
      "A    9.000000\n",
      "B   -1.011158\n",
      "Name: 4, dtype: float64\n",
      "itertuples():\n",
      "Pandas(Index=0, A=1, B=-0.54561092394232547)\n",
      "Pandas(Index=1, A=2, B=1.8024480435867345)\n",
      "Pandas(Index=2, A=9, B=-0.3924835593170824)\n",
      "Pandas(Index=3, A=2, B=0.49448921742517399)\n",
      "Pandas(Index=4, A=9, B=-1.0111582394056129)\n",
      "iteritems():\n",
      "A\n",
      "0    1\n",
      "1    2\n",
      "2    9\n",
      "3    2\n",
      "4    9\n",
      "Name: A, dtype: int32\n",
      "B\n",
      "0   -0.545611\n",
      "1    1.802448\n",
      "2   -0.392484\n",
      "3    0.494489\n",
      "4   -1.011158\n",
      "Name: B, dtype: float64\n",
      "enumerate(df):\n",
      "0\n",
      "A\n",
      "1\n",
      "B\n"
     ]
    }
   ],
   "source": [
    "#### Learning!!!!\n",
    "#### Test for row iterations in DataFrame:\n",
    "## iterrows() -- Iterate over DataFrame rows as (index, Series) pairs ----- row-wise\n",
    "## itertuples() -- Iterate over DataFrame rows as namedtuples of the values\n",
    "## iteritems() -- Iterator over (column name, Series) pairs ----- column-wise\n",
    "## enumerate()  --  Only return column names ----- column-wise\n",
    "import pandas as pd\n",
    "import numpy as np\n",
    "\n",
    "d = {\"A\":np.random.randint(10,size=5), \"B\":np.random.randn(5)}\n",
    "df = pd.DataFrame(d)\n",
    "display(df)\n",
    "\n",
    "print(\"iterrows():\")\n",
    "for i, s in df.iterrows():\n",
    "    print(i)\n",
    "    print(s)\n",
    "    \n",
    "print(\"itertuples():\")    \n",
    "for t in df.itertuples():\n",
    "    print(t)\n",
    "    \n",
    "print(\"iteritems():\")\n",
    "for c, s in df.iteritems():\n",
    "    print(c)\n",
    "    print(s)\n",
    "    \n",
    "print(\"enumerate(df):\")\n",
    "for i, c in enumerate(df):\n",
    "    print(i)\n",
    "    print(c)"
   ]
  },
  {
   "cell_type": "code",
   "execution_count": 4,
   "metadata": {
    "collapsed": true
   },
   "outputs": [],
   "source": [
    "import threading\n",
    "import time\n",
    "\n",
    "def process_application(application):\n",
    "    time.sleep(.001)\n",
    "    birth_date = datetime.strptime(application[\"birthdate\"], \"%Y-%m-%d %H:%M:%S\")\n",
    "    delta = (birth_date - datetime.now()).total_seconds()\n",
    "    delta /= (3600 * 24 * 365.25)\n",
    "    if delta < 18:\n",
    "        return False\n",
    "    state = application[\"address\"].split(\" \")[-2]\n",
    "    if state != \"CA\":\n",
    "        return False\n",
    "    return True\n",
    "\n",
    "\n",
    "wait_times = []\n",
    "stack = []\n",
    "task_numbers = []\n",
    "\n",
    "def add_tasks():\n",
    "    for index, row in applications.iterrows():\n",
    "        task_number = index + 1\n",
    "        stack.insert(0, (task_number, row))\n",
    "        task_numbers.append(task_number)\n",
    "        time.sleep(0.001)\n",
    "        \n",
    "def process_tasks():\n",
    "    tasks_finished = 0\n",
    "    while tasks_finished < 2400:\n",
    "        if stack == []:\n",
    "            time.sleep(1)\n",
    "        else:\n",
    "            task_number, application = stack.pop(0)\n",
    "            process_application(application)\n",
    "            tasks_finished += 1\n",
    "            if task_number == task_numbers[-1]:\n",
    "                wait_time = 10*60\n",
    "                wait_times.append(wait_time)\n",
    "            else:\n",
    "                wait_time = (23 - (task_number-1)//300)*3600\n",
    "                wait_times.append(wait_time)\n",
    "                \n",
    "t1 = threading.Thread(target=add_tasks)\n",
    "t2 = threading.Thread(target=process_tasks)\n",
    "\n",
    "t1.start()\n",
    "t2.start()\n",
    "\n",
    "t1.join()\n",
    "t2.join()\n",
    "\n",
    "average_wait_time = sum(wait_times)/len(wait_times)"
   ]
  },
  {
   "cell_type": "code",
   "execution_count": 5,
   "metadata": {},
   "outputs": [
    {
     "data": {
      "text/plain": [
       "68429.0"
      ]
     },
     "execution_count": 5,
     "metadata": {},
     "output_type": "execute_result"
    }
   ],
   "source": [
    "average_wait_time"
   ]
  },
  {
   "cell_type": "markdown",
   "metadata": {},
   "source": [
    "### 1.6 Implementing A Stack\n",
    "\n",
    "Although we used the Python list implementation as a stack in the last screen, it can be helpful to implement your own stack. This allows you to store custom values, avoid mistakes when adding removing elements, and add additional methods. __A good use case for a stack is as a shared way to distribute tasks or store values when you're working across multiple threads__. As you work with larger datasets, __custom implementations become more necessary__. The easiest way to implement a stack is to create a __custom class__. The class needs two methods at the minimum:\n",
    "\n",
    "* push -- adds a value to the stack.\n",
    "* pop -- removes a value from the stack.\n",
    "\n",
    "Additionally, the stack needs an internal list to store the values in the stack:\n",
    "\n",
    "* items -- a list of all the items in the stack.\n",
    "\n",
    "Implementing push and pop is very similar to what you did when adding and removing elements from stack in the last screen.\n",
    "\n",
    "We're __implementing a custom class on top of a list__ for a few reasons:\n",
    "\n",
    "* It's easier to implement a stack this way, and learn how stacks work, than it is to implement a completely custom stack.\n",
    "* Implementing a stack class instead of using a list makes adding and removing much simpler, since you don't need to remember which index to pass into the list.\n",
    "* We can easily add custom methods on top of the stack.\n",
    "\n",
    "#### Instructions\n",
    "\n",
    "* Create a class called Stack that:\n",
    "    * Uses an instance variable called items to store the stack values.\n",
    "    * Has a push method to add values to the stack, and a pop method to remove values from the stack.\n",
    "    * Has a count method to count the number of values in the stack.\n",
    "* Instantiate an instance of Stack called stack.\n",
    "* Add 1, 2, and 3 to stack.\n",
    "* Remove an element from stack."
   ]
  },
  {
   "cell_type": "code",
   "execution_count": 6,
   "metadata": {
    "collapsed": true
   },
   "outputs": [],
   "source": [
    "class Stack():\n",
    "    def __init__(self):\n",
    "        self.items = []\n",
    "    \n",
    "    def push(self, value):\n",
    "        self.items.insert(0, value) ### insert - time complexity?? why not L.append(item) and L.pop()\n",
    "    \n",
    "    def pop(self):\n",
    "        return self.items.pop(0)\n",
    "    \n",
    "    def count(self):\n",
    "        return len(self.items)\n",
    "    \n",
    "## L.insert(0, item) & L.pop(0)\n",
    "## L.append(item) & L.pop()"
   ]
  },
  {
   "cell_type": "code",
   "execution_count": 7,
   "metadata": {},
   "outputs": [
    {
     "data": {
      "text/plain": [
       "[3, 2, 1]"
      ]
     },
     "metadata": {},
     "output_type": "display_data"
    },
    {
     "data": {
      "text/plain": [
       "3"
      ]
     },
     "metadata": {},
     "output_type": "display_data"
    },
    {
     "data": {
      "text/plain": [
       "[2, 1]"
      ]
     },
     "metadata": {},
     "output_type": "display_data"
    }
   ],
   "source": [
    "stack = Stack()\n",
    "stack.push(1)\n",
    "stack.push(2)\n",
    "stack.push(3)\n",
    "display(stack.items)\n",
    "display(stack.count())\n",
    "stack.pop()\n",
    "display(stack.items)"
   ]
  },
  {
   "cell_type": "markdown",
   "metadata": {},
   "source": [
    "### 1.7 Time Spent In Stacks\n",
    "\n",
    "We can vary a few different parameters, which will change the average wait time with our stack:\n",
    "\n",
    "* How we compute wait time (should we compute it as a binary value -- either you wait a day or you don't?)\n",
    "* How quickly tasks are added to the stack\n",
    "* How quickly tasks on the stack are processed\n",
    "\n",
    "If the capacity to process tasks is higher than the rate of tasks coming in, the wait time will always be the lowest possible amount. If tasks are added more quickly than they can be processed, there's an advantage to using stacks, since some people get their licenses much more quickly. This should have been evident from the experimentation you did with sleep times a few screens ago.\n",
    "\n",
    "Let's see how a stack would perform if we adjust how we define wait time. Let's say that applicants are happy to sit in the DMV lobby indefinitely. Let's compute wait time by assuming that each application takes 20 seconds to process. Thus, how long an application takes to process depends on how many applications were processed after it was added to the queue. The formula is __20 \\* application_count + 600__. We add 600 to represent the time it takes to print the licenses -- it's a constant number.\n",
    "\n",
    "We can keep track of the number of applications processed before an application by using a counter. We can do this by:\n",
    "\n",
    "* Creating a list called queue_time.\n",
    "* Appending a 0 to queue_time whenever a task is placed onto the stack. The task number of the task minus one is equal to the * * index of the task in queue_time. If we want to look up how many tasks have been processed before a given task, we look up queue_time[task_number - 1].\n",
    "* When a task is processed, look up its corresponding entry in queue_time to get the number of applications processed before it.\n",
    "* When a task is processed, add 1 to every entry in queue_time to indicate the tasks that were processed before it.\n",
    "\n",
    "Here's a diagram:\n",
    "\n",
    "![img alt](https://s3.amazonaws.com/dq-content/172/queue_times.svg)\n",
    "\n",
    "Note that we add 1 to every element in queue_times for convenience. This gives us accurate queue times at the time that we lookup the queue time for an index (for example, when we process 3, the queue time is 0, when we process 2, the queue time is 1, and when we process 1, the queue time is 2). We look up the queue time by using the task number minus 1 to index queue_times.\n",
    "\n",
    "Note that only Python objects can be modified across threads, so we need to use the following code to increment all of the values in queue_times:\n",
    "\n",
    "```python\n",
    "for i in range(len(queue_times)):\n",
    "    queue_times[i] += 1\n",
    "```\n",
    "\n",
    "#### Instructions\n",
    "\n",
    "* Create a list called queue_times -- we'll store the number of applications processed before each application in this.\n",
    "* Create a list called wait_times.\n",
    "* Either use your custom Stack class, or create a list called stack.\n",
    "* Modify add_tasks:\n",
    "    * Append 0 to queue_times every time a task is added to stack.\n",
    "* Modify process_tasks:\n",
    "    * Look up the queue time from the queue_times list.\n",
    "    * Calculate wait_time based on the queue time, and append to wait_times.\n",
    "    * Increment all of the values in queue_times using the code provided earlier.\n",
    "* Run both threads like you did in an earlier screen.\n",
    "* Compute the average wait time and assign to average_wait_time.\n",
    "* Inspect the value of average_wait_time. Is it what you expected? Does the number surprise you at all?\n",
    "* Experiment with changing the sleep times in add_tasks and process_tasks. What happens?\n",
    "* Plot a histogram of wait_times using matplotlib."
   ]
  },
  {
   "cell_type": "code",
   "execution_count": 8,
   "metadata": {
    "collapsed": true
   },
   "outputs": [],
   "source": [
    "import matplotlib.pyplot as plt\n",
    "%matplotlib inline"
   ]
  },
  {
   "cell_type": "code",
   "execution_count": 9,
   "metadata": {},
   "outputs": [
    {
     "name": "stdout",
     "output_type": "stream",
     "text": [
      "11106.275\n"
     ]
    },
    {
     "data": {
      "text/plain": [
       "(array([ 1709.,    27.,    14.,    55.,    48.,    30.,    10.,    27.,\n",
       "          240.,   240.]),\n",
       " array([   600.,   5396.,  10192.,  14988.,  19784.,  24580.,  29376.,\n",
       "         34172.,  38968.,  43764.,  48560.]),\n",
       " <a list of 10 Patch objects>)"
      ]
     },
     "execution_count": 9,
     "metadata": {},
     "output_type": "execute_result"
    },
    {
     "data": {
      "image/png": "[encoded data removed]",
      "text/plain": [
       "<matplotlib.figure.Figure at 0x2239f6225f8>"
      ]
     },
     "metadata": {},
     "output_type": "display_data"
    }
   ],
   "source": [
    "stack = Stack()\n",
    "queue_times = []\n",
    "wait_times = []\n",
    "\n",
    "def add_tasks():\n",
    "    for index, row in applications.iterrows():\n",
    "        stack.push((index + 1, row))\n",
    "        # Insert code here.\n",
    "        queue_times.append(0)\n",
    "        time.sleep(.001)\n",
    "\n",
    "def process_tasks():\n",
    "    tasks_finished = 0\n",
    "    while tasks_finished < 2400:\n",
    "        if stack.count() == 0:\n",
    "            time.sleep(1)\n",
    "        else:\n",
    "            task_number, application = stack.pop()\n",
    "            resp = process_application(application)\n",
    "            tasks_finished += 1\n",
    "            # Insert code here.\n",
    "            wait_times.append(queue_times[task_number-1]*20 + 600)\n",
    "            for i in range(len(queue_times)):\n",
    "                queue_times[i] += 1\n",
    "            \n",
    "\n",
    "t1 = threading.Thread(target=add_tasks)\n",
    "t2 = threading.Thread(target=process_tasks)\n",
    "\n",
    "t1.start()\n",
    "t2.start()\n",
    "for t in [t1,t2]:\n",
    "    t.join()\n",
    "\n",
    "average_wait_time = sum(wait_times) / 2400\n",
    "print(average_wait_time)\n",
    "\n",
    "plt.hist(wait_times)"
   ]
  },
  {
   "cell_type": "code",
   "execution_count": 10,
   "metadata": {},
   "outputs": [
    {
     "data": {
      "text/plain": [
       "<Container object of 2400 artists>"
      ]
     },
     "execution_count": 10,
     "metadata": {},
     "output_type": "execute_result"
    },
    {
     "data": {
      "image/png": "[encoded data removed]",
      "text/plain": [
       "<matplotlib.figure.Figure at 0x223a3ba7e80>"
      ]
     },
     "metadata": {},
     "output_type": "display_data"
    }
   ],
   "source": [
    "plt.bar(range(2400), wait_times)"
   ]
  },
  {
   "cell_type": "markdown",
   "metadata": {},
   "source": [
    "### 1.8 Waiting Time With Queses - More \"Fair\" but less efficient\n",
    "\n",
    "In the last screen, you saw how we reduced wait time by having people wait around until their licenses were processed. The histogram of the wait times should have looked something like this:\n",
    "\n",
    "![img alt](https://s3.amazonaws.com/dq-content/172/wait_time_hist.png)\n",
    "\n",
    "As you can see above, the majority of people waited for less than 5000 seconds, or about 1.5 hours. However, a few people kept getting their applications pushed to the back of the stack, and thus had to wait for 10 hours or more. If the priority was to get the majority of people their licenses as quickly as possible, using a stack was a success. However, we should see if we can make the experience better for everyone, and reduce the maximum wait time to less than 10 hours.\n",
    "\n",
    "One way to do this might be to prioritize tasks using a queue instead of a stack. We discussed queues in the first screen of the mission -- a queue is a __first in first out__ system, where the tasks who arrived first get processed first:\n",
    "\n",
    "![img alt](https://s3.amazonaws.com/dq-content/172/queue_operations_1.svg)\n",
    "\n",
    "As you can see, a queue is similar to a traditional line, where things are processed in the order they arrived. Similarly to a stack, we can also simulate a queue using a Python list. We'll start with a list that contains elements 1 and 2:\n",
    "\n",
    "```python\n",
    ">> queue = [1,2]\n",
    ">> queue\n",
    "[1,2]\n",
    "```\n",
    "We then add element 3 to the bottom of the queue:\n",
    "\n",
    "```python\n",
    ">> queue.append(3)\n",
    ">> queue\n",
    "[1,2,3]\n",
    "```\n",
    "We then add 4 to the bottom of the queue:\n",
    "\n",
    "```python\n",
    ">> queue.append(4)\n",
    ">> queue\n",
    "[1,2,3,4]\n",
    "```\n",
    "We can then remove the top element of the queue:\n",
    "\n",
    "```python\n",
    ">> queue.pop(0)\n",
    "1\n",
    ">> queue\n",
    "[2,3,4]\n",
    "```\n",
    "The only difference between implementing a stack using a list and implementing a queue using a list is that we use append to add new elements to the bottom of the queue. It should be apparent that this is a __more \"fair\" system__ -- all tasks get the __same priority__, and none of them jump the line to get processed early.\n",
    "\n",
    "The queue corresponds to our first strategy for prioritizing tasks in the DMV application backlog. Let's measure wait time with the queue, assuming that we tell everyone to come back the next day. To keep things simple, let's say that 300 applications are added to the queue every hour, and that applications start coming in at 9am. Thus, the first 300 applications (from 1 to 300) would have to wait 23 hours (from 10am to 9am the bext day). Applications throughout the day would have to wait: * 301-600 -- 22 hours. * 601-900 -- 21 hours. * 901-1200 -- 20 hours. * 1201-1500 -- 19 hours. * 1501-1800 -- 18 hours. * 1801-2100 -- 17 hours. * 2101-2400 -- 16 hours.\n",
    "\n",
    "The main difference here is that the stack enabled us to get some people's licenses processed immediately. Thus, we'd expect that the __average wait time__ with just the queue is __longer__, since we make everyone come back later."
   ]
  },
  {
   "cell_type": "markdown",
   "metadata": {},
   "source": [
    "### 1.9 Waiting Time With Queues\n",
    "\n",
    "#### Instructions\n",
    "\n",
    "* Create a list called wait_times to store the wait times.\n",
    "* Create a list called queue to store the tasks.\n",
    "* Create a function, add_tasks, to add tasks to the queue. The function should loop through applications, and:\n",
    "    * Individually add rows to queue, along with the task numbers. The task number is the pandas row index with 1 added to it. (the row index starts at 0, but task numbers start at 1, so we need to add 1)\n",
    "    * Sleep for .001 seconds.\n",
    "* Create a function, process_tasks, to process tasks. The function should:\n",
    "    * Check if queue is empty. If it is, wait for a second.\n",
    "    * If queue is not empty, process the task using process_application.\n",
    "    * Compute the wait time for this task, and append to wait_times.\n",
    "* Start two threads, one for each function, and wait until they finish executing.\n",
    "* Find the average wait time, in seconds, and assign to average_wait_time.\n",
    "* Inspect wait_times to see how the wait time changed as more tasks were processed.\n",
    "* Try varying the sleep times in the process_application and add_tasks functions. Does this change the average wait time? Why do you think this is happening?"
   ]
  },
  {
   "cell_type": "code",
   "execution_count": 11,
   "metadata": {},
   "outputs": [
    {
     "name": "stdout",
     "output_type": "stream",
     "text": [
      "70200.0\n",
      "82800\n",
      "57600\n"
     ]
    }
   ],
   "source": [
    "import threading\n",
    "import time\n",
    "\n",
    "def process_application(application):\n",
    "    time.sleep(.001)\n",
    "    birth_date = datetime.strptime(application[\"birthdate\"], \"%Y-%m-%d %H:%M:%S\")\n",
    "    delta = (birth_date - datetime.now()).total_seconds()\n",
    "    delta /= (3600 * 24 * 365.25)\n",
    "    if delta < 18:\n",
    "        return False\n",
    "    state = application[\"address\"].split(\" \")[-2]\n",
    "    if state != \"CA\":\n",
    "        return False\n",
    "    return True\n",
    "\n",
    "wait_times = []\n",
    "queue = []\n",
    "\n",
    "def add_tasks():\n",
    "    for index, row in applications.iterrows():\n",
    "        task_number = index + 1\n",
    "        application = row\n",
    "        queue.append((task_number, application))\n",
    "        time.sleep(0.001)\n",
    "        \n",
    "def process_tasks():\n",
    "    task_finished = 0\n",
    "    while task_finished < 2400:\n",
    "        if queue == []:\n",
    "            time.sleep(2)\n",
    "        else:\n",
    "            task_number, application = queue.pop(0)\n",
    "            resp = process_application(application)\n",
    "            task_finished += 1\n",
    "            wait_times.append((23 - (task_number-1)//300)*3600)\n",
    "\n",
    "t1 = threading.Thread(target=add_tasks)\n",
    "t2 = threading.Thread(target=process_tasks)\n",
    "\n",
    "t1.start()\n",
    "t2.start()\n",
    "\n",
    "t1.join()\n",
    "t2.join()\n",
    "\n",
    "average_wait_time = sum(wait_times)/len(wait_times)\n",
    "print(average_wait_time)\n",
    "print(23*3600)\n",
    "print(16*3600)"
   ]
  },
  {
   "cell_type": "code",
   "execution_count": 12,
   "metadata": {},
   "outputs": [
    {
     "data": {
      "text/plain": [
       "[<matplotlib.lines.Line2D at 0x223a4612e80>]"
      ]
     },
     "execution_count": 12,
     "metadata": {},
     "output_type": "execute_result"
    },
    {
     "data": {
      "image/png": "[encoded data removed]",
      "text/plain": [
       "<matplotlib.figure.Figure at 0x223a40ad5c0>"
      ]
     },
     "metadata": {},
     "output_type": "display_data"
    }
   ],
   "source": [
    "plt.plot(wait_times)"
   ]
  },
  {
   "cell_type": "markdown",
   "metadata": {},
   "source": [
    "### 1.10 Implementing a Queue\n",
    "\n",
    "As you saw earlier, the average wait time is higher with a queue than with a stack. This is to be expected, given our scenario where the waiting time extends all the way to the next morning. However, many tasks just need to be processed in order, and don't have a condition that means you need to either return a result very quickly or very slowly. We'll explore the histogram of waiting times with queues more in the next screen.\n",
    "\n",
    "You should have also noticed that the wait times for queues go up as more tasks are added. The values towards the end of wait_times are much higher than the values towards the beginning. This reflects the fact that the length of the queue is increasing, so each additional task has to wait for more tasks to be processed before it can be run. A stack doesn't have this issue, since each new task is added to the top, and doesn't have to wait for the whole stack to be processed first.\n",
    "\n",
    "For now, let's work on implementing our own queue to improve our understanding. Similarly to implementing a stack, The easiest way to implement a queue is to create a custom class. The class needs two methods at the minimum:\n",
    "\n",
    "* push -- adds a value to the queue.\n",
    "* pop -- removes a value from the queue.\n",
    "\n",
    "Additionally, the queue needs an internal list to store the values in the stack:\n",
    "\n",
    "* items -- a list of all the items in the queue.\n",
    "\n",
    "Implementing push and pop is very similar to what you did when adding and removing elements from queue in the last screen.\n",
    "\n",
    "#### Instructions\n",
    "\n",
    "* Create a class called Queue that:\n",
    "    * Uses an instance variable called items to store the queue values.\n",
    "    * Has a push method to add values to the queue, and a pop method to remove values from the queue.\n",
    "    * Has a count method to count the number of values in the queue.\n",
    "* Instantiate an instance of Queue called queue.\n",
    "* Add 1, 2, and 3 to queue.\n",
    "* Remove an element from queue."
   ]
  },
  {
   "cell_type": "code",
   "execution_count": 13,
   "metadata": {},
   "outputs": [
    {
     "data": {
      "text/plain": [
       "1"
      ]
     },
     "execution_count": 13,
     "metadata": {},
     "output_type": "execute_result"
    }
   ],
   "source": [
    "class Queue:\n",
    "    def __init__(self):\n",
    "        self.items = []\n",
    "    \n",
    "    def push(self, value):\n",
    "        self.items.append(value)\n",
    "    \n",
    "    def pop(self):\n",
    "        return self.items.pop(0)\n",
    "    \n",
    "    def count(self):\n",
    "        return len(self.items)\n",
    "\n",
    "queue = Queue()\n",
    "queue.push(1)\n",
    "queue.push(2)\n",
    "queue.push(3)\n",
    "queue.pop()"
   ]
  },
  {
   "cell_type": "markdown",
   "metadata": {},
   "source": [
    "### 1.11 Time Spent In Queues\n",
    "\n",
    "When we were experimenting with stacks, we adjusted how we defined waiting time. This allowed us to __base waiting time on the number of tasks executed before a given task__. This gives us a __more real-world look__ at how long tasks would take to execute __than__ our specific DMV scenario of having people __come back the next day__.\n",
    "\n",
    "As you may recall, we used the formula __20 * applications_processed_while_waiting + 600__ to compute the waiting time for a given application. We can __keep track of the number of applications processed before an application by using a counter__. We can do this by:\n",
    "\n",
    "* Creating a list called queue_time.\n",
    "* Appending a 0 to queue_time whenever a task is placed onto the queue. The task number of the task minus one is equal to the index of the task in queue_time. If we want to look up how many tasks have been processed before a given task, we look up __queue_time[task_number - 1]__.\n",
    "* When a task is processed, look up its corresponding entry in queue_time to get the __number of applications processed before it__.\n",
    "* When a task is processed, add 1 to every entry in queue_time to indicate the tasks that were processed before it.\n",
    "\n",
    "#### Instructions\n",
    "\n",
    "* Create a list called queue_times -- we'll store __the number of applications processed before__ each application in this.\n",
    "* Create a list called wait_times.\n",
    "* Either use your custom Queue class, or create a list called queue.\n",
    "* Modify add_tasks:\n",
    "    * Append 0 to queue_times every time a task is added to queue.\n",
    "* Modify process_tasks:\n",
    "    * Look up the queue time from the queue_times list.\n",
    "    * Calculate wait_time based on the queue time, and append to wait_times.\n",
    "    * Increment all of the values in queue_times using the code provided earlier.\n",
    "* Run both threads like you did in an earlier screen.\n",
    "* Compute the average wait time and assign to average_wait_time.\n",
    "* Inspect the value of average_wait_time. Is it what you expected? Does the number surprise you at all?\n",
    "* Experiment with changing the sleep times in add_tasks and process_tasks. What happens?\n",
    "* Plot a histogram of wait_times using matplotlib."
   ]
  },
  {
   "cell_type": "code",
   "execution_count": 14,
   "metadata": {},
   "outputs": [
    {
     "name": "stdout",
     "output_type": "stream",
     "text": [
      "10627.641666666666\n"
     ]
    },
    {
     "data": {
      "text/plain": [
       "(array([ 240.,   78.,   78.,   78.,   78.,   78.,  514.,  378.,  464.,  414.]),\n",
       " array([   600.,   2158.,   3716.,   5274.,   6832.,   8390.,   9948.,\n",
       "         11506.,  13064.,  14622.,  16180.]),\n",
       " <a list of 10 Patch objects>)"
      ]
     },
     "execution_count": 14,
     "metadata": {},
     "output_type": "execute_result"
    },
    {
     "data": {
      "image/png": "[encoded data removed]",
      "text/plain": [
       "<matplotlib.figure.Figure at 0x223a5d2abe0>"
      ]
     },
     "metadata": {},
     "output_type": "display_data"
    }
   ],
   "source": [
    "queue = Queue()\n",
    "queue_times = []\n",
    "wait_times = []\n",
    "\n",
    "def add_tasks():\n",
    "    for index, row in applications.iterrows():\n",
    "        queue.push((index + 1, row))\n",
    "        # Insert code here.\n",
    "        queue_times.append(0)\n",
    "        time.sleep(.001)\n",
    "\n",
    "def process_tasks():\n",
    "    tasks_finished = 0\n",
    "    while tasks_finished < 2400:\n",
    "        if queue.count() == 0:\n",
    "            time.sleep(1)\n",
    "        else:\n",
    "            task_number, application = queue.pop()\n",
    "            resp = process_application(application)\n",
    "            tasks_finished += 1\n",
    "            # Insert code here.\n",
    "            wait_times.append(queue_times[task_number-1]*20 + 600)\n",
    "            for i in range(len(queue_times)):\n",
    "                queue_times[i] += 1\n",
    "                \n",
    "t1 = threading.Thread(target=add_tasks)\n",
    "t2 = threading.Thread(target=process_tasks)\n",
    "\n",
    "t1.start()\n",
    "t2.start()\n",
    "for t in [t1,t2]:\n",
    "    t.join()\n",
    "\n",
    "average_wait_time = sum(wait_times) / 2400\n",
    "print(average_wait_time)\n",
    "\n",
    "plt.hist(wait_times)"
   ]
  },
  {
   "cell_type": "code",
   "execution_count": 15,
   "metadata": {},
   "outputs": [
    {
     "data": {
      "text/plain": [
       "[<matplotlib.lines.Line2D at 0x223a66a66a0>]"
      ]
     },
     "execution_count": 15,
     "metadata": {},
     "output_type": "execute_result"
    },
    {
     "data": {
      "image/png": "[encoded data removed]",
      "text/plain": [
       "<matplotlib.figure.Figure at 0x223a4b36400>"
      ]
     },
     "metadata": {},
     "output_type": "display_data"
    }
   ],
   "source": [
    "### real world look, rather than the assumption which assume all applicants would have to come back the next day\n",
    "plt.plot(wait_times)"
   ]
  },
  {
   "cell_type": "code",
   "execution_count": null,
   "metadata": {
    "collapsed": true
   },
   "outputs": [],
   "source": []
  },
  {
   "cell_type": "markdown",
   "metadata": {},
   "source": [
    "### 1.12 Profiling Stacks as Elements Are Added (Stack Over Time)\n",
    "\n",
    "The average wait time using a queue wasn't extremely different from the average wait time when using a stack. However, the histogram of the queue times did look very different. Here's the histogram of wait times for the queue:\n",
    "\n",
    "![img alt](https://s3.amazonaws.com/dq-content/172/queue_wait_time_hist.png)\n",
    "\n",
    "And here's the histogram of wait times using the stack:\n",
    "\n",
    "![img alt](https://s3.amazonaws.com/dq-content/172/wait_time_hist.png)\n",
    "\n",
    "As you can tell from the above histograms, __queues have a much lower maximum wait time__ than stacks used in the same scenario. As you may be able to tell from the histograms, queues:\n",
    "\n",
    "* Are generally best when you want all tasks processed at about the same pace\n",
    "* Have a fairly low maximum wait time for processing tasks\n",
    "\n",
    "And stacks:\n",
    "\n",
    "* Are generally best when you want tasks processed very quickly if possible, but are okay waiting around for a while if not.\n",
    "* Have a fairly high maximum wait time.\n",
    "\n",
    "What we haven't looked into as much so far is __waiting time by position__ in the list of tasks. For example, is it better to be the 2200th task added to a stack or to a queue? Which one will be processed first? We can answer this question by storing wait time by task number, then making a bar plot of how long it took to process each task number, in order.\n",
    "\n",
    "We can do this by initializing wait_times to have one element for each row in applications. Then, we can just store the wait time for a particular task at the position in wait_times whose index equals the task number minus one. This will give us a list, in order of when each application arrived, of how long each application took to process.\n",
    "\n",
    "We'll start by profiling a stack, then compare to a queue.\n",
    "\n",
    "#### Instructions\n",
    "\n",
    "* Create a list called wait_times, with 2400 elements.\n",
    "* Modify process_tasks:\n",
    "    * Compute wait time based on the 20 * applications_processed_before + 600 formula.\n",
    "    * Assign the wait time to the index corresponding to task_number - 1 in wait_times.\n",
    "* Run both threads like you did in an earlier screen.\n",
    "* Plot a bar chart of wait_times using matplotlib.\n",
    "    * The x-axis should be the task number.\n",
    "* What can you tell about the wait times as the stack grows larger from the bar chart? Why do you think the pattern looks the way it does?"
   ]
  },
  {
   "cell_type": "code",
   "execution_count": 16,
   "metadata": {},
   "outputs": [
    {
     "data": {
      "text/plain": [
       "<Container object of 2400 artists>"
      ]
     },
     "execution_count": 16,
     "metadata": {},
     "output_type": "execute_result"
    },
    {
     "data": {
      "image/png": "[encoded data removed]",
      "text/plain": [
       "<matplotlib.figure.Figure at 0x223a466ccc0>"
      ]
     },
     "metadata": {},
     "output_type": "display_data"
    }
   ],
   "source": [
    "queue_times = []\n",
    "wait_times = [0] * 2400  ### Order by position\n",
    "stack = []\n",
    "\n",
    "def add_tasks():\n",
    "    for index, row in applications.iterrows():\n",
    "        stack.insert(0,(index + 1, row))\n",
    "        queue_times.append(0)\n",
    "        time.sleep(.001)\n",
    "\n",
    "def process_tasks():\n",
    "    tasks_finished = 0\n",
    "    while tasks_finished < 2400:\n",
    "        if len(stack) == 0:\n",
    "            time.sleep(1)\n",
    "        else:\n",
    "            task_number, application = stack.pop(0)\n",
    "            resp = process_application(application)\n",
    "            tasks_finished += 1\n",
    "            task_index = task_number - 1\n",
    "            wait_times[task_index] = (queue_times[task_index] * 20 + 600) ### Order by position rather than using L.append()\n",
    "            for i in range(len(queue_times)):\n",
    "                queue_times[i] += 1\n",
    "\n",
    "t1 = threading.Thread(target=add_tasks)\n",
    "t2 = threading.Thread(target=process_tasks)\n",
    "\n",
    "t1.start()\n",
    "t2.start()\n",
    "for t in [t1,t2]:\n",
    "    t.join()\n",
    "\n",
    "plt.bar(range(2400), wait_times) # bar plot - two parameters"
   ]
  },
  {
   "cell_type": "markdown",
   "metadata": {},
   "source": [
    "### 1.13 Profiling Queue as Elements Are Added\n",
    "\n",
    "As you should have seen in the last screen, the bar chart of time taken vs position for a stack looks like this:\n",
    "\n",
    "![img alt](https://s3.amazonaws.com/dq-content/172/stack_over_time.png)\n",
    "\n",
    "The earlier elements kept getting pushed down the stack, and were only processed towards the end, so they had a much longer wait time. Tasks that came into the stack later were processed earlier, so had a much lower wait time. Many tasks were completed immediately, so had very little wait time. From the bar chart, we can see that tasks are either processed immediately, or have to wait until everything ahead of them is processed.\n",
    "\n",
    "Now that we know how each task that is added to the stack is processed, let's do the same thing for queues.\n",
    "\n",
    "#### Instructions\n",
    "\n",
    "* Create a list called wait_times, with 2400 elements.\n",
    "* Modify process_tasks:\n",
    "    * Compute wait time based on the 20 * applications_processed_before + 600 formula.\n",
    "    * Assign the wait time to the index corresponding to task_number - 1 in wait_times.\n",
    "* Run both threads like you did in an earlier screen.\n",
    "* Plot a bar chart of wait_times using matplotlib.\n",
    "    * The x-axis should be the task number.\n",
    "* What can you tell about the wait times as the queue grows larger from the bar chart? Why do you think the pattern looks the way it does?"
   ]
  },
  {
   "cell_type": "code",
   "execution_count": 17,
   "metadata": {},
   "outputs": [
    {
     "data": {
      "text/plain": [
       "<Container object of 2400 artists>"
      ]
     },
     "execution_count": 17,
     "metadata": {},
     "output_type": "execute_result"
    },
    {
     "data": {
      "image/png": "[encoded data removed]",
      "text/plain": [
       "<matplotlib.figure.Figure at 0x223a6d9a5f8>"
      ]
     },
     "metadata": {},
     "output_type": "display_data"
    }
   ],
   "source": [
    "queue_times = []\n",
    "wait_times = [0] * 2400\n",
    "queue = []\n",
    "\n",
    "def add_tasks():\n",
    "    for index, row in applications.iterrows():\n",
    "        queue.append((index + 1, row))\n",
    "        queue_times.append(0)\n",
    "        time.sleep(.001)\n",
    "\n",
    "def process_tasks():\n",
    "    tasks_finished = 0\n",
    "    while tasks_finished < 2400:\n",
    "        if len(queue) == 0:\n",
    "            time.sleep(1)\n",
    "        else:\n",
    "            task_number, application = queue.pop(0)\n",
    "            resp = process_application(application)\n",
    "            tasks_finished += 1\n",
    "            task_index = task_number - 1\n",
    "            wait_times[task_index] = (queue_times[task_index] * 20 + 600)\n",
    "            for i in range(len(queue_times)):\n",
    "                queue_times[i] += 1\n",
    "\n",
    "t1 = threading.Thread(target=add_tasks)\n",
    "t2 = threading.Thread(target=process_tasks)\n",
    "\n",
    "t1.start()\n",
    "t2.start()\n",
    "for t in [t1,t2]:\n",
    "    t.join()\n",
    "\n",
    "plt.bar(range(2400), wait_times)"
   ]
  },
  {
   "cell_type": "markdown",
   "metadata": {},
   "source": [
    "### 1.14 Queues vs Stacks\n",
    "\n",
    "The bar chart for a __queue__ in the last screen should have looked something like this:\n",
    "\n",
    "![img alt](https://s3.amazonaws.com/dq-content/172/queue_over_time.png)\n",
    "\n",
    "This compares to the __stack__ bar chart, which looked like this:\n",
    "\n",
    "![img alt](https://s3.amazonaws.com/dq-content/172/stack_over_time.png)\n",
    "\n",
    "From these charts, we can make some conclusions about stacks and queues as we add more elements. For stacks:\n",
    "\n",
    "* Items added to a stack towards the end are processed much faster than items added towards the beginning.\n",
    "* Some stack tasks are finished almost immediately after they're added.\n",
    "* The worst-case queue time in a stack is equivalent to waiting for every single task to be processed first.\n",
    "\n",
    "On the other hand, for queues:\n",
    "\n",
    "* Items added to a queue towards the end are processed more slowly than items added earlier (this depends strongly on the throughput of the task processor).\n",
    "* Only the first item added to a queue is processed instantly (given that tasks are added faster than they can be processed).\n",
    "* The worst-case queue time for a queue depends on the throughput of the task processor.\n",
    "\n",
    "We can __make some generalizations__ about __stacks and queues__ for __prioritizing tasks__ based on what we've learned:\n",
    "\n",
    "* Stacks are better for tasks where immediacy matters, but if older messages are delivered slowly, it doesn't matter. One example is a __social network like Twitter__ -- __new tweets matter much more than older tweets__, and showing them should be prioritized. Thus you'd want to process and show newer tweets faster if your __system was overloaded__, but could afford to __ignore older ones for a while__.\n",
    "* Queues are better for tasks where __consistency matters__. An example is __ordering delivery__ with a tool like __[Seamless](https://www.seamless.com/)__. Seamless __can't just ignore older orders__, so they need to process everything with a queue to __ensure fairness__.\n",
    "\n",
    "In the DMV example, a stack seems like a better choice for processing tasks, because of the use case -- we want some people to be able to immediately get their license, but everyone else has to wait until the next day. In general, deciding to use a stack or a queue to prioritize tasks __strongly depends on the task itself__. It's advisable to figure out the peformance characteristics of all the components, and the desired characteristics of the prioritization, before deciding whether to use a stack or a queue.\n",
    "\n",
    "In the next mission, we'll cover __arrays and lists in more depth__, and discuss how knowing which data structure you're using can dramatically speed up your analysis."
   ]
  },
  {
   "cell_type": "markdown",
   "metadata": {},
   "source": [
    "## 2. Effectively Using Arrays And Lists"
   ]
  },
  {
   "cell_type": "markdown",
   "metadata": {},
   "source": [
    "### 2.1 Arrays and Binary\n",
    "\n",
    "In the last mission, we learned about __stacks and queues__. To initially __construct__ both data structures, we used a __Python list__. If you recall, you can simulate a queue by removing elements from the beginning of a Python list, or \"top\" of a queue, and adding new elements to the end of the list, or the \"top\" of the queue:\n",
    "\n",
    "```python\n",
    "queue = [1,2]\n",
    "queue.append(3) # queue is now [1,2,3]\n",
    "queue.pop(0) # queue is now [2,3]\n",
    "```\n",
    "\n",
    "You might be surprised to learn that using a list as a queue is __not especially efficient__ -- in fact, the __[Python docs](https://docs.python.org/3/tutorial/datastructures.html#using-lists-as-queues)__ recommend __against using a list this way__. This is due to __how lists are implemented under the hood__. In an earlier mission, we discussed how Python is just a language, and you need an __[interpreter](https://docs.python.org/3/tutorial/interpreter.html)__ to actually execute your code. The most popular interpreter is called __CPython__, and is written in a programming language called C.\n",
    "\n",
    "When you use __CPython__, your __Python lists__ are actually __stored as arrays in C__. An array in C has a few properties:\n",
    "\n",
    "* It has a __fixed size__ that you specify __upfront__.\n",
    "* It can only contains elements of a __single type__.\n",
    "\n",
    "For example, the below line of C code will create an array of 10 integers:\n",
    "\n",
    "```python\n",
    "int array[10];\n",
    "```\n",
    "\n",
    "When you initialize an array in C, a fixed amount of memory is allocated, which will hold all of the values you want to add to the array. Specifying that all the elements of an array are of one type enables how much memory is needed to be calculated. In order to figure out how much memory is needed, we'll need to take a quick tour through how values are stored on a computer.\n",
    "\n",
    "You may have heard that computers store values in binary form -- a number system that can only have the values 0 or 1. Binary is how values are stored and processed on disk, in memory, and in the CPU. Binary contrasts with our more common decimal system, where a number can have the values 0, 1, 2, 3, 4, 5, 6, 7, 8, or 9. Binary is a convenient way to store data since you only need to store 2 \"positions\". There are numerous places in the architecture of a computer where values can only be conveniently stored as two digits. For example, __on a hard disk, if an area is magnetized, it is read as a 1, and if it is demagnetized, it is read as a 0__.\n",
    "\n",
    "As you can see below, when the magnetization in a small area of a hard drive goes south to north, a 1 is read, whereas if it goes the other way, a 0 is read. There are many other cases in computer architecture where it's very easy to store two states, but hard to store more (in the case of magnetization, there isn't really a way to store a 2 because there's no other direction to magnetize in).\n",
    "\n",
    "![img alt](https://s3.amazonaws.com/dq-content/173/hd_read.svg)\n",
    "\n",
    "Let's get some intuition around binary. We won't dive into exactly how it works, but knowing some basics will help us better understand memory allocation for arrays. Take one of your pinkie fingers. Put it down -- that's 0. Now raise it -- that's 1:\n",
    "\n",
    "![img alt](https://s3.amazonaws.com/dq-content/173/binary_fingers.svg)\n",
    "\n",
    "As you can see, you can represent two different numbers with just your pinkie finger -- 0 and 1. Now, let's try your ring finger. If your pinkie finger is up, but your ring finger is down, let's say that represents 2. If both fingers are up, let's call that 3:\n",
    "\n",
    "![img alt](https://s3.amazonaws.com/dq-content/173/binary_fingers_ring_1.svg)\n",
    "\n",
    "With two fingers using the binary system, we can represent one of 4 different numbers:\n",
    "\n",
    "* 0 -- which maps to 0 in the decimal system we're used to.\n",
    "* 1 -- which maps to 1\n",
    "* 10 -- which maps to 2\n",
    "* 11 -- which maps to 3\n",
    "\n",
    "We can add the middle finger into our exercise to see how that affects things:\n",
    "\n",
    "![img alt](https://s3.amazonaws.com/dq-content/173/binary_fingers_middle_1.svg)\n",
    "\n",
    "As you can see, with three fingers we can store the following new numbers:\n",
    "\n",
    "* 100 -- 4\n",
    "* 101 -- 5\n",
    "* 110 -- 6\n",
    "* 111 -- 7\n",
    "\n",
    "It's not important to fully understand binary, but hopefully you see a pattern emerging between how many fingers we use, and how many different numbers we can store:\n",
    "\n",
    "* 1 finger -- 2 numbers.\n",
    "* 2 fingers -- 4 numbers.\n",
    "* 3 fingers -- 8 numbers.\n",
    "\n",
    "For each finger we add, we multiply the range of numbers we can store by 2. We can calculate the range of numbers we can store for an arbitrary number of fingers by using 2 \\** number of fingers. So 2 \\** 4 equals 16, which means we can store any number in the range from 0 to 15 with 4 fingers.\n",
    "\n",
    "Now, think of \"fingers\" as \"units of memory or disk\". A single unit of memory can store 2 numbers (since the values are stored in binary), but 8 units of memory can store 2 \\** 8 different numbers, or 256. This means that you could store any number from 0 to 255 if you had 8 units of memory.\n",
    "\n",
    "__One unit of memory__ is called __bit__, and __8 units of memory__ together are known as a __byte__. You may be familiar with these terms if you've ever shopped for new internet service. __Download speeds__ are often advertised in terms of __kilobits, megabits, or gigabits per second__.\n",
    "\n",
    "Before we continue our discussion on arrays, let's look at how to convert between binary and decimal using Python. You can convert an integer to binary with the __bin()__ function:\n",
    "\n",
    "```python\n",
    "bin(10)\n",
    "# Returns \"0b1010\"\n",
    "```\n",
    "\n",
    "As you can see above, calling bin() on an integer will return a string, with the __prefix 0b__. If you remove the prefix, you can convert the binary string back into a decimal integer:\n",
    "\n",
    "```python\n",
    "int(\"1010\", 2)\n",
    "```\n",
    "\n",
    "The second number you pass into the __int()__ function specifies that we're converting from base 2 (binary) to base 10 (decimal)."
   ]
  },
  {
   "cell_type": "markdown",
   "metadata": {},
   "source": [
    "### 2.2 Arrays and Binary\n",
    "\n",
    "#### Instructions\n",
    "\n",
    "* Convert each number in numbers to binary using bin(). Assign the result to binary.\n",
    "    * Make sure to remove the 0b prefix from each string.\n",
    "* Convert each item in binary back to decimal integers. Assign the result to new_numbers.\n",
    "* Verify that new_numbers is the same as numbers.\n",
    "* Do you see any patterns in binary? Think about how the binary system might work."
   ]
  },
  {
   "cell_type": "code",
   "execution_count": 18,
   "metadata": {},
   "outputs": [
    {
     "data": {
      "text/plain": [
       "True"
      ]
     },
     "execution_count": 18,
     "metadata": {},
     "output_type": "execute_result"
    }
   ],
   "source": [
    "number = list(range(100))\n",
    "binary = [bin(num)[2:] for num in number]\n",
    "new_numbers = [int(b, 2) for b in binary]\n",
    "number == new_numbers"
   ]
  },
  {
   "cell_type": "code",
   "execution_count": 19,
   "metadata": {},
   "outputs": [
    {
     "data": {
      "text/plain": [
       "2352164602504"
      ]
     },
     "metadata": {},
     "output_type": "display_data"
    },
    {
     "data": {
      "text/plain": [
       "2352205126984"
      ]
     },
     "metadata": {},
     "output_type": "display_data"
    }
   ],
   "source": [
    "display(id(number))\n",
    "display(id(new_numbers))"
   ]
  },
  {
   "cell_type": "markdown",
   "metadata": {},
   "source": [
    "### 2.3 Arrays and Lists - (static vs dynamic arrays)\n",
    "\n",
    "Now that you understand binary a little bit better, let's move back to discussing __how arrays allocate memory__. In C, a variable can take one of several types. Here are a few:\n",
    "\n",
    "* char -- a single character from the __ascii__ character set. Represented as a number from 0 to 255. With 256 (2 \\** 8) possible values, we can represent a char as __a single byte in memory__.\n",
    "* int -- at least has the range of values from -32768 to 32767, which corresponds to 65536 (2 \\** 16) possible values, which we can store in __2 bytes__.\n",
    "* unsigned short -- has the range of values from 0 to 65535, which can be stored in __2 bytes__.\n",
    "\n",
    "As you can see, variables in C have a fixed minimum and maximum value they can take on. This __enables allocating memory beforehand__, since we know the number of elements we want, and how much memory each element will need -- we can just multiply the two values to __get the amount of memory we need__. For example, for an int array with 10 elements, we'll need 20 bytes of memory.\n",
    "\n",
    "You may have noticed a __discrepancy__ here -- Python lists are implemented by the interpreter as C arrays, but lists don't have a fixed size, and they can store elements of any type, including Python objects. This is due to two reasons:\n",
    "\n",
    "* The CPython interpreter hides the details of how it stores the values from you. It actually stores list values in an array, but automatically increases the size of the array as you add more elements to the list.\n",
    "* The CPython interpreter creates an __array of pointers__, which point to objects, not an array of values.\n",
    "\n",
    "Together, the above __principles explain__ how Python lists -- an extremely flexible data structure -- can be built using the relatively inflexible array. Let's first explore the idea of growing the size of the array as more elements are added to the list. In order to \"grow\" the size of an array, we need to:\n",
    "\n",
    "* Initialize a new array with a greater size than the old array.\n",
    "* Copy the elements from the old array to the new array.\n",
    "* Replace the old array with the new array.\n",
    "\n",
    "Here's how that might look:\n",
    "\n",
    "![img alt](https://s3.amazonaws.com/dq-content/173/list_copy_1.svg)\n",
    "\n",
    "In practice, this would make appending to a list __extremely inefficient__, since you'd need to copy every element in a list __(O(n))__ every time. Instead, CPython overallocates memory, in order to minimize copying. This means that CPython creates an array that is larger than the number of elements you have. For example, if your list only has 1 element, CPython allocates an array of size 4 so that you can add more elements without being slowed down by copying. There are certain fixed array sizes when CPython will create a new, larger, array, and copy elements over. The first few sizes are 0, 4, 8, 16, 25, and 35. So CPython will only create arrays of size 4, 8, etc. Once a Python list grows to 5 elements, they'll be copied over to a new CPython array of size 8, like this:\n",
    "\n",
    "![img alt](https://s3.amazonaws.com/dq-content/173/list_copy_long.svg)\n",
    "\n",
    "Although this overallocation is slightly memory inefficient, it greatly speeds up how quickly you can append to or insert into lists. We can figure out where the allocation points occur by profiling appending to a list over several thousand iterations.\n"
   ]
  },
  {
   "cell_type": "markdown",
   "metadata": {},
   "source": [
    "### 2.4 Arrays and Lists\n",
    "\n",
    "#### Instructions\n",
    "\n",
    "* Loop from 0 to iterations.\n",
    "    * Initialize a list, l.\n",
    "    * Loop across numbers. The loop variable should be i.\n",
    "        * Start a timer.\n",
    "        * Append i to l.\n",
    "        * End a timer.\n",
    "        * If the key i doesn't exist in times, assign an empty list to times[i].\n",
    "        * Append the total time taken to the key in times with the value i.\n",
    "* Create a list avg_times.\n",
    "* Loop across numbers. Use the loop variable i.\n",
    "    * Find the sum() of all the values in times[i].\n",
    "    * Append the sum to avg_times.\n",
    "* Make a bar plot of numbers against avg_times.\n",
    "* Do you see any patterns in the bar plot? What do you think they tell you?"
   ]
  },
  {
   "cell_type": "code",
   "execution_count": 20,
   "metadata": {},
   "outputs": [
    {
     "data": {
      "text/plain": [
       "<Container object of 20 artists>"
      ]
     },
     "execution_count": 20,
     "metadata": {},
     "output_type": "execute_result"
    },
    {
     "data": {
      "image/png": "[encoded data removed]",
      "text/plain": [
       "<matplotlib.figure.Figure at 0x223a78aaa20>"
      ]
     },
     "metadata": {},
     "output_type": "display_data"
    }
   ],
   "source": [
    "import time\n",
    "import matplotlib.pyplot as plt\n",
    "\n",
    "times = {}\n",
    "iterations = 100000\n",
    "numbers = list(range(20))\n",
    "\n",
    "for iter in range(iterations):\n",
    "    l = []\n",
    "    for i in numbers:\n",
    "        start = time.time()\n",
    "        l.append(i)\n",
    "        end = time.time()\n",
    "        elapsed = end - start\n",
    "        if i not in times:\n",
    "            times[i] = []\n",
    "        times[i].append(elapsed)\n",
    "        \n",
    "avg_times = []\n",
    "for i in numbers:\n",
    "    avg_times.append(sum(times[i]))\n",
    "    \n",
    "plt.figure(figsize=(20,10))    \n",
    "plt.bar(numbers, avg_times, width=0.8)"
   ]
  },
  {
   "cell_type": "markdown",
   "metadata": {},
   "source": [
    "### 2.5 Array Pointers\n",
    "\n",
    "You should have seen a bar plot similar to this in the last screen:\n",
    "\n",
    "![img alt](https://s3.amazonaws.com/dq-content/173/append_plot.png)\n",
    "\n",
    "You may notice __distinct peaks__ around 4, 8, and 16. This corresponds to Python __growing the underlying C array__ to the next largest size when the __size maximum is hit__. This operation takes some time, but appending the 5th element isn't much more costly than appending the 6th element. However, recall that __copying is an O(n) operation__. With large datasets growing the list can become a huge time sink, and we'll look into alternative data structures later in this mission that don't have this limitation.\n",
    "\n",
    "We discussed earlier how Python lists can store data of any type, but C arrays are restricted to a single type. Python lists manage to store any kind of data __thanks to pointers__. A pointer is special kind of variable in C that points to the value of another variable in memory. This allows us to refer to the same value in multiple places without having to copy the value.\n",
    "\n",
    "A good analogy for pointers is the idea of a shared textbook. Let's say I own a textbook, and my friend wants to also read it. I can copy the textbook, and give my friend the copy, but that takes a lot of upfront effort. Instead, I can tell my friend where the book is, and put it in a shared location. This way, my friend can read the textbook whenever they want, but I don't have to put in a lot of effort in beforehand. The __downside__ to this is that any __changes__ my friend makes to the textbook, like highlighting pages, will be reflected to both of us.\n",
    "\n",
    "We can create a __pointer__ for a specific type in C using \\*:\n",
    "\n",
    "```python\n",
    ">> int *ptr;\n",
    "```\n",
    "We can then have the pointer refer to the value in memory of another variable using &:\n",
    "\n",
    "```python\n",
    ">> int x;\n",
    ">> x = 5;\n",
    ">> ptr = &x;\n",
    "```\n",
    "When we __assign &x to ptr__, we're actually assigning a __memory address__, like 0x7fca72d03a38 to ptr. This tells the system where to find the value that x is storing in memory. Using this address, you can access and modify the underlying value. Finally, we can display the value of the variable using the pointer and __\\*__:\n",
    "\n",
    "```python\n",
    ">> printf(\"%i\", *ptr);\n",
    "5\n",
    "```\n",
    "We can also modify the value of the variable through the pointer:\n",
    "\n",
    "```python\n",
    ">> *ptr = 10;\n",
    ">> printf(\"%i\", x);\n",
    "10\n",
    "```\n",
    "Python creates an array of pointers in C. This enables the array to still be of all the __same type (pointers)__, but enables each pointer to point to a different type of variable. The pointer actually stores a memory address, which tells it where in memory the value it points to is.\n",
    "\n",
    "When you're using CPython, you can use the __[id()](https://docs.python.org/3/library/functions.html#id)__ function to see the memory address of any variable. If you wrap this in the __[hex()](https://docs.python.org/3/library/functions.html#hex)__ function, you can convert the address to hexadecimal, which is easier to read:\n",
    "\n",
    "```python\n",
    ">> z = 1\n",
    ">> hex(id(1))\n",
    "0x7fca72d03a38\n",
    "```\n",
    "\n",
    "A __memory address refers to a byte or sequence of bytes in memory__ where values are stored. Think of a computer's memory being divided into addresses. If you have 4096 bytes of memory, each byte will be a separate address, so you'll have 4096 addresses. Addresses are typically shown in __hexadecimal__, and look like 0x7. Because variables in C have fixed sizes, a pointer only stores the __starting memory address__ for a variable, then reads as many bytes as the __size of the variable__ requires:\n",
    "\n",
    "![img alt](https://s3.amazonaws.com/dq-content/173/memory_pointers.svg)"
   ]
  },
  {
   "cell_type": "code",
   "execution_count": 21,
   "metadata": {},
   "outputs": [
    {
     "data": {
      "text/plain": [
       "1724932256"
      ]
     },
     "metadata": {},
     "output_type": "display_data"
    },
    {
     "data": {
      "text/plain": [
       "'0x66d060a0'"
      ]
     },
     "metadata": {},
     "output_type": "display_data"
    },
    {
     "data": {
      "text/plain": [
       "1724932256"
      ]
     },
     "metadata": {},
     "output_type": "display_data"
    }
   ],
   "source": [
    "display(id(1))\n",
    "display(hex(id(1)))\n",
    "display(int(hex(id(1))[2:], 16))"
   ]
  },
  {
   "cell_type": "markdown",
   "metadata": {},
   "source": [
    "### 2.6 Array Pointers\n",
    "\n",
    "#### Instructions\n",
    "\n",
    "* Assign the memory address in hex format of sentence to sentence_hex.\n",
    "* Assign the memory address in hex format of sentence2 to sentence2_hex.\n",
    "* Find the memory address in hex format for each element in values. Assign the result to values_elements_hex.\n",
    "* Find the memory address for values (the whole list). Assign the result to values_hex.\n",
    "* Look at sentence_hex and sentence2_hex. Do you see anything interesting?\n",
    "* Look at the values in values_elements_hex. Is there a pattern?\n",
    "* Look at values_hex. Does it match anything in values_elements_hex? What does that tell you?"
   ]
  },
  {
   "cell_type": "code",
   "execution_count": 22,
   "metadata": {},
   "outputs": [
    {
     "data": {
      "text/plain": [
       "'0x223a6a47c38'"
      ]
     },
     "metadata": {},
     "output_type": "display_data"
    },
    {
     "data": {
      "text/plain": [
       "'0x223a6a47c38'"
      ]
     },
     "metadata": {},
     "output_type": "display_data"
    },
    {
     "data": {
      "text/plain": [
       "True"
      ]
     },
     "metadata": {},
     "output_type": "display_data"
    },
    {
     "data": {
      "text/plain": [
       "True"
      ]
     },
     "metadata": {},
     "output_type": "display_data"
    },
    {
     "data": {
      "text/plain": [
       "2352164604080"
      ]
     },
     "metadata": {},
     "output_type": "display_data"
    },
    {
     "data": {
      "text/plain": [
       "2352164604528"
      ]
     },
     "metadata": {},
     "output_type": "display_data"
    },
    {
     "data": {
      "text/plain": [
       "False"
      ]
     },
     "metadata": {},
     "output_type": "display_data"
    },
    {
     "data": {
      "text/plain": [
       "['0x66d060a0', '0x66d060c0', '0x66d060e0', '0x66d06100', '0x66d06120']"
      ]
     },
     "metadata": {},
     "output_type": "display_data"
    },
    {
     "data": {
      "text/plain": [
       "'0x223ae5dfc08'"
      ]
     },
     "metadata": {},
     "output_type": "display_data"
    }
   ],
   "source": [
    "sentence = \"I desperately want a 1982 Winnebago.\"\n",
    "sentence2 = sentence\n",
    "\n",
    "values = [1,2,3,4,5]\n",
    "\n",
    "#sentence_hex = [hex(id(s)) for s in list(sentence)]\n",
    "\n",
    "#sentence2_hex = [hex(id(s)) for s in list(sentence2)]\n",
    "\n",
    "sentence_hex = hex(id(sentence))\n",
    "sentence2_hex = hex(id(sentence2))\n",
    "\n",
    "values_elements_hex = [hex(id(num)) for num in values]\n",
    "\n",
    "values_hex = hex(id(values))\n",
    "\n",
    "display(sentence_hex)\n",
    "display(sentence2_hex)\n",
    "\n",
    "display(sentence_hex == sentence2_hex)\n",
    "display(sentence is sentence2)\n",
    "\n",
    "display(id(sentence_hex))\n",
    "display(id(sentence2_hex))\n",
    "display(sentence_hex is sentence2_hex)\n",
    "\n",
    "display(values_elements_hex)\n",
    "display(values_hex)\n",
    "\n"
   ]
  },
  {
   "cell_type": "markdown",
   "metadata": {},
   "source": [
    "### 2.7 Implementing An Array\n",
    "\n",
    "Now that we understand __how arrays and Python lists are related__, let's implement an array of our own in Python. The main constraints on this array will be that it will be of __fixed size__, and that it will only store variables of a __single type__. We'll be storing __[Google stock prices on successive days](https://www.google.com/)__, which we'll get from __prices.csv__. This data was downloaded from __[Yahoo Finance](https://finance.yahoo.com/)__ using the code in __download_data.py__. Here are the first few rows of the data:\n",
    "\n",
    "<table class=\"dataframe\">\n",
    "<thead>\n",
    "<tr>\n",
    "<th></th>\n",
    "<th>date</th>\n",
    "<th>price</th>\n",
    "</tr>\n",
    "</thead>\n",
    "<tbody>\n",
    "<tr>\n",
    "<th>0</th>\n",
    "<td>2012-01-03</td>\n",
    "<td>665.411118</td>\n",
    "</tr>\n",
    "<tr>\n",
    "<th>1</th>\n",
    "<td>2012-01-04</td>\n",
    "<td>668.281154</td>\n",
    "</tr>\n",
    "<tr>\n",
    "<th>2</th>\n",
    "<td>2012-01-05</td>\n",
    "<td>659.011109</td>\n",
    "</tr>\n",
    "<tr>\n",
    "<th>3</th>\n",
    "<td>2012-01-06</td>\n",
    "<td>650.021102</td>\n",
    "</tr>\n",
    "<tr>\n",
    "<th>4</th>\n",
    "<td>2012-01-09</td>\n",
    "<td>622.461047</td>\n",
    "</tr>\n",
    "</tbody>\n",
    "</table>\n",
    "\n",
    "We'll create an array that can store stock prices, as well as perform other operations, like removing prices. In order to implement this, we'll use the __[NumPy array type](https://docs.scipy.org/doc/numpy/reference/generated/numpy.ndarray.html)__. The NumPy array type is based on a C array, and behaves very similarly, so it's a __better choice for implementing an array class than a Python list__, which doesn't behave like a C array. We'll implement our own methods like append to better understand how arrays work.\n",
    "\n",
    "To begin with, we can implement the array as a class:\n",
    "\n",
    "```python\n",
    "import numpy as np\n",
    "​\n",
    "class Array():\n",
    "    def __init__(self, size):\n",
    "        self.array = np.zeros(size, dtype=np.float64)\n",
    "        self.size = size\n",
    "```\n",
    "\n",
    "We'll take in an integer specifying the __size__ of the array, then create an array that contains all __0__ values. The __dtype__ indicates that the array will contain float values. We then assign to self.size so we can easily track the size of the array.\n",
    "\n",
    "We can next implement methods that allow us to __access and change values__. We can accomplish this by implementing the __[getitem and setitem methods](https://docs.python.org/3/reference/datamodel.html#object.__getitem__)__. These methods allow you to access items in a class using list-style syntax (list[0] = 0 and print(list[0])).\n",
    "\n",
    "Here's an example:\n",
    "\n",
    "```python\n",
    "class Array():\n",
    "    def __init__(self, size):\n",
    "        self.array = np.zeros(size, dtype=np.float64)\n",
    "        self.size = size\n",
    "​\n",
    "    def __getitem__(self, key):\n",
    "        return self.array[key]\n",
    "```\n",
    "\n",
    "You could then do this:\n",
    "\n",
    "```python\n",
    "arr = Array(10)\n",
    "print(arr[9]) # displays 0.\n",
    "```\n",
    "\n",
    "\n",
    "#### download_data.py\n",
    "```python\n",
    "\n",
    "from yahoo_finance import Share\n",
    "import csv\n",
    "\n",
    "goog = Share('GOOG')\n",
    "data = goog.get_historical('2012-01-01', '2017-03-17')\n",
    "write = []\n",
    "write = [[d[\"Date\"], d[\"Close\"]] for d in data]\n",
    "\n",
    "write = sorted(write, key=lambda x:x[0])\n",
    "write.insert(0,[\"date\", \"price\"])\n",
    "with open(\"prices.csv\", \"w+\") as f:\n",
    "    writer = csv.writer(f)\n",
    "    writer.writerows(write)\n",
    "```\n",
    "\n"
   ]
  },
  {
   "cell_type": "markdown",
   "metadata": {},
   "source": [
    "### 2.8 Implementing An Array\n",
    "\n",
    "* Read in prices.csv.\n",
    "* Extend the Array class shown so that \\__setitem\\__ is also functional.\n",
    "* Create an instance of the array class called prices with 10 elements.\n",
    "* Set the elements of prices to the first 10 prices in prices.csv using \\__setitem\\__.\n",
    "\n",
    "\n",
    "#### I/O\n",
    "* f.read()\n",
    "* f.readline()\n",
    "* f.readlines()"
   ]
  },
  {
   "cell_type": "code",
   "execution_count": 23,
   "metadata": {},
   "outputs": [
    {
     "name": "stdout",
     "output_type": "stream",
     "text": [
      "<__main__.Array object at 0x00000223A9A3AD30>\n",
      "[ 665.411118  668.281154  659.011109  650.021102  622.461047  623.141078\n",
      "  625.961061  629.641069  624.991068  628.581079]\n"
     ]
    }
   ],
   "source": [
    "import numpy as np\n",
    "\n",
    "######## Solution from Dataquest\n",
    "with open(\"Data/prices.csv\", 'r') as f:\n",
    "    data = f.readlines() ### not taking advantage of \n",
    "\n",
    "all_prices = [d.split(\",\")[1] for d in data][1:] \n",
    "all_prices = [float(p.strip()) for p in all_prices]\n",
    "\n",
    "class Array():\n",
    "    def __init__(self, size):\n",
    "        self.array = np.zeros(size, dtype=np.float64)\n",
    "        self.size = size\n",
    "    \n",
    "    def __getitem__(self, key):\n",
    "        return self.array[key]\n",
    "    \n",
    "    def __setitem__(self, key, value):\n",
    "        self.array[key] = value\n",
    "\n",
    "prices = Array(10)\n",
    "\n",
    "for i in range(10):\n",
    "    prices[i] = all_prices[i]\n",
    "        \n",
    "print(prices)\n",
    "print(prices.array)"
   ]
  },
  {
   "cell_type": "code",
   "execution_count": 24,
   "metadata": {
    "collapsed": true
   },
   "outputs": [],
   "source": [
    "import numpy as np\n",
    "import csv\n",
    "\n",
    "class Array:\n",
    "    def __init__(self, size):\n",
    "        self.array = np.zeros(size, dtype=np.float64)\n",
    "        self.size = size\n",
    "        \n",
    "    def __getitem__(self, key):\n",
    "        return self.array[key]\n",
    "    \n",
    "    def __setitem__(self, key, value):\n",
    "        self.array[key] = value"
   ]
  },
  {
   "cell_type": "code",
   "execution_count": 25,
   "metadata": {
    "collapsed": true
   },
   "outputs": [],
   "source": [
    "prices = Array(10)"
   ]
  },
  {
   "cell_type": "code",
   "execution_count": 26,
   "metadata": {
    "collapsed": true
   },
   "outputs": [],
   "source": [
    "with open('Data/prices.csv') as f: # f is both an iterator and an iterable\n",
    "    reader = csv.reader(f) # reader object is an iterator\n",
    "    header = next(reader) # skip the header\n",
    "    for i in range(10): # first 10 data\n",
    "        #prices[i] = float(next(reader)[1].strip())\n",
    "        prices[i] = float(next(reader)[1].strip())\n",
    "\n"
   ]
  },
  {
   "cell_type": "code",
   "execution_count": 27,
   "metadata": {},
   "outputs": [
    {
     "name": "stdout",
     "output_type": "stream",
     "text": [
      "<__main__.Array object at 0x00000223A9854630>\n"
     ]
    },
    {
     "data": {
      "text/plain": [
       "array([ 665.411118,  668.281154,  659.011109,  650.021102,  622.461047,\n",
       "        623.141078,  625.961061,  629.641069,  624.991068,  628.581079])"
      ]
     },
     "execution_count": 27,
     "metadata": {},
     "output_type": "execute_result"
    }
   ],
   "source": [
    "print(prices)\n",
    "prices.array"
   ]
  },
  {
   "cell_type": "markdown",
   "metadata": {},
   "source": [
    "### 2.9 Resizing The Array\n",
    "\n",
    "In the last screen, we implemented an array that allowed for elements to be viewed and changed. However, what happens if we want to add an element to the array? This is where the __insert() method__ of a list comes in handy. The insert method allows someone to add an element at any position, like this:\n",
    "\n",
    "```python\n",
    "list = [1,2,3]\n",
    "list.insert(1,5) # list is now [1,5,2,3]\n",
    "```\n",
    "\n",
    "After implementing a way to insert into our array, we can implement the __[len](https://docs.python.org/3/reference/datamodel.html#object.__len__)__ method, then implement appending like this:\n",
    "\n",
    "```python\n",
    "def append(self, value):\n",
    "    self.insert(len(self), value)\n",
    "```\n",
    "\n",
    "To allow for insertion into an array, we'll need to figure out a way to:\n",
    "\n",
    "* Create a new array with one more element than the current array.\n",
    "* Loop across the old array and copy elements into the new array.\n",
    "    * When we hit the index that we want to insert the new element into, insert it, then keep going.\n",
    "\n",
    "Here's a diagram:\n",
    "\n",
    "![img alt](https://s3.amazonaws.com/dq-content/173/list_insertion.svg)\n",
    "\n",
    "#### Instructions\n",
    "\n",
    "* Implement a method in the Array class called insert. It should:\n",
    "    * Take in a position to insert in, then a number to insert.\n",
    "    * Create an array one element larger than the old array.\n",
    "    * Increment self.size.\n",
    "    * Loop across each element in self.array, and copy it into the same position in the new array.\n",
    "        * If the position we're inserting into is the same we're copying into, then copy the new element, then the old element.\n",
    "        * Keep track of the position we're copying from, and the position we're copying into, because the insertion will make them different.\n",
    "    * If we're inserting at the end of the array (position to insert == self.size), then add the value to the end of the new array.\n",
    "    * Replace self.array with the new array.\n",
    "* Implement the \\__len\\__ method on the Array class that returns the size of the array.\n",
    "* Implement an append method on the Array class.\n",
    "* Instatiate an instance of Array called prices, with size 0.\n",
    "* Append the first 100 prices from prices.csv to prices.\n",
    "* Insert 646.921081 into position 50 in prices. "
   ]
  },
  {
   "cell_type": "code",
   "execution_count": 28,
   "metadata": {},
   "outputs": [
    {
     "name": "stdout",
     "output_type": "stream",
     "text": [
      "646.921081\n"
     ]
    }
   ],
   "source": [
    "##########3 Solution from Dataquest\n",
    "class Array():\n",
    "    def __init__(self, size):\n",
    "        self.array = np.zeros(size, dtype=np.float64)\n",
    "        self.size = size\n",
    "    \n",
    "    def __getitem__(self, key):\n",
    "        return self.array[key]\n",
    "    \n",
    "    def __setitem__(self, key, value):\n",
    "        self.array[key] = value\n",
    "        \n",
    "    def insert(self, position, value):\n",
    "        new_array = np.zeros(self.size+1, dtype=np.float64)\n",
    "        new_pos = 0\n",
    "        for i, item in enumerate(self.array):\n",
    "            if i == position:\n",
    "                new_array[new_pos] = value\n",
    "                new_pos += 1\n",
    "            new_array[new_pos] = item\n",
    "            new_pos += 1\n",
    "        if position == self.size:\n",
    "            new_array[new_pos] = value\n",
    "        self.size += 1\n",
    "        self.array = new_array\n",
    "        \n",
    "    def __len__(self):\n",
    "        return self.size\n",
    "    \n",
    "    def append(self, value):\n",
    "        self.insert(len(self), value)\n",
    "        \n",
    "prices = Array(0)\n",
    "\n",
    "for price in all_prices[:100]:\n",
    "    prices.append(price)\n",
    "    \n",
    "prices.insert(50, 646.921081)   \n",
    "print(prices[50])"
   ]
  },
  {
   "cell_type": "code",
   "execution_count": 29,
   "metadata": {
    "collapsed": true
   },
   "outputs": [],
   "source": [
    "#### My Answer:\n",
    "\n",
    "class Array():\n",
    "    def __init__(self, size):\n",
    "        self.array = np.zeros(size, dtype=np.float64)\n",
    "        self.size = size\n",
    "    \n",
    "    def __getitem__(self, key):\n",
    "        return self.array[key]\n",
    "    \n",
    "    def __setitem__(self, key, value):\n",
    "        self.array[key] = value\n",
    "        \n",
    "    def insert(self, key, value):\n",
    "        self.size += 1\n",
    "        new_array = np.zeros(self.size, dtype=np.float64)\n",
    "        for i in range(self.size):\n",
    "            if i < key:\n",
    "                new_array[i] = self.array[i]\n",
    "            elif i == key:\n",
    "                new_array[i] = value\n",
    "            else:\n",
    "                new_array[i] = self.array[i-1]\n",
    "        self.array = new_array\n",
    "        \n",
    "    def __len__(self):\n",
    "        return self.size\n",
    "    \n",
    "    def append(self, value):\n",
    "        self.insert(self.size, value)"
   ]
  },
  {
   "cell_type": "code",
   "execution_count": 30,
   "metadata": {
    "collapsed": true
   },
   "outputs": [],
   "source": [
    "prices = Array(0)"
   ]
  },
  {
   "cell_type": "code",
   "execution_count": 31,
   "metadata": {},
   "outputs": [
    {
     "name": "stdout",
     "output_type": "stream",
     "text": [
      "100\n",
      "101\n"
     ]
    },
    {
     "data": {
      "text/plain": [
       "646.92108099999996"
      ]
     },
     "execution_count": 31,
     "metadata": {},
     "output_type": "execute_result"
    }
   ],
   "source": [
    "with open('Data/prices.csv') as f:\n",
    "    reader = csv.reader(f)\n",
    "    header = next(reader)\n",
    "    for i in range(100):\n",
    "        value = float(next(reader)[1].strip())\n",
    "        prices.append(value)\n",
    "\n",
    "print(len(prices))\n",
    "\n",
    "prices.insert(50, 646.921081)\n",
    "print(len(prices))\n",
    "prices[50]"
   ]
  },
  {
   "cell_type": "markdown",
   "metadata": {},
   "source": [
    "### 2.10 Resizing The Array\n",
    "\n",
    "Now that we've learned how to insert elements into the array, let's experiment with removing them. Removing an element is very similar to insertion:\n",
    "\n",
    "![img alt](https://s3.amazonaws.com/dq-content/173/list_removal.svg)\n",
    "\n",
    "As you can see above, we:\n",
    "\n",
    "* Loop through each element in the old array\n",
    "    * If the element isn't the one we want to remove, copy it over to the new array\n",
    "    * If we want to remove it, just skip to the next element\n",
    "\n",
    "We'll have to keep track of the index we're copying from (in the old array), and the index we're copying to (in the new array), because the indices will diverge after we \"skip\" the item in the old array to be removed.\n",
    "\n",
    "#### Instructions\n",
    "\n",
    "* Implement a method in the Array class called pop. It should:\n",
    "    * Take in a position to pop.\n",
    "    * Create an array one element smaller than the old array.\n",
    "    * Decrement self.size.\n",
    "    * Loop across each element in self.array, and copy it into the same position in the new array.\n",
    "        * If we're removing the element in the position, assign the element to removed, then skip copying it.\n",
    "        * Keep track of the position we're copying from, and the position we're copying into, because the removal will make them different.\n",
    "    * Replace self.array with the new array.\n",
    "    * Return removed.\n",
    "* Instatiate an instance of Array called prices, with size 0.\n",
    "* Append the first 100 prices from prices.csv to prices.\n",
    "* Pop the element at position 40 in prices."
   ]
  },
  {
   "cell_type": "code",
   "execution_count": 32,
   "metadata": {
    "collapsed": true
   },
   "outputs": [],
   "source": [
    "class Array():\n",
    "    def __init__(self, size):\n",
    "        self.array = np.zeros(size, dtype=np.float64)\n",
    "        self.size = size\n",
    "    \n",
    "    def __getitem__(self, key):\n",
    "        return self.array[key]\n",
    "    \n",
    "    def __setitem__(self, key, value):\n",
    "        self.array[key] = value\n",
    "        \n",
    "    def insert(self, key, value):\n",
    "        self.size += 1\n",
    "        new_array = np.zeros(self.size, dtype=np.float64)\n",
    "        for i in range(self.size):\n",
    "            if i < key:\n",
    "                new_array[i] = self.array[i]\n",
    "            elif i == key:\n",
    "                new_array[i] = value\n",
    "            else:\n",
    "                new_array[i] = self.array[i-1]\n",
    "        self.array = new_array\n",
    "        \n",
    "    def __len__(self):\n",
    "        return self.size\n",
    "    \n",
    "    def append(self, value):\n",
    "        self.insert(self.size, value)\n",
    "        \n",
    "    def pop(self, key=None): ## to pop out the last element by default\n",
    "        self.size -= 1\n",
    "        new_array = np.zeros(self.size, dtype=np.float64)\n",
    "        if key == None:\n",
    "            removed = self.array[self.size]\n",
    "            for i in range(self.size):\n",
    "                new_array[i] = self.array[i]\n",
    "            self.array = new_array\n",
    "            return removed\n",
    "        else:\n",
    "            removed = self.array[key]\n",
    "            for i in range(self.size):\n",
    "                if i < key:\n",
    "                    new_array[i] = self.array[i]\n",
    "                elif i == key:\n",
    "                    pass\n",
    "                else:\n",
    "                    new_array[i] = self.array[i+1]\n",
    "            self.array = new_array\n",
    "            return removed           "
   ]
  },
  {
   "cell_type": "code",
   "execution_count": 33,
   "metadata": {
    "collapsed": true
   },
   "outputs": [],
   "source": [
    "prices = Array(0)"
   ]
  },
  {
   "cell_type": "code",
   "execution_count": 34,
   "metadata": {},
   "outputs": [
    {
     "name": "stdout",
     "output_type": "stream",
     "text": [
      "100\n"
     ]
    }
   ],
   "source": [
    "with open('Data/prices.csv') as f:\n",
    "    reader = csv.reader(f)\n",
    "    header = next(reader)\n",
    "    for i in range(100):\n",
    "        value = float(next(reader)[1].strip())\n",
    "        prices.append(value)\n",
    "print(len(prices))"
   ]
  },
  {
   "cell_type": "code",
   "execution_count": 35,
   "metadata": {},
   "outputs": [
    {
     "name": "stdout",
     "output_type": "stream",
     "text": [
      "622.401069\n",
      "622.401069\n",
      "99\n",
      "603.661013\n"
     ]
    },
    {
     "data": {
      "text/plain": [
       "603.66101300000003"
      ]
     },
     "execution_count": 35,
     "metadata": {},
     "output_type": "execute_result"
    }
   ],
   "source": [
    "print(prices[40])\n",
    "print(prices.pop(40))\n",
    "print(len(prices))\n",
    "print(prices[-1])\n",
    "prices.pop()"
   ]
  },
  {
   "cell_type": "code",
   "execution_count": 36,
   "metadata": {},
   "outputs": [
    {
     "data": {
      "text/plain": [
       "622.40106900000001"
      ]
     },
     "execution_count": 36,
     "metadata": {},
     "output_type": "execute_result"
    }
   ],
   "source": [
    "########### Solution from Dataquest\n",
    "\n",
    "class Array():\n",
    "    def __init__(self, size):\n",
    "        self.array = np.zeros(size, dtype=np.float64)\n",
    "        self.size = size\n",
    "    \n",
    "    def __getitem__(self, key):\n",
    "        return self.array[key]\n",
    "    \n",
    "    def __setitem__(self, key, value):\n",
    "        self.array[key] = value\n",
    "    \n",
    "    def insert(self, position, value):\n",
    "        new_array = np.zeros(self.size + 1, dtype=np.float64)\n",
    "        new_pos = 0\n",
    "        for i, item in enumerate(self.array):\n",
    "            if i == position:\n",
    "                new_array[new_pos] = value\n",
    "                new_pos += 1\n",
    "            new_array[new_pos] = item\n",
    "            new_pos += 1\n",
    "        if position == (self.size):\n",
    "            new_array[new_pos] = value\n",
    "        self.size += 1\n",
    "        self.array = new_array\n",
    "    \n",
    "    def __len__(self):\n",
    "        return self.size\n",
    "    \n",
    "    def append(self, value):\n",
    "        self.insert(self.size, value)\n",
    "    \n",
    "    def pop(self, position):\n",
    "        new_array = np.zeros(self.size - 1, dtype=np.float64)\n",
    "        removed = None\n",
    "        new_position = 0\n",
    "        for i, item in enumerate(self.array):\n",
    "            if i == position:\n",
    "                removed = self.array[i]\n",
    "                continue\n",
    "            new_array[new_position] = self.array[i]\n",
    "            new_position += 1\n",
    "        self.array = new_array\n",
    "        self.size -= 1\n",
    "        return removed\n",
    "\n",
    "prices = Array(0)\n",
    "\n",
    "for price in all_prices[:100]:\n",
    "    prices.append(price)\n",
    "\n",
    "prices.pop(40)"
   ]
  },
  {
   "cell_type": "code",
   "execution_count": null,
   "metadata": {
    "collapsed": true
   },
   "outputs": [],
   "source": []
  },
  {
   "cell_type": "markdown",
   "metadata": {},
   "source": [
    "### 2.11 Linked Lists (Random Access V.S. Sequential Access)\n",
    "\n",
    "From the past few screens, you should have noted a few characteristics of arrays:\n",
    "\n",
    "* __Looking up__ elements is fast, since you just need to pass an index. The value is immediately fetched from memory. In fact, lookups are __O(1)__, since they happen in __constant time__, irrespective of the size of the array.\n",
    "* Inserting or removing elements from an array takes __O(n)__ time, since you need to __loop over__ each of the elements.\n",
    "* Arrays needs to be __resized__ when you want to add more elements than their size, so that more memory can be allocated.\n",
    "* It's not necessary to resize an array when you remove an element -- you can just copy over all of the elements to the new array, and leave a 0 or null value at the end. ?????\n",
    "\n",
    "When you're working with __dynamic data__ that keeps having new entries added, some of the characteristics of an array -- namely the performance penalty of insertions -- can become a __burden__. In these cases, it can be useful to use another type of data structure called a __linked list__. A linked list is not the same as a Python list (as we discussed, __Python lists are actually implemented as arrays__). Linked lists differ from arrays in that they don't have a fixed size. Instead of allocating memory for a certain number of elements of a certain type __beforehand__, linked lists allow you to __flexibly__ add as many elements as you want. Linked lists achieve this by __storing links between items__. Here's how they compare to arrays:\n",
    "\n",
    "![img alt](https://s3.amazonaws.com/dq-content/173/arrays_ll.svg)\n",
    "\n",
    "Let's go through an example to understand how these links work. Let's say that we have the first 5 stock prices from all_prices, stored as separate variables:\n",
    "\n",
    "```python\n",
    "price_1 = 665.411118\n",
    "price_2 = 668.281154\n",
    "price_3 = 659.011109\n",
    "price_4 = 650.021102\n",
    "price_5 = 622.461047\n",
    "```\n",
    "\n",
    "While it's certainly possible to store all of the prices as separate variables, this can __quickly become painful__ for a few reasons:\n",
    "\n",
    "    * We won't be able to quickly perform operations like finding the average of all of the prices.\n",
    "    * We'll have to keep track of hundreds of variables.\n",
    "    * We won't easily be able to process values in a loop or the equivalent.\n",
    "\n",
    "When we have disconnected data like this, a good model is to think of each variable as a separate node. We can enforce this separation more clearly by making a separate class to hold each variable:\n",
    "\n",
    "```python\n",
    "class Node():\n",
    "    def __init__(self, value):\n",
    "        self.value = value\n",
    "```\n",
    "\n",
    "We can then create five nodes:\n",
    "\n",
    "```python\n",
    "price_1 = Node(665.411118)\n",
    "price_2 = Node(668.281154)\n",
    "price_3 = Node(659.011109)\n",
    "price_4 = Node(650.021102)\n",
    "price_5 = Node(622.461047)\n",
    "```\n",
    "\n",
    "We have 5 nodes now, which are defined as their own classes. But we want each node to be linked, like this:\n",
    "\n",
    "![img alt](https://s3.amazonaws.com/dq-content/173/linked_list_nodes.svg)\n",
    "\n",
    "In effect, we're linking each price to the price on the next day. This makes sense, since our data is __sequential__. It's very similar to indexing an array of prices with prices[0] then prices[1]. Our links just show that price_2 comes after price_1. We can create these links in code by \"pointing\" nodes at the next node:\n",
    "\n",
    "```python\n",
    "class Node():\n",
    "    def __init__(self, value):\n",
    "        self.value = value\n",
    "        self.next_node = None\n",
    "​\n",
    "    def set_next_node(self, node):\n",
    "        self.next_node = node\n",
    "```\n",
    "\n",
    "We can then set up each node to point to the next node:\n",
    "\n",
    "```python\n",
    "price_1.set_next_node(price_2)\n",
    "price_2.set_next_node(price_3)\n",
    "price_3.set_next_node(price_4)\n",
    "price_4.set_next_node(price_5)\n",
    "```\n",
    "\n",
    "After we've setup all of the next nodes, we can print out all of the prices using a while loop:\n",
    "\n",
    "```python\n",
    "current_node = price_1\n",
    "while current_node.next_node is not None:\n",
    "    print(current_node.value)\n",
    "    current_node = current_node.next_node\n",
    "print(current_node.value)\n",
    "```\n",
    "\n",
    "Here's what will happen with the above code:\n",
    "\n",
    "![img alt](https://s3.amazonaws.com/dq-content/173/linked_list_loop.svg)\n",
    "\n",
    "Here's an alternative view of what's happening:\n",
    "\n",
    "![img alt](https://s3.amazonaws.com/dq-content/173/linked_list_loop_nodes.svg)\n",
    "\n",
    "As you can see, our loop iterates through each node. Remarkably, all you need to know to do this is the next node of each node. You don't need to know all the value you're storing upfront, or their types. You just need to know the value of the current node, and a pointer to the next node. This property makes linked lists incredibly versatile.\n",
    "\n",
    "Before we explore linked lists more, let's work on an __append method__ for linked lists.\n",
    "\n"
   ]
  },
  {
   "cell_type": "markdown",
   "metadata": {},
   "source": [
    "### 2.12 Linked Lists\n",
    "\n",
    "\n",
    "#### Instructions\n",
    "\n",
    "* Modify the Node class shown to add an append method that takes in a value argument, and:\n",
    "    * Creates a new node with the specified value.\n",
    "    * Sets the node to be the next_node for the current node.\n",
    "    * Returns the new node.\n",
    "* Create the first node of a linked list called price_1, with the value of the first price in all_prices.\n",
    "* Use the append method to append the next 4 prices from all_prices to the linked list.\n",
    "* Loop through the linked list, starting from the first node, and print out each value."
   ]
  },
  {
   "cell_type": "code",
   "execution_count": 37,
   "metadata": {
    "collapsed": true
   },
   "outputs": [],
   "source": [
    "import csv\n",
    "\n",
    "with open('Data/prices.csv') as f:\n",
    "    reader = csv.reader(f)\n",
    "    header = next(reader)\n",
    "    all_prices = [float(price[1].strip()) for price in reader]"
   ]
  },
  {
   "cell_type": "code",
   "execution_count": null,
   "metadata": {
    "collapsed": true
   },
   "outputs": [],
   "source": []
  },
  {
   "cell_type": "code",
   "execution_count": 38,
   "metadata": {
    "collapsed": true
   },
   "outputs": [],
   "source": [
    "class Node:\n",
    "    def __init__(self, value):\n",
    "        self.value = value\n",
    "        self.next_node = None\n",
    "        \n",
    "    def set_next_node(self, node):\n",
    "        self.next_node = node\n",
    "        \n",
    "    def append(self, value):\n",
    "        self.next_node = Node(value)\n",
    "        return self.next_node\n",
    "    \n",
    "    \n",
    "    \n",
    "        "
   ]
  },
  {
   "cell_type": "code",
   "execution_count": 39,
   "metadata": {
    "collapsed": true
   },
   "outputs": [],
   "source": [
    "price_1 = Node(all_prices[0])\n",
    "price_2 = price_1.append(all_prices[1])\n",
    "price_3 = price_2.append(all_prices[2])\n",
    "price_4 = price_3.append(all_prices[3])\n",
    "price_5 = price_4.append(all_prices[4])"
   ]
  },
  {
   "cell_type": "code",
   "execution_count": 40,
   "metadata": {},
   "outputs": [
    {
     "name": "stdout",
     "output_type": "stream",
     "text": [
      "665.411118\n",
      "668.281154\n",
      "659.011109\n",
      "650.021102\n",
      "622.461047\n"
     ]
    }
   ],
   "source": [
    "current_node = price_1\n",
    "while current_node.next_node is not None:\n",
    "    print(current_node.value)\n",
    "    current_node = current_node.next_node\n",
    "print(current_node.value)"
   ]
  },
  {
   "cell_type": "code",
   "execution_count": 41,
   "metadata": {},
   "outputs": [
    {
     "data": {
      "text/plain": [
       "[665.411118, 668.281154, 659.011109, 650.021102, 622.461047]"
      ]
     },
     "execution_count": 41,
     "metadata": {},
     "output_type": "execute_result"
    }
   ],
   "source": [
    "all_prices[:5]"
   ]
  },
  {
   "cell_type": "code",
   "execution_count": 42,
   "metadata": {},
   "outputs": [
    {
     "name": "stdout",
     "output_type": "stream",
     "text": [
      "665.411118\n",
      "668.281154\n",
      "659.011109\n",
      "650.021102\n",
      "622.461047\n"
     ]
    }
   ],
   "source": [
    "##### Solutions from Dataquest\n",
    "\n",
    "class Node():\n",
    "    def __init__(self, value):\n",
    "        self.value = value\n",
    "        self.next_node = None\n",
    "    \n",
    "    def set_next_node(self, node):\n",
    "        self.next_node = node\n",
    "    \n",
    "    def append(self, value):\n",
    "        next_node = Node(value)\n",
    "        self.next_node = next_node\n",
    "        return next_node\n",
    "    \n",
    "price_1 = Node(all_prices[0])\n",
    "node = price_1\n",
    "for i in all_prices[1:5]:\n",
    "    node = node.append(i)\n",
    "\n",
    "current_node = price_1\n",
    "while current_node.next_node is not None:\n",
    "    print(current_node.value)\n",
    "    current_node = current_node.next_node\n",
    "print(current_node.value)"
   ]
  },
  {
   "cell_type": "code",
   "execution_count": null,
   "metadata": {
    "collapsed": true
   },
   "outputs": [],
   "source": []
  },
  {
   "cell_type": "markdown",
   "metadata": {},
   "source": [
    "### 2.13 Indexing a Linked List\n",
    "\n",
    "\n",
    "After appending data to a linked list, we may want to access the second value in the list, or the tenth. With an array, this is simple -- we just call array[1] to get the second value, for example. With a linked list, we need to __loop through the list__ until we get to the index we want. Here's an example:\n",
    "\n",
    "![img alt](https://s3.amazonaws.com/dq-content/173/linked_list_search.svg)\n",
    "\n",
    "As you can see, we move \"down\" the linked list 2 positions from price_1, then return that node. Because of how a linked list is structured, we need to scan through the list to find the item we want -- we can't just directly index it like in an array.\n",
    "\n",
    "We don't have to keep references to each node in a linked list as variables, but we want to keep the first node around. This is because without the first node, we have no way to refer to the other nodes. Assigning the first node to a variable will allow us to use the first node to index the rest. Since each node contains a reference to the next node, we can reference the whole linked list from the first node.\n",
    "\n",
    "#### Instructions\n",
    "\n",
    "* Implement an __getitem__ method on the Node class like we did with our Array class earlier. It should:\n",
    "    * Take in a position.\n",
    "    * Iterate through the next nodes until you get to the position.\n",
    "    * Return the current node.\n",
    "* Create the first node of a linked list called price_1, with the value of the first price in all_prices.\n",
    "* Use the append method to append the next 4 prices from all_prices to the linked list.\n",
    "* Index the linked list (using price_1), and print the value of the 3rd and 4th elements.\n",
    "\n"
   ]
  },
  {
   "cell_type": "code",
   "execution_count": 43,
   "metadata": {
    "collapsed": true
   },
   "outputs": [],
   "source": [
    "class Node():\n",
    "    def __init__(self, value):\n",
    "        self.value = value\n",
    "        self.next_node = None\n",
    "    \n",
    "    def set_next_node(self, node):\n",
    "        self.next_node = node\n",
    "    \n",
    "    def append(self, value):\n",
    "        self.next_node = Node(value)\n",
    "        return self.next_node\n",
    "    \n",
    "    def __getitem__(self, key):\n",
    "        pos = 0\n",
    "        current_node = self\n",
    "        while pos < key:\n",
    "            current_node = current_node.next_node\n",
    "            pos += 1\n",
    "        return current_node\n",
    "            "
   ]
  },
  {
   "cell_type": "code",
   "execution_count": 44,
   "metadata": {
    "collapsed": true
   },
   "outputs": [],
   "source": [
    "price_1 = Node(all_prices[0])\n",
    "node = price_1\n",
    "for i in range(1,5):\n",
    "    node = node.append(all_prices[i])"
   ]
  },
  {
   "cell_type": "code",
   "execution_count": 45,
   "metadata": {},
   "outputs": [
    {
     "name": "stdout",
     "output_type": "stream",
     "text": [
      "650.021102\n"
     ]
    }
   ],
   "source": [
    "print(price_1[3].value)"
   ]
  },
  {
   "cell_type": "code",
   "execution_count": 46,
   "metadata": {},
   "outputs": [
    {
     "name": "stdout",
     "output_type": "stream",
     "text": [
      "659.011109\n"
     ]
    }
   ],
   "source": [
    "##### Solutions from Dataquest\n",
    "\n",
    "class Node():\n",
    "    def __init__(self, value):\n",
    "        self.value = value\n",
    "        self.next_node = None\n",
    "    \n",
    "    def set_next_node(self, node):\n",
    "        self.next_node = node\n",
    "    \n",
    "    def append(self, value):\n",
    "        next_node = Node(value)\n",
    "        self.next_node = next_node\n",
    "        return next_node\n",
    "    \n",
    "    def __getitem__(self, key):\n",
    "        node = self\n",
    "        counter = 0\n",
    "        while counter < key:\n",
    "            node = node.next_node\n",
    "            counter += 1\n",
    "        return node\n",
    "    \n",
    "price_1 = Node(all_prices[0])\n",
    "node = price_1\n",
    "for i in all_prices[1:5]:\n",
    "    node = node.append(i)\n",
    "\n",
    "print(price_1[2].value)"
   ]
  },
  {
   "cell_type": "code",
   "execution_count": null,
   "metadata": {
    "collapsed": true
   },
   "outputs": [],
   "source": []
  },
  {
   "cell_type": "markdown",
   "metadata": {},
   "source": [
    "### 2.14 Inserting Into A Linked List\n",
    "\n",
    "As we saw in two screens ago, appending to a linked list is very efficient. This is because we don't need to move any elements, we just add a new pointer to the next item in the linked list. Inserting and element into a linked list is similarly straightforward. Because the elements don't have a fixed position (they just refer to the next item in the chain), we only need to update a single element:\n",
    "\n",
    "![img alt](https://s3.amazonaws.com/dq-content/173/linked_list_insert.svg)\n",
    "\n",
    "As you can see above, we:\n",
    "\n",
    "Create a new node with the data we want to add.\n",
    "Point the previous element in the linked list at the new node.\n",
    "Point the new node at the next element in the linked list.\n",
    "We essentially split the linked list into two pieces, then join the pieces with a new node:\n",
    "\n",
    "\n",
    "![img alt](https://s3.amazonaws.com/dq-content/173/linked_list_insert2.svg)\n",
    "\n",
    "If we're inserting at the first or last position in the linked list, we only need to worry about joining the new node to a single \"old\" node. If you're inserting into position 0, your linked list has a new \"start\" node, so you'll need to replace the old start node with it. To handle inserting into position 0, we'll need to return the new \"top\" node from insert each time. Here's a diagram:\n",
    "\n",
    "![img alt](https://s3.amazonaws.com/dq-content/173/linked_list_insert_top.svg)\n",
    "\n",
    "#### Instructions\n",
    "\n",
    "* Implement an insert method on the Node class like we did with the Array class earlier. It should:\n",
    "    * Take in a position and value.\n",
    "    * Create a new node containing value.\n",
    "    * Handle the case when position equals 0.\n",
    "    * Find the nodes before and after the position of the new node we'll be inserting. (split_start and split_end)\n",
    "    * Insert the new node in between split_start and split_end.\n",
    "    * Return the new \"top\" node.\n",
    "        * This will be self unless we've inserted into position 0.\n",
    "* Create the first node of a linked list called price_1, with the value of the first price in all_prices.\n",
    "* Use the append method to append the next 4 prices from all_prices to the linked list.\n",
    "* Insert the element with index 5 in all_prices into position 3 of the linked list.\n",
    "    * Assign the result back to price_1.\n",
    "* Insert the element with index 6 in all_prices into position 0 of the linked list.\n",
    "    * Make sure to assign this node to price_1, since it's now the first node in the list.\n",
    "* Insert the element with index 7 in all_prices into position 7 of the linked list.\n",
    "    * Assign the result back to price_1.\n",
    "* Print the value of the node at position 4 in the list."
   ]
  },
  {
   "cell_type": "code",
   "execution_count": 47,
   "metadata": {
    "collapsed": true
   },
   "outputs": [],
   "source": [
    "class Node():\n",
    "    def __init__(self, value):\n",
    "        self.value = value\n",
    "        self.next_node = None\n",
    "    \n",
    "    def set_next_node(self, node):\n",
    "        self.next_node = node\n",
    "    \n",
    "    def append(self, value):\n",
    "        self.next_node = Node(value)\n",
    "        return self.next_node\n",
    "    \n",
    "    def __getitem__(self, key):\n",
    "        pos = 0\n",
    "        current_node = self\n",
    "        while pos < key:\n",
    "            current_node = current_node.next_node\n",
    "            pos += 1\n",
    "        return current_node\n",
    "    \n",
    "    def insert(self, key, value):\n",
    "        new_node = Node(value)\n",
    "        if key == 0:\n",
    "            old_head = self\n",
    "            new_head = new_node\n",
    "            self = new_head\n",
    "            self.next_node = old_head\n",
    "        else:\n",
    "            split_start = self[key-1]  ### searching\n",
    "            split_end = split_start.next_node\n",
    "            split_start.next_node = new_node\n",
    "            new_node.next_node = split_end\n",
    "        return self "
   ]
  },
  {
   "cell_type": "code",
   "execution_count": 48,
   "metadata": {
    "collapsed": true
   },
   "outputs": [],
   "source": [
    "price_1 = Node(all_prices[0])\n",
    "node = price_1\n",
    "for i in range(1,5):\n",
    "    node = node.append(all_prices[i])\n",
    "    \n",
    "price_1 = price_1.insert(3, all_prices[5])\n",
    "price_1 = price_1.insert(0, all_prices[6])\n",
    "price_1 = price_1.insert(7, all_prices[7])"
   ]
  },
  {
   "cell_type": "code",
   "execution_count": 49,
   "metadata": {},
   "outputs": [
    {
     "data": {
      "text/plain": [
       "623.141078"
      ]
     },
     "execution_count": 49,
     "metadata": {},
     "output_type": "execute_result"
    }
   ],
   "source": [
    "price_1[4].value"
   ]
  },
  {
   "cell_type": "code",
   "execution_count": 50,
   "metadata": {},
   "outputs": [
    {
     "name": "stdout",
     "output_type": "stream",
     "text": [
      "623.141078\n"
     ]
    }
   ],
   "source": [
    "######### Solution from Dataquest\n",
    "\n",
    "class Node():\n",
    "    def __init__(self, value):\n",
    "        self.value = value\n",
    "        self.next_node = None\n",
    "    \n",
    "    def set_next_node(self, node):\n",
    "        self.next_node = node\n",
    "    \n",
    "    def append(self, value):\n",
    "        next_node = Node(value)\n",
    "        self.next_node = next_node\n",
    "        return next_node\n",
    "    \n",
    "    def __getitem__(self, key):\n",
    "        node = self\n",
    "        counter = 0\n",
    "        while counter < key:\n",
    "            node = node.next_node\n",
    "            counter += 1\n",
    "        return node\n",
    "    \n",
    "    def insert(self, position, value):\n",
    "        if position == 0:\n",
    "            node = Node(value)\n",
    "            node.next_node = self\n",
    "            return node\n",
    "        else:\n",
    "            node = Node(value)\n",
    "            split_start = self[position - 1]\n",
    "            split_end = split_start.next_node\n",
    "            split_start.next_node = node\n",
    "            node.next_node = split_end\n",
    "            return self\n",
    "        \n",
    "    \n",
    "price_1 = Node(all_prices[0])\n",
    "node = price_1\n",
    "for i in all_prices[1:5]:\n",
    "    node = node.append(i)\n",
    "\n",
    "price_1 = price_1.insert(3, all_prices[5])\n",
    "price_1 = price_1.insert(0, all_prices[6])\n",
    "price_1 = price_1.insert(7, all_prices[7])\n",
    "\n",
    "print(price_1[4].value)"
   ]
  },
  {
   "cell_type": "code",
   "execution_count": null,
   "metadata": {
    "collapsed": true
   },
   "outputs": [],
   "source": []
  },
  {
   "cell_type": "markdown",
   "metadata": {},
   "source": [
    "### 2.15 Removing From A Linked List\n",
    "\n",
    "Removing values from a linked list is very similar to insertion. We split the list into three pieces, then only join two of the pieces back together:\n",
    "\n",
    "![img alt](https://s3.amazonaws.com/dq-content/173/linked_list_delete.svg)\n",
    "\n",
    "As you can see above, this cuts out a single node, but leaves the rest of the list intact. We can accomplish this by setting the next_node property of a node to the node 2 positions \"down\" the list. This will skip the node in between them, effectively removing it from the list.\n",
    "\n",
    "Note that we'll need to return not only the node we removed (the value we popped from the list), but also the new \"top\" node. This is because if we remove the node at position 0, we'll need to change the \"top\" node to the node at position 1.\n",
    "\n",
    "#### Instructions\n",
    "\n",
    "* Implement a pop method on the Node class like we did with the Array class earlier. It should:\n",
    "    * Take in a position.\n",
    "    * Check if the position is 0, and handle that case.\n",
    "        * Return self as the node that was removed, and self.next_node as the new \"top\" node.\n",
    "    * Find the node just before the node to be removed. Assign to split_start.\n",
    "    * Find the node just after the node to be removed. Assign to split_end.\n",
    "        * Note that this can be None if we're removing the last node in the list.\n",
    "    * Assign split_end to be the next_node of split_start.\n",
    "    * Return the node you removed, and the new top node (should be self).\n",
    "* Create the first node of a linked list called price_1, with the value of the first price in all_prices.\n",
    "* Use the append method to append the next 4 prices from all_prices to the linked list.\n",
    "* Remove the node at position 0.\n",
    "    * Remember to handle the assignment of the new top node.\n",
    "* Remove the node at position 3.\n",
    "    * Remember to handle the assignment of the top node.\n",
    "* Print the value of the node at position 2 in the list."
   ]
  },
  {
   "cell_type": "code",
   "execution_count": 51,
   "metadata": {
    "collapsed": true
   },
   "outputs": [],
   "source": [
    "class Node():\n",
    "    def __init__(self, value):\n",
    "        self.value = value\n",
    "        self.next_node = None\n",
    "    \n",
    "    def set_next_node(self, node):\n",
    "        self.next_node = node\n",
    "    \n",
    "    def append(self, value):\n",
    "        self.next_node = Node(value)\n",
    "        return self.next_node\n",
    "    \n",
    "    def __getitem__(self, key):\n",
    "        pos = 0\n",
    "        current_node = self\n",
    "        while pos < key:\n",
    "            current_node = current_node.next_node\n",
    "            pos += 1\n",
    "        return current_node\n",
    "    \n",
    "    def insert(self, key, value):\n",
    "        new_node = Node(value)\n",
    "        if key == 0:\n",
    "            old_head = self\n",
    "            new_head = new_node\n",
    "            self = new_head\n",
    "            self.next_node = old_head\n",
    "        else:\n",
    "            split_start = self[key-1]  ### searching\n",
    "            split_end = split_start.next_node\n",
    "            split_start.next_node = new_node\n",
    "            new_node.next_node = split_end\n",
    "        return self \n",
    "    \n",
    "    def pop(self, key):\n",
    "        if key == 0:\n",
    "            to_remove = self\n",
    "            self = self.next_node\n",
    "            return self, to_remove\n",
    "        else:\n",
    "            split_start = self[key-1]\n",
    "            to_remove = split_start.next_node\n",
    "            split_end = to_remove.next_node\n",
    "            split_start.next_node = split_end\n",
    "            return self, to_remove"
   ]
  },
  {
   "cell_type": "code",
   "execution_count": 52,
   "metadata": {
    "collapsed": true
   },
   "outputs": [],
   "source": [
    "price_1 = Node(all_prices[0])\n",
    "node = price_1\n",
    "for i in range(1,5):\n",
    "    node = node.append(all_prices[i])"
   ]
  },
  {
   "cell_type": "code",
   "execution_count": 53,
   "metadata": {},
   "outputs": [
    {
     "name": "stdout",
     "output_type": "stream",
     "text": [
      "650.021102\n"
     ]
    }
   ],
   "source": [
    "price_1, _ = price_1.pop(0)\n",
    "price_1, _ = price_1.pop(3)\n",
    "print(price_1[2].value)"
   ]
  },
  {
   "cell_type": "code",
   "execution_count": 54,
   "metadata": {},
   "outputs": [
    {
     "name": "stdout",
     "output_type": "stream",
     "text": [
      "650.021102\n"
     ]
    }
   ],
   "source": [
    "############## Solution from Dataquest\n",
    "\n",
    "class Node():\n",
    "    def __init__(self, value):\n",
    "        self.value = value\n",
    "        self.next_node = None\n",
    "    \n",
    "    def set_next_node(self, node):\n",
    "        self.next_node = node\n",
    "    \n",
    "    def append(self, value):\n",
    "        next_node = Node(value)\n",
    "        self.next_node = next_node\n",
    "        return next_node\n",
    "    \n",
    "    def __getitem__(self, key):\n",
    "        node = self\n",
    "        counter = 0\n",
    "        while counter < key:\n",
    "            node = node.next_node\n",
    "            counter += 1\n",
    "        return node\n",
    "    \n",
    "    def insert(self, position, value):\n",
    "        if position == 0:\n",
    "            node = Node(value)\n",
    "            node.next_node = self\n",
    "            return node\n",
    "        else:\n",
    "            node = Node(value)\n",
    "            split_start = self[position - 1]\n",
    "            split_end = split_start.next_node\n",
    "            split_start.next_node = node\n",
    "            node.next_node = split_end\n",
    "            return self\n",
    "    \n",
    "    def pop(self, position):\n",
    "        if position == 0:\n",
    "            return self, self.next_node\n",
    "        else:\n",
    "            split_start = self[position - 1]\n",
    "            to_remove = split_start.next_node\n",
    "            split_end = to_remove.next_node\n",
    "            split_start.next_node = split_end\n",
    "            return to_remove, self\n",
    "        \n",
    "    \n",
    "price_1 = Node(all_prices[0])\n",
    "node = price_1\n",
    "for i in all_prices[1:5]:\n",
    "    node = node.append(i)\n",
    "\n",
    "removed, price_1 = price_1.pop(0)\n",
    "removed, price_1 = price_1.pop(3)\n",
    "\n",
    "print(price_1[2].value)"
   ]
  },
  {
   "cell_type": "code",
   "execution_count": null,
   "metadata": {
    "collapsed": true
   },
   "outputs": [],
   "source": []
  },
  {
   "cell_type": "markdown",
   "metadata": {},
   "source": [
    "### 2.16 Arrays VS Linked Lists\n",
    "\n",
    "As you've seen in the last few screens, linked lists have the following characteristics:\n",
    "\n",
    "    * You don't have to specify how many nodes you want upfront -- you can store as many values as you want.\n",
    "    * Data isn't restricted to a single type -- you can store any data you want in any node.\n",
    "    * Finding an element in a linked list takes O(n) time since we need to iterate through potentially all of the elements to find the one we want.\n",
    "    * Insertions and deletions are fast since we don't need to copy anything -- we just need to find the insertion or deletion point.\n",
    "\n",
    "In general, linked lists are better if you're storing values, and you don't know how many you want to store. Linked lists are also easier to combine and shuffle (since you're just changing what each node points to), so they can be better in multithreaded scenarios where you're adding to a common list. Because of this, the linked list data structure can be very useful when you're __gathering data__.\n",
    "\n",
    "Arrays are better when you need to access data quickly, but won't be changing it much. Arrays are usually much better for __computation__, such as when you're __analyzing data__.\n",
    "\n",
    "You'll notice that a __Python list tries to combine the best of both__ worlds into a single data structure -- due to __overallocation__, appending to a list can be very quick, and due to __pointers__, lists can store data of multiple types.\n",
    "\n",
    "We'll build on arrays and linked lists in the next two missions, and you'll learn how to sort and search both data structures. This will help you figure out what scenarios in which to use each type of data structure.\n",
    "\n",
    "In the meantime, here are some resources for learning more:\n",
    "\n",
    "* __[Python List Implementation](https://stackoverflow.com/questions/3917574/how-is-pythons-list-implemented)__\n",
    "* __[NumPy Arrays](https://docs.scipy.org/doc/numpy/reference/internals.code-explanations.html)__\n",
    "* __[Linked Lists](https://en.wikipedia.org/wiki/Linked_list)__\n",
    "* __[Arrays](https://en.wikipedia.org/wiki/Array_data_structure)__"
   ]
  },
  {
   "cell_type": "code",
   "execution_count": null,
   "metadata": {
    "collapsed": true
   },
   "outputs": [],
   "source": []
  },
  {
   "cell_type": "markdown",
   "metadata": {},
   "source": [
    "## 3. Sorting Arrats And Lists (Sorting Algorithms)"
   ]
  },
  {
   "cell_type": "markdown",
   "metadata": {},
   "source": [
    "### 3.1 Sorting Arrays\n",
    "\n",
    "In the last mission, we learned about __arrays and linked lists__. In this mission, we'll cover a more concrete usage of both data structures by talking about __sorting__. If you've used a Python list, you're probably familiar with using the __[list.sort](https://docs.python.org/3/tutorial/datastructures.html)__ method to order values. For example, if we have the below list:\n",
    "\n",
    "```python\n",
    ">> values = [5,3,2,10]\n",
    "```\n",
    "\n",
    "We can sort it:\n",
    "\n",
    "```python\n",
    ">> values.sort()\n",
    ">> values\n",
    "[2,3,5,10]\n",
    "```\n",
    "\n",
    "However, there are many cases where the default sorting behavior isn't ideal:\n",
    "\n",
    "    * We have a custom data structure, and we want to sort it. For example, we want to sort a set of JSON files.\n",
    "    * We're working with data that's too large to fit into memory, but we still want to ensure that everything is sorted. This may require splitting the data across multiple machines to sort, and then combining the sorted results.\n",
    "    * We want a custom ordering -- for example, we want to sort locations based on their proximity to one or more cities. We can't sort by simple distance to the closest city, since we want to take distance to multiple cities into account.\n",
    "\n",
    "In cases like the above, you'll need to either find a different sorting mechanism in Python, or code your own sort. Even in cases where you're not directly coding your own sort, understanding how the sorting works can help you pick the sorting mechanism that will complete the fastest.\n",
    "\n",
    "There are a variety of different sorting techniques that have different __time and space complexity tradeoffs__. We'll start with some simple but inefficient sorting algorithms, then dive into more complex algorithms in a later course.\n",
    "\n",
    "Before we dive into trying some sorting algorithms, let's explore the dataset we'll be using. We'll be using a set of bank transaction data that originally came from __[here](C:\\Users\\inuya\\code\\mygit\\DataquestPractice\\Data Engineer Path\\Data)__. Each row is a single credit card transaction, and each column contains attributes of that transaction. A credit card transaction is any time you use a credit card, for example in a coffee shop to buy coffee. We've removed a number of extraneous columns, which leaves us with just two -- Time and Amount:\n",
    "\n",
    "    * Time -- the number of times the credit card used for this transaction has been used.\n",
    "    * Amount -- the dollar amount of the transaction.\n",
    "Here are the first few rows of the data:\n",
    "\n",
    "<table class=\"dataframe\">\n",
    "<thead>\n",
    "<tr>\n",
    "<th></th>\n",
    "<th>Time</th>\n",
    "<th>Amount</th>\n",
    "</tr>\n",
    "</thead>\n",
    "<tbody>\n",
    "<tr>\n",
    "<th>0</th>\n",
    "<td>0.0</td>\n",
    "<td>149.62</td>\n",
    "</tr>\n",
    "<tr>\n",
    "<th>1</th>\n",
    "<td>0.0</td>\n",
    "<td>2.69</td>\n",
    "</tr>\n",
    "<tr>\n",
    "<th>2</th>\n",
    "<td>1.0</td>\n",
    "<td>378.66</td>\n",
    "</tr>\n",
    "<tr>\n",
    "<th>3</th>\n",
    "<td>1.0</td>\n",
    "<td>123.50</td>\n",
    "</tr>\n",
    "<tr>\n",
    "<th>4</th>\n",
    "<td>2.0</td>\n",
    "<td>69.99</td>\n",
    "</tr>\n",
    "</tbody>\n",
    "</table>\n",
    "\n",
    "Let's explore the data to get a handle on it before moving forward."
   ]
  },
  {
   "cell_type": "markdown",
   "metadata": {},
   "source": [
    "### 3.2 Sorting Arrays\n",
    "\n",
    "#### Instructions\n",
    "\n",
    "* Load the data in from amounts.csv using pandas.read_csv().\n",
    "* Create a list called amounts that contains all of the items in the Amount column.\n",
    "* Create a list called times that contains all of the items in the Time column.\n",
    "* Print the average of all the items in amounts."
   ]
  },
  {
   "cell_type": "code",
   "execution_count": 55,
   "metadata": {
    "collapsed": true
   },
   "outputs": [],
   "source": [
    "import pandas as pd\n",
    "from statistics import mean\n",
    "import matplotlib.pyplot as plt"
   ]
  },
  {
   "cell_type": "code",
   "execution_count": 56,
   "metadata": {},
   "outputs": [
    {
     "name": "stdout",
     "output_type": "stream",
     "text": [
      "<class 'pandas.core.frame.DataFrame'>\n",
      "RangeIndex: 284807 entries, 0 to 284806\n",
      "Data columns (total 2 columns):\n",
      "Time      284807 non-null float64\n",
      "Amount    284807 non-null float64\n",
      "dtypes: float64(2)\n",
      "memory usage: 4.3 MB\n"
     ]
    }
   ],
   "source": [
    "data = pd.read_csv('Data/amounts.csv')\n",
    "data.info()"
   ]
  },
  {
   "cell_type": "code",
   "execution_count": 57,
   "metadata": {},
   "outputs": [
    {
     "name": "stdout",
     "output_type": "stream",
     "text": [
      "88.34961925093133\n"
     ]
    }
   ],
   "source": [
    "amounts = data['Amount'].tolist()\n",
    "times = data['Time'].tolist()\n",
    "print(mean(amounts))"
   ]
  },
  {
   "cell_type": "code",
   "execution_count": 58,
   "metadata": {},
   "outputs": [
    {
     "data": {
      "text/plain": [
       "284807"
      ]
     },
     "execution_count": 58,
     "metadata": {},
     "output_type": "execute_result"
    }
   ],
   "source": [
    "len(amounts)"
   ]
  },
  {
   "cell_type": "markdown",
   "metadata": {},
   "source": [
    "### 3.3 Swapping Elements\n",
    "\n",
    "The basic unifying factor behind most sorting algorithms is the idea of the swap. We take one element from one part of an array, and another element from another part of an array, and switch them. If we make enough swaps, we can eventually get the array into the right order. Most sorting algorithms differ only on in which order different items are swapped. Here's how a single swap would look:\n",
    "\n",
    "![img alt](https://s3.amazonaws.com/dq-content/173/array_swaps_1.svg)\n",
    "\n",
    "Note that we can't directly swap 2 for 5 and 5 for 2. Once we make the first swap, the value of 2 will be overwritten. We need to store that value somewhere else while we make the first swap. Here are the steps in making a swap:\n",
    "\n",
    "    * Select the two elements you want to swap.\n",
    "    * Copy the first element to an external variable.\n",
    "    * Replace the first element with the value of the second.\n",
    "    * Replace the second element with the value of the external variable.\n",
    "\n",
    "Let's code our own swap function -- this will be important later on, when we're creating sorting algorithms.\n",
    "\n",
    "#### Instructions\n",
    "\n",
    "* Write a swap function that takes in 3 arguments -- array, pos1, and pos2. The function should swap the array elements in position pos1 and position pos2.\n",
    "* Assign the first 10 elements from amounts to first_amounts.\n",
    "* Swap the items in position 1 and 2 in first_amounts."
   ]
  },
  {
   "cell_type": "code",
   "execution_count": 59,
   "metadata": {
    "collapsed": true
   },
   "outputs": [],
   "source": [
    "def swap(array, pos1, pos2):\n",
    "    store = array[pos1]\n",
    "    array[pos1] = array[pos2]\n",
    "    array[pos2] = store\n",
    "    #return array ##---- in-place change -- no need to return"
   ]
  },
  {
   "cell_type": "code",
   "execution_count": 60,
   "metadata": {},
   "outputs": [
    {
     "name": "stdout",
     "output_type": "stream",
     "text": [
      "[149.62, 2.69, 378.66, 123.5, 69.99, 3.67, 4.99, 40.8, 93.2, 3.68]\n",
      "None\n"
     ]
    }
   ],
   "source": [
    "first_amounts = amounts[:10]\n",
    "print(first_amounts)\n",
    "print(swap(first_amounts, 1, 2))"
   ]
  },
  {
   "cell_type": "code",
   "execution_count": null,
   "metadata": {
    "collapsed": true
   },
   "outputs": [],
   "source": []
  },
  {
   "cell_type": "markdown",
   "metadata": {},
   "source": [
    "### 3.4 Selection Sort\n",
    "\n",
    "Let's say you're handed a list of numbers to sort in order:\n",
    "\n",
    "\n",
    "numbers = [5,4,3,1]\n",
    "A simple way to sort them might be to find the lowest number and swap it with the number in front:\n",
    "\n",
    "\n",
    "numbers = [1,4,3,5]\n",
    "Then find the next lowest number and swap it with the next number:\n",
    "\n",
    "\n",
    "numbers = [1,3,4,5]\n",
    "After repeating the process, the list is sorted. What we just did was a selection sort! Here's a diagram to make it more clear how the sort works:\n",
    "\n",
    "![img alt](https://s3.amazonaws.com/dq-content/173/selection_sort.svg)\n",
    "\n",
    "As you can see, we:\n",
    "\n",
    "Loop across all of the elements in the array\n",
    "Loop across all the elements from the outer loop index to the end of the array\n",
    "This loops across all of the unsorted elements\n",
    "Find the lowest value\n",
    "Swap the lowest value with the first unsorted value\n",
    "Once there aren't any unsorted elements left, our sort is done. This is a fairly straightforward type of sort, but isn't necessarily the best performing.\n",
    "\n",
    "Here's an animation of a selection sort, by user __[Joestape89 on Wikimedia](https://commons.wikimedia.org/w/index.php?curid=3330231)__:\n",
    "\n",
    "![img alt](https://s3.amazonaws.com/dq-content/173/Selection-Sort-Animation.gif)\n",
    "\n",
    "#### Instructions\n",
    "\n",
    "* Create a function called selection_sort that takes in an argument array.\n",
    "    * Loop across array from the first element to the last (loop variable i).\n",
    "        * Loop across array from i to the end of the array with the loop variable z (this loops across the unsorted values)\n",
    "        * Find the lowest value and lowest index.\n",
    "    * Swap the lowest element with i\n",
    "* Assign the first 10 elements from amounts to first_amounts.\n",
    "* Sort first_amounts with your function."
   ]
  },
  {
   "cell_type": "code",
   "execution_count": 61,
   "metadata": {
    "collapsed": true
   },
   "outputs": [],
   "source": [
    "#### user defined min function\n",
    "def my_min(array):\n",
    "    '''\n",
    "    If array is [] ====> return None\n",
    "    Otherwise ====> return min_val, min_idx (if two same min_val exists, then return the fisrt one)\n",
    "    '''\n",
    "    if not array: ## if array == [], it is False\n",
    "        return None  ## \"TypeError: 'NoneType' object is not subscriptable\"\n",
    "    min_val = array[0]\n",
    "    min_idx = 0\n",
    "    for k, v in enumerate(array):\n",
    "        if v<min_val:\n",
    "            min_val = v\n",
    "            min_idx = k\n",
    "    return min_val, min_idx"
   ]
  },
  {
   "cell_type": "code",
   "execution_count": 62,
   "metadata": {
    "collapsed": true
   },
   "outputs": [],
   "source": [
    "def selection_sort_1(array):\n",
    "    if not array:\n",
    "        return array\n",
    "    for idx in range(len(array)-1):\n",
    "        min_val, min_idx = my_min(array[idx:]) ### \"TypeError: 'NoneType' object is not subscriptable\"\n",
    "        array = swap(array, idx, idx+min_idx)  ### need to add return in the swap function\n",
    "    return array"
   ]
  },
  {
   "cell_type": "code",
   "execution_count": 63,
   "metadata": {},
   "outputs": [
    {
     "name": "stdout",
     "output_type": "stream",
     "text": [
      "[149.62, 2.69, 378.66, 123.5, 69.99, 3.67, 4.99, 40.8, 93.2, 3.68]\n"
     ]
    },
    {
     "ename": "TypeError",
     "evalue": "'NoneType' object is not subscriptable",
     "output_type": "error",
     "traceback": [
      "\u001b[1;31m---------------------------------------------------------------------------\u001b[0m",
      "\u001b[1;31mTypeError\u001b[0m                                 Traceback (most recent call last)",
      "\u001b[1;32m<ipython-input-63-0ff6c61bbe64>\u001b[0m in \u001b[0;36m<module>\u001b[1;34m()\u001b[0m\n\u001b[0;32m      1\u001b[0m \u001b[0mfirst_amounts\u001b[0m \u001b[1;33m=\u001b[0m \u001b[0mamounts\u001b[0m\u001b[1;33m[\u001b[0m\u001b[1;33m:\u001b[0m\u001b[1;36m10\u001b[0m\u001b[1;33m]\u001b[0m\u001b[1;33m\u001b[0m\u001b[0m\n\u001b[0;32m      2\u001b[0m \u001b[0mprint\u001b[0m\u001b[1;33m(\u001b[0m\u001b[0mfirst_amounts\u001b[0m\u001b[1;33m)\u001b[0m\u001b[1;33m\u001b[0m\u001b[0m\n\u001b[1;32m----> 3\u001b[1;33m \u001b[0mselection_sort_1\u001b[0m\u001b[1;33m(\u001b[0m\u001b[0mfirst_amounts\u001b[0m\u001b[1;33m)\u001b[0m\u001b[1;33m\u001b[0m\u001b[0m\n\u001b[0m",
      "\u001b[1;32m<ipython-input-62-f797eb9be6c4>\u001b[0m in \u001b[0;36mselection_sort_1\u001b[1;34m(array)\u001b[0m\n\u001b[0;32m      3\u001b[0m         \u001b[1;32mreturn\u001b[0m \u001b[0marray\u001b[0m\u001b[1;33m\u001b[0m\u001b[0m\n\u001b[0;32m      4\u001b[0m     \u001b[1;32mfor\u001b[0m \u001b[0midx\u001b[0m \u001b[1;32min\u001b[0m \u001b[0mrange\u001b[0m\u001b[1;33m(\u001b[0m\u001b[0mlen\u001b[0m\u001b[1;33m(\u001b[0m\u001b[0marray\u001b[0m\u001b[1;33m)\u001b[0m\u001b[1;33m-\u001b[0m\u001b[1;36m1\u001b[0m\u001b[1;33m)\u001b[0m\u001b[1;33m:\u001b[0m\u001b[1;33m\u001b[0m\u001b[0m\n\u001b[1;32m----> 5\u001b[1;33m         \u001b[0mmin_val\u001b[0m\u001b[1;33m,\u001b[0m \u001b[0mmin_idx\u001b[0m \u001b[1;33m=\u001b[0m \u001b[0mmy_min\u001b[0m\u001b[1;33m(\u001b[0m\u001b[0marray\u001b[0m\u001b[1;33m[\u001b[0m\u001b[0midx\u001b[0m\u001b[1;33m:\u001b[0m\u001b[1;33m]\u001b[0m\u001b[1;33m)\u001b[0m \u001b[1;31m### \"TypeError: 'NoneType' object is not subscriptable\"\u001b[0m\u001b[1;33m\u001b[0m\u001b[0m\n\u001b[0m\u001b[0;32m      6\u001b[0m         \u001b[0marray\u001b[0m \u001b[1;33m=\u001b[0m \u001b[0mswap\u001b[0m\u001b[1;33m(\u001b[0m\u001b[0marray\u001b[0m\u001b[1;33m,\u001b[0m \u001b[0midx\u001b[0m\u001b[1;33m,\u001b[0m \u001b[0midx\u001b[0m\u001b[1;33m+\u001b[0m\u001b[0mmin_idx\u001b[0m\u001b[1;33m)\u001b[0m  \u001b[1;31m### need to add return in the swap function\u001b[0m\u001b[1;33m\u001b[0m\u001b[0m\n\u001b[0;32m      7\u001b[0m     \u001b[1;32mreturn\u001b[0m \u001b[0marray\u001b[0m\u001b[1;33m\u001b[0m\u001b[0m\n",
      "\u001b[1;31mTypeError\u001b[0m: 'NoneType' object is not subscriptable"
     ]
    }
   ],
   "source": [
    "first_amounts = amounts[:10]\n",
    "print(first_amounts)\n",
    "selection_sort_1(first_amounts)"
   ]
  },
  {
   "cell_type": "code",
   "execution_count": 64,
   "metadata": {
    "collapsed": true
   },
   "outputs": [],
   "source": [
    "### not define min function beforehand ## three pointers: i, j, lowest_index\n",
    "def selection_sort(array):\n",
    "    for i in range(len(array)):\n",
    "        lowest_index = i\n",
    "        for j in range(i, len(array)):\n",
    "            if array[j] < array[lowest_index]:\n",
    "                lowest_index = j\n",
    "        swap(array, lowest_index, i)\n",
    "    return array"
   ]
  },
  {
   "cell_type": "code",
   "execution_count": 65,
   "metadata": {},
   "outputs": [
    {
     "name": "stdout",
     "output_type": "stream",
     "text": [
      "[149.62, 2.69, 378.66, 123.5, 69.99, 3.67, 4.99, 40.8, 93.2, 3.68]\n"
     ]
    },
    {
     "data": {
      "text/plain": [
       "[2.69, 3.67, 3.68, 4.99, 40.8, 69.99, 93.2, 123.5, 149.62, 378.66]"
      ]
     },
     "execution_count": 65,
     "metadata": {},
     "output_type": "execute_result"
    }
   ],
   "source": [
    "first_amounts = amounts[:10]\n",
    "print(first_amounts)\n",
    "selection_sort(first_amounts)"
   ]
  },
  {
   "cell_type": "code",
   "execution_count": null,
   "metadata": {
    "collapsed": true
   },
   "outputs": [],
   "source": []
  },
  {
   "cell_type": "markdown",
   "metadata": {},
   "source": [
    "### 3.5 Profiling The Selection Sort\n",
    "\n",
    "We mentioned in the last screen that a selection sort isn't the fastest type of sort. In fact, the selection sort has __O(n^2)__ performance, which makes it impractical for large datasets. This performance is due to the __nested loops__, which mean that the selection_sort function loops across array many times. This means that selection_sort will take exponentially longer as the length of array increases.\n",
    "\n",
    "On the other hand, the selection sort doesn't take much memory -- we didn't store any values outside of array, except for some counters and temporary storage for a swap. The __space complexity is O(1)__, meaning that the space taken up by the sort isn't proportional to the length of array.\n",
    "\n",
    "Let's profile the selection sort to get a better handle of how it performs. We can do this with __operation counters__. We'll add a counter inside the \"inner\" loop (with loop index z), then count up how many times we loop over array.\n",
    "\n",
    "We'll then be able to make a plot that shows the performance of the sort relative to the length of array.\n",
    "\n",
    "#### Instructions\n",
    "\n",
    "* Modify the selection_sort function to:\n",
    "    * Initialize counter with the value 0.\n",
    "    * Add 1 to counter right inside the second for loop (that uses z).\n",
    "    * Return counter.\n",
    "* Create a list, counters.\n",
    "* Loop across each length in lengths:\n",
    "    * Assign the first length items in amounts to first_amounts.\n",
    "    * Sort first_amounts with selection_sort, and append the result to counters.\n",
    "* Use the matplotlib.pyplot.plot function to plot lengths on the x-axis, and counters on the y-axis.\n",
    "* What does the line plot tell you?\n",
    "* Try varying the lengths and seeing what happens.\n"
   ]
  },
  {
   "cell_type": "code",
   "execution_count": 66,
   "metadata": {
    "collapsed": true
   },
   "outputs": [],
   "source": [
    "def selection_sort(array):\n",
    "    counter = 0\n",
    "    for i in range(len(array)):\n",
    "        min_idx = i\n",
    "        for j in range(i, len(array)):\n",
    "            if array[j] < array[min_idx]:\n",
    "                min_idx = j\n",
    "            counter+=1\n",
    "        swap(array, min_idx, i)\n",
    "    return array, counter"
   ]
  },
  {
   "cell_type": "code",
   "execution_count": 67,
   "metadata": {},
   "outputs": [
    {
     "name": "stdout",
     "output_type": "stream",
     "text": [
      "[55, 210, 465, 820, 1275, 1830, 2485, 3240, 4095, 5050, 6105, 7260, 8515, 9870, 11325, 12880, 14535, 16290, 18145, 20100, 22155, 24310, 26565, 28920, 31375, 33930, 36585, 39340, 42195, 45150, 48205, 51360, 54615, 57970, 61425, 64980, 68635, 72390, 76245, 80200, 84255, 88410, 92665, 97020, 101475, 106030, 110685, 115440, 120295, 125250, 130305, 135460, 140715, 146070, 151525, 157080, 162735, 168490, 174345, 180300, 186355, 192510, 198765, 205120, 211575, 218130, 224785, 231540, 238395, 245350, 252405, 259560, 266815, 274170, 281625, 289180, 296835, 304590, 312445, 320400, 328455, 336610, 344865, 353220, 361675, 370230, 378885, 387640, 396495, 405450, 414505, 423660, 432915, 442270, 451725, 461280, 470935, 480690, 490545]\n"
     ]
    }
   ],
   "source": [
    "counters = []\n",
    "lengths = range(10, 1000, 10)\n",
    "\n",
    "for length in lengths:\n",
    "    array = amounts[:length]\n",
    "    counter = selection_sort(array)[1]\n",
    "    counters.append(counter)\n",
    "    \n",
    "print(counters)"
   ]
  },
  {
   "cell_type": "code",
   "execution_count": 68,
   "metadata": {},
   "outputs": [
    {
     "data": {
      "image/png": "[encoded data removed]",
      "text/plain": [
       "<matplotlib.figure.Figure at 0x223a6d21278>"
      ]
     },
     "metadata": {},
     "output_type": "display_data"
    }
   ],
   "source": [
    "plt.plot(lengths, counters)\n",
    "plt.show()"
   ]
  },
  {
   "cell_type": "code",
   "execution_count": null,
   "metadata": {
    "collapsed": true
   },
   "outputs": [],
   "source": []
  },
  {
   "cell_type": "markdown",
   "metadata": {},
   "source": [
    "### 3.6 Bubble Sort\n",
    "\n",
    "You should have seen a graph like this in the last screen:\n",
    "\n",
    "![img alt](https://s3.amazonaws.com/dq-content/173/selection_sort_perf.png)\n",
    "\n",
    "As you can see above, the graph has an exponential scale, meaning that it shows the sorting taking exponentially longer as the length of first_amounts increases. You can tell the scale is exponential from the 1e7 above the graph -- this indicates that each number on the y-axis should be multiplied by this amount. The __O(n^2)__ complexity makes selection sorts impractical for sorting large datasets.\n",
    "\n",
    "In this screen, we'll take a look at another kind of sort, known as a __bubble sort__. A bubble sort is faster than a selection sort in some cases, and is also fairly straightforward to understand. A bubble sort works by making passes across an array and \"bubbling\" values until the sort is done. Here's an example:\n",
    "\n",
    "```python\n",
    "numbers = [5,4,3,1]\n",
    "```\n",
    "We first make a pass over the whole array. We swap pairs of adjacent elements if the one to the right is less than the one to the left. So we first swap 4 and 5:\n",
    "\n",
    "```python\n",
    "numbers = [4,5,3,1]\n",
    "```\n",
    "We then swap 5 and 3:\n",
    "\n",
    "```python\n",
    "numbers = [4,3,5,1]\n",
    "```\n",
    "We then swap 5 and 1:\n",
    "\n",
    "```python\n",
    "numbers = [4,3,1,5]\n",
    "```\n",
    "Our first pass is done. Since we made swaps in the first pass, we know that numbers isn't sorted, and we need a second pass. In the second pass, we swap 4 and 3:\n",
    "\n",
    "```python\n",
    "numbers = [3,4,1,5]\n",
    "```\n",
    "We then swap 4 and 1:\n",
    "\n",
    "```python\n",
    "numbers = [3,1,4,5]\n",
    "```\n",
    "We then don't make any more swaps, since 4 and 5 are in order. We now make a third pass, and we first swap 1 and 3:\n",
    "\n",
    "```python\n",
    "numbers = [1,3,4,5]\n",
    "```\n",
    "We don't make any more swaps in the third pass. Because we made swaps in the last pass, the bubble sort algorithm doesn't know if the values are sorted yet. We have to make a fourth pass across numbers (where we make no swaps). After making no swaps in an entire pass, we know numbers is sorted.\n",
    "\n",
    "Here's a diagram of a bubble sort:\n",
    "\n",
    "![img alt](https://s3.amazonaws.com/dq-content/173/bubble_sort.svg)\n",
    "\n",
    "As you can see, the bubble sort:\n",
    "\n",
    "    * Loops until no swaps were made in the previous pass\n",
    "        * Loops across each element in the array.\n",
    "            * If the current element is greater than the next element, swaps them.\n",
    "            * Increments a swap counter.\n",
    "\n",
    "Once we loop across the whole array without making any swaps, the sort is complete.\n",
    "\n",
    "Here's an animation of a bubble sort, from __[Swfung8](https://commons.wikimedia.org/w/index.php?curid=14953478)__:\n",
    "\n",
    "![img alt](https://s3.amazonaws.com/dq-content/173/Bubble-sort-example-300px.gif)\n",
    "\n",
    "\n",
    "#### Instructions\n",
    "\n",
    "* Create a function called bubble_sort that takes in an argument array.\n",
    "    * Create a variable called swaps and assign the value 1 to it.\n",
    "    * Loop while swaps is greater than 0.\n",
    "        * Loop across all the elements in array up to the second to last one.\n",
    "            * If the current element is greater than the next element, swap them.\n",
    "            * Increment swaps when a swap is made.\n",
    "* Assign the first 10 elements from amounts to first_amounts.\n",
    "* Sort first_amounts with your function."
   ]
  },
  {
   "cell_type": "code",
   "execution_count": 69,
   "metadata": {
    "collapsed": true
   },
   "outputs": [],
   "source": [
    "## still nested loop\n",
    "## the difference is: outter loop is a while loop, indicating that the times of loop is not fixed.\n",
    "## However, the worest case may be the same sa SELECTION SORT\n",
    "### Face slap: other than one special case, where the array is sorted already, normally speaking, \n",
    "### Bubble Sort needs more operations than Selection Sort\n",
    "\n",
    "def bubble_sort(array):\n",
    "    swaps = 1 # initialize the first loop\n",
    "    while swaps>0:\n",
    "        swaps = 0 # initialize the actually counter\n",
    "        for i in range(len(array)-1): # up to second to last one\n",
    "            if array[i] > array[i+1]:\n",
    "                swap(array, i, i+1)\n",
    "                swaps += 1\n",
    "    return array  ## since swap happens in-place, return is not necessary\n",
    "                "
   ]
  },
  {
   "cell_type": "code",
   "execution_count": 70,
   "metadata": {},
   "outputs": [
    {
     "data": {
      "text/plain": [
       "[2.69, 3.67, 3.68, 4.99, 40.8, 69.99, 93.2, 123.5, 149.62, 378.66]"
      ]
     },
     "execution_count": 70,
     "metadata": {},
     "output_type": "execute_result"
    }
   ],
   "source": [
    "first_amounts = amounts[:10]\n",
    "bubble_sort(first_amounts)"
   ]
  },
  {
   "cell_type": "code",
   "execution_count": 71,
   "metadata": {},
   "outputs": [
    {
     "name": "stdout",
     "output_type": "stream",
     "text": [
      "[]\n",
      "[]\n"
     ]
    }
   ],
   "source": [
    "### range 的边界用途 (boundary condition)：\n",
    "print(list(range(-1)))\n",
    "print(list(range(0)))"
   ]
  },
  {
   "cell_type": "code",
   "execution_count": 72,
   "metadata": {},
   "outputs": [
    {
     "name": "stdout",
     "output_type": "stream",
     "text": [
      "[]\n",
      "[1]\n",
      "[1, 2]\n"
     ]
    }
   ],
   "source": [
    "a = []\n",
    "b = [1]\n",
    "c = [2,1]\n",
    "print(bubble_sort(a))\n",
    "print(bubble_sort(b))\n",
    "print(bubble_sort(c))"
   ]
  },
  {
   "cell_type": "code",
   "execution_count": 73,
   "metadata": {},
   "outputs": [
    {
     "name": "stdout",
     "output_type": "stream",
     "text": [
      "0\n"
     ]
    }
   ],
   "source": [
    "#### Not getting into the loop ------ prevent from ERROR by leveraging this property of the For Loop\n",
    "a = []\n",
    "counter = 0\n",
    "for i in range(-1):\n",
    "    counter += 1\n",
    "    print(a[i])\n",
    "    \n",
    "print(counter)"
   ]
  },
  {
   "cell_type": "code",
   "execution_count": null,
   "metadata": {
    "collapsed": true
   },
   "outputs": [],
   "source": []
  },
  {
   "cell_type": "markdown",
   "metadata": {},
   "source": [
    "### 3.7 Profiling The Bubble Sort\n",
    "\n",
    "We mentioned in the last screen that the bubble sort isn't especially high performance. In the __best case__ (when the array is already sorted in order), the performance is __O(n)__, since the algorithm only needs to make a single pass over the array to be sorted. In every other case, performance is __O(n^2)__, since multiple passes are required to sort. Thus, a bubble sort takes exponentially longer as the length of the array to be sorted increases. We typically refer to worst-case time complexity when we refer to time complexity, so we're using the worst case here.\n",
    "\n",
    "The space complexity of a bubble sort is O(1), like a selection sort, since we aren't storing anything beyond a couple of counter and swap variables.\n",
    "\n",
    "Let's __profile the bubble sort__ to __get a better handle of how it performs__. We can do this with an operation counter inside the for loop that loops over each element. We'll then be able to make a plot that shows the performance of the sort relative to the length of array.\n",
    "\n",
    "#### Instructions\n",
    "\n",
    "* Modify the bubble_sort function to:\n",
    "    * Initialize counter with the value 0.\n",
    "    * Add 1 to counter right inside the for loop.\n",
    "    * Return counter.\n",
    "* Create a list, counters.\n",
    "* Loop across each length in lengths:\n",
    "    * Assign the first length items in amounts to first_amounts.\n",
    "    * Sort first_amounts with bubble_sort, and append the result to counters.\n",
    "* Use the matplotlib.pyplot.plot function to plot lengths on the x-axis, and counters on the y-axis.\n",
    "* What does the line plot tell you?\n",
    "* Try varying the lengths and seeing what happens."
   ]
  },
  {
   "cell_type": "code",
   "execution_count": 74,
   "metadata": {
    "collapsed": true
   },
   "outputs": [],
   "source": [
    "def bubble_sort(array):\n",
    "    counter = 0\n",
    "    swaps = 1\n",
    "    while swaps>0:\n",
    "        swaps = 0\n",
    "        for i in range(len(array)-1):\n",
    "            counter += 1\n",
    "            if array[i]>array[i+1]:\n",
    "                swap(array, i, i+1)\n",
    "                swaps+=1\n",
    "    return counter"
   ]
  },
  {
   "cell_type": "code",
   "execution_count": 75,
   "metadata": {},
   "outputs": [
    {
     "name": "stdout",
     "output_type": "stream",
     "text": [
      "[72, 8514, 973026, 98140185]\n"
     ]
    }
   ],
   "source": [
    "lengths = [10, 100, 1000, 10000]\n",
    "counters = []\n",
    "for length in lengths:\n",
    "    array = amounts[:length]\n",
    "    counter = bubble_sort(array)\n",
    "    counters.append(counter)\n",
    "    \n",
    "print(counters)"
   ]
  },
  {
   "cell_type": "code",
   "execution_count": 76,
   "metadata": {},
   "outputs": [
    {
     "data": {
      "image/png": "[encoded data removed]",
      "text/plain": [
       "<matplotlib.figure.Figure at 0x223aa5a5b00>"
      ]
     },
     "metadata": {},
     "output_type": "display_data"
    }
   ],
   "source": [
    "plt.plot(lengths, counters)\n",
    "plt.show()"
   ]
  },
  {
   "cell_type": "code",
   "execution_count": null,
   "metadata": {
    "collapsed": true
   },
   "outputs": [],
   "source": []
  },
  {
   "cell_type": "markdown",
   "metadata": {},
   "source": [
    "### 3.8 Insertion Sort\n",
    "\n",
    "In the last screen, you should have seen a graph like this:\n",
    "\n",
    "![img alt](https://s3.amazonaws.com/dq-content/173/bubble_sort_perf.png)\n",
    "\n",
    "The above graph shows the performance of the bubble sort as more elements are added to first_amounts, and it shows that the number of operations performed go up exponentially as the number of elements in first_amounts increases. If you looked at the absolute numbers in counters, you should have noticed that they were higher than for the selection sort. Here they are side by side:\n",
    "\n",
    "<table>\n",
    "<tbody><tr>\n",
    "<th>Length of Array</th>\n",
    "<th>Operations for Selection Sort</th>\n",
    "<th>Operations for Bubble Sort </th>\n",
    "</tr>\n",
    "<tr>\n",
    "<td>10</td>\n",
    "<td>55</td>\n",
    "<td>72</td>\n",
    "</tr>\n",
    "<tr>\n",
    "<td>100</td>\n",
    "<td>5050</td>\n",
    "<td>8514</td>\n",
    "</tr>\n",
    "<tr>\n",
    "<td>1000</td>\n",
    "<td>500500</td>\n",
    "<td>973026</td>\n",
    "</tr>\n",
    "<tr>\n",
    "<td>10000</td>\n",
    "<td>50005000</td>\n",
    "<td>98140815</td>\n",
    "</tr>\n",
    "</tbody></table>\n",
    "\n",
    "Even though a bubble sort and a selection sort are __both O(n^2)__, __bubble sorts perform more operations in normal cases__.\n",
    "\n",
    "In this screen, we'll look at an algorithm that's a bit more efficient that the selection sort and the bubble sort, the insertion sort. The insertion sort still doesn't perform extremely well on large datasets, but even small performance gains can be important. The insertion sort works by looping through each element in the array, and \"inserting\" it into a sorted list at the beginning of the array.\n",
    "\n",
    "Here's an animation of an insertion sort, by __[Swfung8](https://commons.wikimedia.org/w/index.php?curid=14961606)__:\n",
    "\n",
    "![img alt](https://s3.amazonaws.com/dq-content/173/Insertion-sort-example-300px.gif)\n",
    "\n",
    "\n",
    "We'll also work through an example. Here's an array we want to sort:\n",
    "\n",
    "```python\n",
    "numbers = [3,4,1,5]\n",
    "```\n",
    "The beginning of the array is our \"sorted\" array, and the end contains the unsorted elements. We start by assuming that just the first element of the array is sorted. So we now try to sort 4. Since 4 is greater than 3, we leave it where it is:\n",
    "\n",
    "```python\n",
    "numbers = [3,4,1,5]\n",
    "```\n",
    "We now select 1 and try to sort it. Since 1 is less than 3 and 4, we put it in front of 3 and 4:\n",
    "\n",
    "```python\n",
    "numbers = [1,3,4,5]\n",
    "```\n",
    "We now select 5 and try to sort it. Since it's greater than 1, 3, and 4, we put it at the end of the sorted values:\n",
    "\n",
    "```python\n",
    "numbers = [1,3,4,5]\n",
    "```\n",
    "Here's a diagram of how the insertion sort algorithm works:\n",
    "\n",
    "![img alt](https://s3.amazonaws.com/dq-content/173/insertion_sort_1.svg)\n",
    "\n",
    "The trickiest part of the insertion sort is how it inserts elements into a given position. It shifts all the elements of the sorted portion of the array with values greater than the element to insert one to the right:\n",
    "\n",
    "![img alt](https://s3.amazonaws.com/dq-content/173/inserting_element.svg)\n",
    "\n",
    "\n",
    "The algorithm to insert a value is:\n",
    "\n",
    "* Find the value you want to insert.\n",
    "    * This is the value right after the sorted portion of the array\n",
    "* Find the insertion point\n",
    "    * This is the point right before the first value in the sorted array that's greater than the value you want to insert\n",
    "* Starting with the value just to the left of the value you want to insert, swap each element greater than the value with the value\n",
    "* After the swaps, the value will be in the right position\n",
    "\n",
    "After we understand how insertion works, we can get to the full algorithm for an insertion sort. The full algorithm for an insertion sort is:\n",
    "\n",
    "* Loop across each element in the array, starting with position 1 (skip the first element)\n",
    "    * As long as the element is less than the one to the left (and there is an element to the left), swap the element with the element to the left\n",
    "* After completing the swaps, the sort will be done\n"
   ]
  },
  {
   "cell_type": "markdown",
   "metadata": {},
   "source": [
    "### 3.9 Insertion Sort\n",
    "\n",
    "#### Instructions\n",
    "\n",
    "* Create a function called insertion_sort that takes in an argument array.\n",
    "    * Loop across each element in array, from position 1 to the end (loop variable i).\n",
    "        * Assign the value of i to j.\n",
    "        * Loop while j > 0 and the value to the left of the element at position j is greater than value at position j.\n",
    "            * Swap the elements at position j - 1 and position j.\n",
    "            * Subtract 1 from j.\n",
    "* Assign the first 10 elements from amounts to first_amounts.\n",
    "* Sort first_amounts with your function."
   ]
  },
  {
   "cell_type": "code",
   "execution_count": 77,
   "metadata": {
    "collapsed": true
   },
   "outputs": [],
   "source": [
    "def insertion_sort(array):\n",
    "    for i in range(1, len(array)):\n",
    "        j = i\n",
    "        while j>0 and array[j-1]>array[j]:\n",
    "            ### j -= 1 wrong place !!!\n",
    "            swap(array, j, j-1)       \n",
    "            j -= 1"
   ]
  },
  {
   "cell_type": "code",
   "execution_count": 78,
   "metadata": {},
   "outputs": [
    {
     "name": "stdout",
     "output_type": "stream",
     "text": [
      "[2.69, 3.67, 3.68, 4.99, 40.8, 69.99, 93.2, 123.5, 149.62, 378.66]\n"
     ]
    }
   ],
   "source": [
    "first_amounts = amounts[:10]\n",
    "insertion_sort(first_amounts)\n",
    "print(first_amounts)"
   ]
  },
  {
   "cell_type": "code",
   "execution_count": null,
   "metadata": {
    "collapsed": true
   },
   "outputs": [],
   "source": []
  },
  {
   "cell_type": "markdown",
   "metadata": {},
   "source": [
    "### 3.10 Profiling The Insertion Sort\n",
    "\n",
    "We mentioned in the last screen that the insertion sort isn't especially high performance on large datasets. In the __best case__ (when the array is already sorted in order), the performance is __O(n)__, since the algorithm doesn't need to make any swaps, and only touches each element once. In every __other case__, performance is __O(n^2)__, since multiple passes are required to sort.\n",
    "\n",
    "The insertion sort is usually used on smaller datasets, since it's more performant than more complex sorting algorithms on small arrays of up to __20__ elements. More complex sorting algorithms usually __divide__ the dataset up into pieces, and use the __insertion sort__ to sort the smaller pieces.\n",
    "\n",
    "The __space complexity__ of an insertion sort is __O(1)__, like a selection or bubble sort, since we aren't storing anything beyond a couple of counter and swap variables.\n",
    "\n",
    "Let's __profile the insertion sort to get a better handle of__ how it performs. We can do this with an operation counter inside the inner while loop. We'll then be able to make a plot that shows the performance of the sort relative to the length of array.\n",
    "\n",
    "#### Instructions\n",
    "\n",
    "* Modify the insertion_sort function to:\n",
    "    * Initialize counter with the value 0.\n",
    "    * Add 1 to counter right inside the inner while loop (that performs checks on j).\n",
    "    * Return counter.\n",
    "* Create a list, counters.\n",
    "* Loop across each length in lengths:\n",
    "    * Assign the first length items in amounts to first_amounts.\n",
    "    * Sort first_amounts with insertion_sort, and append the result to counters.\n",
    "* Use the matplotlib.pyplot.plot function to plot lengths on the x-axis, and counters on the y-axis.\n",
    "* What does the line plot tell you?\n",
    "* Try varying the lengths and seeing what happens."
   ]
  },
  {
   "cell_type": "code",
   "execution_count": 79,
   "metadata": {
    "collapsed": true
   },
   "outputs": [],
   "source": [
    "def insertion_sort(array):\n",
    "    counter = 0\n",
    "    for i in range(1, len(array)):\n",
    "        j = i\n",
    "        while j>0 and array[j-1]>array[j]:\n",
    "            counter += 1\n",
    "            swap(array, j-1, j)\n",
    "            j -= 1\n",
    "    return counter"
   ]
  },
  {
   "cell_type": "code",
   "execution_count": 80,
   "metadata": {},
   "outputs": [
    {
     "name": "stdout",
     "output_type": "stream",
     "text": [
      "[28, 2386, 256121, 24134271]\n"
     ]
    },
    {
     "data": {
      "image/png": "[encoded data removed]",
      "text/plain": [
       "<matplotlib.figure.Figure at 0x223aa803860>"
      ]
     },
     "metadata": {},
     "output_type": "display_data"
    }
   ],
   "source": [
    "counters = []\n",
    "lengths = [10,100,1000,10000]\n",
    "\n",
    "for length in lengths:\n",
    "    array = amounts[:length]\n",
    "    counter = insertion_sort(array)\n",
    "    counters.append(counter)\n",
    "    \n",
    "print(counters)\n",
    "\n",
    "plt.plot(lengths, counters)\n",
    "plt.show()"
   ]
  },
  {
   "cell_type": "code",
   "execution_count": null,
   "metadata": {
    "collapsed": true
   },
   "outputs": [],
   "source": []
  },
  {
   "cell_type": "markdown",
   "metadata": {},
   "source": [
    "### 3.11 Comparing Sorting Algorithms\n",
    "\n",
    "__[Why Insertion Sort performs a little bit better than Selection Sort???](https://stackoverflow.com/questions/15799034/insertion-sort-vs-selection-sort)__\n",
    "\n",
    "    * Selction_sort: For Loop ===> For Loop\n",
    "    * Bubble_sort: While Loop ===> For Loop\n",
    "    * Insertion_sort: For Loop ===> While Loop\n",
    "    \n",
    "You should have seen a graph like this in the last screen:\n",
    "\n",
    "![img alt](https://s3.amazonaws.com/dq-content/173/insertion_sort_perf.png)\n",
    "\n",
    "Although the insertion sort also takes exponential time relative to the length of the input array, you'll notice that the total number of operations are lower than they were with the selection or bubble sorts. This makes the __insertion sort a good choice for sorting small arrays__, and it is commonly used in more complex sorting algorithms to sort small sublists. Here's a graph comparing all three algorithms:\n",
    "\n",
    "![img alt](https://s3.amazonaws.com/dq-content/173/sort_comparison.png)\n",
    "\n",
    "In future missions, we'll introduce the __merge sort__ and other recursive algorithms that divide the array into small pieces, which the insertion sort can then sort efficiently.\n",
    "\n",
    "In this mission, we covered the implementations of various sorting algorithms. As we mentioned in the first screen, understanding the tradeoffs of different sorting algorithms and being able to implement them will help you in situations where custom sorting logic is needed. This is fairly common in scenarios when you're working with large or complex datasets.\n",
    "\n",
    "In the next screen, we'll learn about search algorithms that search arrays for a value.\n"
   ]
  },
  {
   "cell_type": "code",
   "execution_count": null,
   "metadata": {
    "collapsed": true
   },
   "outputs": [],
   "source": []
  },
  {
   "cell_type": "markdown",
   "metadata": {},
   "source": [
    "## 4. Searching Arrays and Lists (Searching Algorithms)\n",
    "    * linear search/multiple_condition linear search\n",
    "        * first matching\n",
    "        * all matching\n",
    "    * binary search"
   ]
  },
  {
   "cell_type": "markdown",
   "metadata": {},
   "source": [
    "### 4.1 Searching Arrays\n",
    "\n",
    "In the last mission, we learned about __sorting arrays__. Sorting is a very common operation when analyzing and viewing data, since it enables you to prioritize and group data and view it in a more readable format. Another common operation when working with data is searching. Imagine you have a list of employee records, and you want to find any records belonging to Susanne:\n",
    "\n",
    "![img alt](https://s3.amazonaws.com/dq-content/173/searching+list.svg)\n",
    "\n",
    "You can easily \"eyeball\" the result yourself, and see that Susanne is the final entry in the list of records. To perform the same kind of search in Python, you can use the __[list.index()](https://docs.python.org/3/tutorial/datastructures.html)__ method. The below code will return the index of the first occurrence of Susanne in employees.\n",
    "\n",
    "```python\n",
    ">> employees = [\"Jim Thorpe\", \"Boris Yeltsin\", \"Horatio Alger\", \"Ada Lovelace\", \"Dilma Rousseff\", \"Susanne\"]\n",
    ">> employees.index(\"Susanne\")\n",
    "5\n",
    "```\n",
    "Although this search is relatively efficient, there are cases when you'll want to implement your own searching logic. Here are some example cases:\n",
    "\n",
    "    * You want to find all occurrences of a term.\n",
    "    * You have custom search logic across multiple fields in a row.\n",
    "    * You have a data structure that doesn't have built-in search, like a linked list.\n",
    "    * You want a higher-performance search algorithm for your use case.\n",
    "\n",
    "Particularly in cases where you have a lot of data, implementing your own custom search logic is something you'll do often. Consider that a linear search takes O(n) time, which can add up if you need to do it often. Before we jump into performing some custom searches, let's discuss the dataset we'll be using in this mission, and do a basic search.\n",
    "\n",
    "In this mission, we'll be using the same dataset from the last mission, which came from from here. Each row is a single credit card transaction, and each column contains attributes of that transaction. A credit card transaction is any time you use a credit card, for example in a coffee shop to buy coffee. We've removed a number of extraneous columns, which leaves us with just two -- Time and Amount:\n",
    "\n",
    "    * Time -- the number of times the credit card used for this transaction has been used.\n",
    "    * Amount -- the dollar amount of the transaction.\n",
    "\n",
    "\n",
    "Here are the first few rows of the data:\n",
    "\n",
    "<table class=\"dataframe\">\n",
    "<thead>\n",
    "<tr>\n",
    "<th></th>\n",
    "<th>Time</th>\n",
    "<th>Amount</th>\n",
    "</tr>\n",
    "</thead>\n",
    "<tbody>\n",
    "<tr>\n",
    "<th>0</th>\n",
    "<td>0.0</td>\n",
    "<td>149.62</td>\n",
    "</tr>\n",
    "<tr>\n",
    "<th>1</th>\n",
    "<td>0.0</td>\n",
    "<td>2.69</td>\n",
    "</tr>\n",
    "<tr>\n",
    "<th>2</th>\n",
    "<td>1.0</td>\n",
    "<td>378.66</td>\n",
    "</tr>\n",
    "<tr>\n",
    "<th>3</th>\n",
    "<td>1.0</td>\n",
    "<td>123.50</td>\n",
    "</tr>\n",
    "<tr>\n",
    "<th>4</th>\n",
    "<td>2.0</td>\n",
    "<td>69.99</td>\n",
    "</tr>\n",
    "</tbody>\n",
    "</table>"
   ]
  },
  {
   "cell_type": "markdown",
   "metadata": {},
   "source": [
    "### 4.2 Searching Arrays\n",
    "\n",
    "Use the __list.index()__ method to find the first|second instance of 4554 in times. Assign the result to first_4554."
   ]
  },
  {
   "cell_type": "code",
   "execution_count": 81,
   "metadata": {
    "collapsed": true
   },
   "outputs": [],
   "source": [
    "import pandas as pd\n",
    "import matplotlib.pyplot as plt"
   ]
  },
  {
   "cell_type": "code",
   "execution_count": 82,
   "metadata": {
    "collapsed": true
   },
   "outputs": [],
   "source": [
    "data = pd.read_csv('Data/amounts.csv')\n",
    "amounts = data['Amount'].tolist()\n",
    "times = data['Time'].astype('int32').tolist()"
   ]
  },
  {
   "cell_type": "code",
   "execution_count": 83,
   "metadata": {},
   "outputs": [
    {
     "name": "stdout",
     "output_type": "stream",
     "text": [
      "4988\n"
     ]
    }
   ],
   "source": [
    "### How about the second 4554??\n",
    "first_4554 = times.index(4554)\n",
    "print(first_4554)\n",
    "\n",
    "### second_4554 = times.index(4554, first_4554+1) if there do exist a second one"
   ]
  },
  {
   "cell_type": "code",
   "execution_count": null,
   "metadata": {
    "collapsed": true
   },
   "outputs": [],
   "source": []
  },
  {
   "cell_type": "markdown",
   "metadata": {},
   "source": [
    "### 4.3 Linear Search\n",
    "\n",
    "The search that we did in the last screen, which is also the simplest kind of search, is called a __linear search__. You compare each element in a list to a value, and if there's a match, you return the value. Here's an example:\n",
    "\n",
    "![img alt](https://s3.amazonaws.com/dq-content/173/searching+list_linear.svg)\n",
    "\n",
    "Functionally, you:\n",
    "\n",
    "    * Create a list of matches\n",
    "    * Loop over each element in the array\n",
    "        * Compare the element to the value you want to match on\n",
    "        * If there's a match, append the index to the list of matches\n",
    "\n",
    "If you've used list comprehensions before, you've likely done a form of a linear search, when you filtered for certain elements.\n",
    "\n",
    "#### Instructions\n",
    "\n",
    "* Write a function called linear_search that takes in two arguments -- array and search. It should:\n",
    "    * Create an empty list, indexes.\n",
    "    * Loop over each item in the array\n",
    "        * If the item equals search, append the index of the item to indexes.\n",
    "    * Return indexes.\n",
    "* Run linear_search on times and search for 7. Assign the result to sevens."
   ]
  },
  {
   "cell_type": "code",
   "execution_count": 84,
   "metadata": {
    "collapsed": true
   },
   "outputs": [],
   "source": [
    "def linear_search(array, search):\n",
    "    indexes = [idx for idx in range(len(array)) if array[idx] == search]\n",
    "    return indexes"
   ]
  },
  {
   "cell_type": "code",
   "execution_count": 85,
   "metadata": {},
   "outputs": [
    {
     "name": "stdout",
     "output_type": "stream",
     "text": [
      "[7, 8]\n"
     ]
    }
   ],
   "source": [
    "sevens = linear_search(times, 7)\n",
    "print(sevens)"
   ]
  },
  {
   "cell_type": "code",
   "execution_count": null,
   "metadata": {
    "collapsed": true
   },
   "outputs": [],
   "source": []
  },
  {
   "cell_type": "markdown",
   "metadata": {},
   "source": [
    "### 4.4 Searching Multiple Arrays\n",
    "\n",
    "Although the linear search is fairly straightforward to implement, we can extend it to do more complex searching. For instance, we could use it to find rows where one column has one value, and another column has a different value. For example, let's say we're searching for employees by title and name:\n",
    "\n",
    "![img alt](https://s3.amazonaws.com/dq-content/173/searching+list_multi_linear.svg)\n",
    "\n",
    "\n",
    "In the above example, we're searching for an employee with the name __Susanne__ and the title __Lion Tamer__. We find a single match for both criteria.\n",
    "\n",
    "Functionally, this looks like:\n",
    "\n",
    "* Combine both arrays into a single array of arrays.\n",
    "    * Think of each element in the combined array as a row.\n",
    "    * The first element in each \"inner\" array should be the first column, the second should be the second column.\n",
    "* Create a list of matches\n",
    "* Loop over each element in the array\n",
    "    * Compare the element to the values you want to match on\n",
    "    * If there's a match, append the index to the list of matches\n",
    "\n",
    "#### Instructions\n",
    "\n",
    "* Write a function called linear_multi_search that takes in two arguments -- array and search. It should:\n",
    "    * Create an empty list, indexes.\n",
    "    * Loop over each item in the array\n",
    "        * Check if the item equals search (search should also be an array)\n",
    "        * If it does, append the index of the item to indexes\n",
    "    * Return indexes.\n",
    "* Combine times and amounts into one array called transactions\n",
    "* Run linear_multi_search on transactions and search for 56, 10.84. Assign the result to results."
   ]
  },
  {
   "cell_type": "code",
   "execution_count": 86,
   "metadata": {
    "collapsed": true
   },
   "outputs": [],
   "source": [
    "def linear_multi_search(array, search):\n",
    "    indexes = [i for i in range(len(array)) if array[i] == search]\n",
    "    return indexes"
   ]
  },
  {
   "cell_type": "code",
   "execution_count": 87,
   "metadata": {
    "collapsed": true
   },
   "outputs": [],
   "source": [
    "transactions = [[times[i], amounts[i]] for i in range(len(amounts))]\n",
    "search = [56, 10.84]"
   ]
  },
  {
   "cell_type": "code",
   "execution_count": 88,
   "metadata": {
    "collapsed": true
   },
   "outputs": [],
   "source": [
    "results = linear_multi_search(transactions, search)"
   ]
  },
  {
   "cell_type": "code",
   "execution_count": 89,
   "metadata": {},
   "outputs": [
    {
     "data": {
      "text/plain": [
       "[88]"
      ]
     },
     "execution_count": 89,
     "metadata": {},
     "output_type": "execute_result"
    }
   ],
   "source": [
    "results"
   ]
  },
  {
   "cell_type": "code",
   "execution_count": null,
   "metadata": {
    "collapsed": true
   },
   "outputs": [],
   "source": []
  },
  {
   "cell_type": "markdown",
   "metadata": {},
   "source": [
    "### 4.5 Profiling Linear Search\n",
    "\n",
    "Given the name \"Linear Search\", it's not surprising that the time complexity of the search is linear, or O(n). You should have noted this in the previous screens, when the search had to \"look\" at each element once. If you want your search to find all the matching elements in an array, the time complexity is O(n). This is because the search has to iterate through all of the array elements to find all the potential matches.\n",
    "\n",
    "If you're only looking for the first element that matches your search, the time complexity is a little more nuanced:\n",
    "\n",
    "    * In the best case, when the item you want to find is first in the list, the complexity is O(1).\n",
    "    * In the average case, when the item you want is in the middle of the list, the complexity is O(n/2), which simplifies to O(n).\n",
    "    * In the worst case, when the item you want is at the end of the list, the complexity is O(n).\n",
    "\n",
    "In most real-world cases, you'll want to iterate through the entire array to find all the matches, which makes the complexity O(n).\n",
    "\n",
    "Linear searches for __multiple elements__ have __O(n) space complexity__, since every element in the array could potentially be a match in the worst case. For only the __first matching element__, the space complexity is __O(1)__, since there's only a single value to store.\n",
    "    * first match - O(1)\n",
    "    * all matches - O(n)\n",
    "\n",
    "Note that we could __easily add more complex criteria to a linear search__. For example, if we have a list of employees, we could use a SQL query to find any employee that took 50 vacation days in the last year. This can potentially add more time complexity, but adds a lot of power.\n",
    "\n",
    "Linear searches can also look for __fuzzy criteria__. For instance, you could easily find any transactions amounts between 100 and 150 instead of looking for a specific number.\n",
    "\n",
    "#### Instructions\n",
    "\n",
    "* Modify the linear_search function to:\n",
    "    * Initialize counter with the value 0.\n",
    "    * Add 1 to counter right inside the for loop.\n",
    "    * Return counter instead of indexes\n",
    "* Create a list, counters.\n",
    "* Loop across each length in lengths:\n",
    "    * Assign the first length items in amounts to first_amounts.\n",
    "    * Search for 7 in first_amounts with linear_search, and append the result to counters.\n",
    "* Use the matplotlib.pyplot.plot function to plot lengths on the x-axis, and counters on the y-axis.\n",
    "* What does the line plot tell you?\n",
    "* Try varying the lengths and seeing what happens."
   ]
  },
  {
   "cell_type": "code",
   "execution_count": 90,
   "metadata": {
    "collapsed": true
   },
   "outputs": [],
   "source": [
    "''' ###usging enumerate()\n",
    "def linear_search(array, search):\n",
    "    counter = 0\n",
    "    indexes = []\n",
    "    for i, item in enumerate(array):\n",
    "        counter += 1\n",
    "        if item == search:\n",
    "            indexes.append(i)\n",
    "    return counter\n",
    "'''\n",
    "\n",
    "def linear_search(array, search):\n",
    "    indexes = []\n",
    "    counter = 0\n",
    "    for i in range(len(array)):\n",
    "        counter += 1\n",
    "        if array[i] == search:\n",
    "            indexes.append(i)\n",
    "    return counter"
   ]
  },
  {
   "cell_type": "code",
   "execution_count": 91,
   "metadata": {},
   "outputs": [
    {
     "name": "stdout",
     "output_type": "stream",
     "text": [
      "[10, 100, 1000, 10000]\n"
     ]
    },
    {
     "data": {
      "image/png": "[encoded data removed]",
      "text/plain": [
       "<matplotlib.figure.Figure at 0x223aa797e48>"
      ]
     },
     "metadata": {},
     "output_type": "display_data"
    }
   ],
   "source": [
    "counters = []\n",
    "lengths = [10, 100, 1000, 10000]\n",
    "for length in lengths:\n",
    "    first_amounts = amounts[:length]\n",
    "    counter = linear_search(first_amounts, 7)\n",
    "    counters.append(counter)\n",
    "    \n",
    "print(counters)\n",
    "plt.plot(lengths, counters)\n",
    "plt.show()"
   ]
  },
  {
   "cell_type": "code",
   "execution_count": null,
   "metadata": {
    "collapsed": true
   },
   "outputs": [],
   "source": []
  },
  {
   "cell_type": "markdown",
   "metadata": {},
   "source": [
    "### 4.6 Binary Search\n",
    "\n",
    "You should have seen a graph like this in the past mission, which confirms that linear search takes O(n) time in the worst case:\n",
    "\n",
    "![img alt](https://s3.amazonaws.com/dq-content/173/linear_search_perf.png)\n",
    "\n",
    "As you might expect from the past mission, there's a search algorithm that's more efficient than a linear search. It's called the binary search algorithm, and it typically runs much more quickly than linear search on larger datasets.\n",
    "\n",
    "Let's say you have a list of numbers, and you have to find the number 100 in the list:\n",
    "\n",
    "```python\n",
    "numbers = [100,80,20,200,50]\n",
    "```\n",
    "\n",
    "Although it's fairly easy to find 100 in this list, let's say that the list is much longer (thousands of values). You might first put the values in order to make it easier:\n",
    "\n",
    "```python\n",
    "numbers = [20,50,80,100,200]\n",
    "```\n",
    "\n",
    "You might then look at the middle element of the list, 80, to see if it's less than or greater than the value you want. If it's less, you'll look at the top half of values. You then see 100 in the top half of values. We do this kind of segmentation automatically, to narrow down where an item in a list might be.\n",
    "\n",
    "The binary search algorithm builds on this principle to quickly find values. Here's a diagram of a binary search:\n",
    "\n",
    "![img alt](https://s3.amazonaws.com/dq-content/173/binary_search_alt.svg)\n",
    "\n",
    "\n",
    "Note that we keep track of three values -- i, the position of the first element we want to include in the search, z, the position of the last element we want to include in the search, and m, the middle position within that range. Here's another look at how i, z, and m change:\n",
    "\n",
    "\n",
    "![img alt](https://s3.amazonaws.com/dq-content/173/binary_search_alt2.svg)\n",
    "\n",
    "We could write up a function to implement the binary search algorithm like this:\n",
    "\n",
    "* Take in array and search\n",
    "* Sort the array using an insertion sort.\n",
    "* Set m to 0\n",
    "* Set i to 0.\n",
    "* Set z to the length of array minus 1.\n",
    "* Loop while i <= z:\n",
    "    * Find m using i and z\n",
    "        * The mathematical floor of i + ((z - i) / 2)\n",
    "    * If the value at position m equals search, exit the loop and return m\n",
    "    * If the value at position m is less than search:\n",
    "        * Set i to m+1\n",
    "    * If the value at position m is greater than search:\n",
    "        * Set z to m-1\n",
    "\n",
    "As you can see, the algorithm keeps narrowing the window in which it searches until the actual value it's looking for is found. The binary search alghorithm is much more efficient than linear search since we don't need to look at every single value -- we just look at the midpoints of each range, which requires far fewer operations. The downside of binary search is that we need to sort the values beforehand, but we'll dive into profiling the performance of binary and linear search later.\n",
    "\n",
    "Let's implement a binary search function.\n",
    "\n",
    "\n",
    "#### __[Python Builtin Binary Search Algorithm ===> bisect](https://docs.python.org/3/library/bisect.html)__\n"
   ]
  },
  {
   "cell_type": "markdown",
   "metadata": {},
   "source": [
    "### 4.7 Binary Search\n",
    "\n",
    "* Write a function called __binary_search__ that takes in two arguments -- array and search. It should:\n",
    "    * Follow the algorithm described earlier to implement binary search.\n",
    "* Run binary_search on times and search for 56. Assign the result to result.\n",
    "\n",
    "#### binary search ONLY fits for single element match??? 如果被搜索对象重复，还适用吗？"
   ]
  },
  {
   "cell_type": "code",
   "execution_count": 92,
   "metadata": {
    "collapsed": true
   },
   "outputs": [],
   "source": [
    "import math\n",
    "\n",
    "def swap(array, pos1, pos2):\n",
    "    store = array[pos1]\n",
    "    array[pos1] = array[pos2]\n",
    "    array[pos2] = store\n",
    "    \n",
    "def insertion_sort(array):\n",
    "    for i in range(1, len(array)):\n",
    "        j = i\n",
    "        while j>0 and array[j-1]>array[j]:\n",
    "            swap(array, j-1, j)\n",
    "            j -= 1\n",
    "    \n",
    "\n",
    "'''\n",
    "def binary_search(array, search):\n",
    "    insertion_sort(array)\n",
    "    m = 0\n",
    "    i = 0\n",
    "    z = len(array) - 1\n",
    "    while i<= z:\n",
    "        m = math.floor(i + ((z - i) / 2))\n",
    "        if array[m] == search:\n",
    "            return m\n",
    "        elif array[m] < search:\n",
    "            i = m + 1\n",
    "        elif array[m] > search:\n",
    "            z = m - 1\n",
    "'''    \n",
    "        \n",
    "def binary_search(array, search):\n",
    "    insertion_sort(array)\n",
    "    lower_bound = 0\n",
    "    upper_bound = len(array)-1\n",
    "    index = (lower_bound + upper_bound)//2\n",
    "    while lower_bound<=upper_bound:\n",
    "        if array[index] == search:\n",
    "            return index\n",
    "        elif array[index] > search:\n",
    "            upper_bound = index - 1\n",
    "        elif array[index] < search:\n",
    "            lower_bound = index + 1\n",
    "        index = (lower_bound + upper_bound)//2\n",
    "    return \"Not Found\"\n",
    "    "
   ]
  },
  {
   "cell_type": "code",
   "execution_count": 93,
   "metadata": {},
   "outputs": [
    {
     "data": {
      "text/plain": [
       "87"
      ]
     },
     "execution_count": 93,
     "metadata": {},
     "output_type": "execute_result"
    }
   ],
   "source": [
    "result = binary_search(times, 56)\n",
    "result"
   ]
  },
  {
   "cell_type": "code",
   "execution_count": 94,
   "metadata": {},
   "outputs": [
    {
     "name": "stdout",
     "output_type": "stream",
     "text": [
      "[1, 1, 1, 2, 3, 4, 5, 5, 7, 8, 8, 10, 10, 10, 10, 12, 13, 17, 17, 17]\n",
      "6\n",
      "5\n"
     ]
    }
   ],
   "source": [
    "### for arrays with duplicated elements\n",
    "import random\n",
    "random.seed(123)\n",
    "aa = [random.randint(0,19) for _ in range(20)]\n",
    "index = binary_search(aa, 5)\n",
    "print(aa)\n",
    "print(index)\n",
    "print(aa[index])"
   ]
  },
  {
   "cell_type": "code",
   "execution_count": null,
   "metadata": {
    "collapsed": true
   },
   "outputs": [],
   "source": []
  },
  {
   "cell_type": "markdown",
   "metadata": {},
   "source": [
    "### 4.8 Complex Criteria With Binary Search ===> String Comparison === \n",
    "\n",
    "We can do somewhat complex searches with binary search. One example is creating composite search values that you can then sort based on. For example, you can combine two columns and sort and search based on that:\n",
    "\n",
    "![img alt](https://s3.amazonaws.com/dq-content/173/binary_multi_search.svg)\n",
    "\n",
    "You'd then be able to sort the values in the Combined column, and perform a binary search on the combined values. This is because __strings can be sorted by converting each character to an integer value__, then sorting based on those integers. This also allows strings to be evaulated as being less than or greater than another string. Here's an example:\n",
    "\n",
    "```python\n",
    "\"ba\" > \"aa\" # returns True\n",
    "```\n",
    "The above code evaulates to True because the character b converts to a higher integer value than a. This matches with how we learned the alphabet, which places b after a. Here's another example:\n",
    "\n",
    "```python\n",
    "\"ab\" > \"aa\" # returns True\n",
    "```\n",
    "__The first character in each string is compared, then the second, and so on__. In this case, the second character of ab is greater than the second character of aa, even though the first characters are the same.\n",
    "\n",
    "You can find a full list of character codes __[here](https://en.wikipedia.org/wiki/List_of_Unicode_characters)__, which will tell you which characters are \"greater\" than other characters.\n",
    "\n",
    "For a binary search, the order doesn't matter as much as the fact that the values can be sorted into a consistent order. As long as the values are sorted, and the algorithm can compare values and figure out which one is greater, then the algorithm will be able to work properly.\n",
    "\n",
    "#### Instructions\n",
    "\n",
    "* Combine each pair of times and amounts values into a string.\n",
    "    * Each string should look like 0_2.69.\n",
    "    * Assign the result to transactions.\n",
    "* Modify binary_search to use array.sort() instead of our insertion sort function.\n",
    "* Use the binary_search function to search for 56_10.84 in transactions. Assign the result to result.\n",
    "\n",
    "\n",
    "#### __[Builtin Sorting in Python ====> Timsort: O(nlogn)](https://en.wikipedia.org/wiki/Timsort)__\n",
    "#### __[Python Sort Howto](https://docs.python.org/3/howto/sorting.html)__\n",
    "    * list.sort()\n",
    "    * sorted()"
   ]
  },
  {
   "cell_type": "code",
   "execution_count": 95,
   "metadata": {
    "collapsed": true
   },
   "outputs": [],
   "source": [
    "'''\n",
    "transactions = [\"{}_{}\".format(times[i], amounts[i]) for i in range(len(amounts))]\n",
    "'''\n",
    "transactions = [str(times[i]) + '_' + str(amounts[i]) for i in range(len(amounts))]\n"
   ]
  },
  {
   "cell_type": "code",
   "execution_count": 96,
   "metadata": {
    "collapsed": true
   },
   "outputs": [],
   "source": [
    "def binary_search(array, search): ## what if search value not existing in the array at all?? --- not feedback from this function\n",
    "    array.sort() ## Using the builtin List sorting method\n",
    "    m = 0\n",
    "    i = 0\n",
    "    z = len(array) - 1\n",
    "    while i<= z:\n",
    "        m = math.floor(i + ((z - i) / 2))\n",
    "        if array[m] == search:\n",
    "            return m\n",
    "        elif array[m] < search:\n",
    "            i = m + 1\n",
    "        elif array[m] > search:\n",
    "            z = m - 1"
   ]
  },
  {
   "cell_type": "code",
   "execution_count": 97,
   "metadata": {},
   "outputs": [
    {
     "name": "stdout",
     "output_type": "stream",
     "text": [
      "205929\n",
      "56_10.84\n"
     ]
    }
   ],
   "source": [
    "result = binary_search(transactions, '56_10.84')\n",
    "print(result)\n",
    "print(transactions[result])"
   ]
  },
  {
   "cell_type": "code",
   "execution_count": null,
   "metadata": {
    "collapsed": true
   },
   "outputs": [],
   "source": []
  },
  {
   "cell_type": "markdown",
   "metadata": {},
   "source": [
    "### Fuzzy Matches With Binary Search\n",
    "\n",
    "Just like we can with a __linear search__, we can also do fuzzy matching with a __binary search__. In this case, fuzzy matching means finding values within a certain range. In order to do this, we have to return the m value from the binary search (even if we don't find an exact match), then look at __the range of values \"around\" the m position__:\n",
    "\n",
    "![img alt](https://s3.amazonaws.com/dq-content/173/binary_search_fuzzy.svg)\n",
    "\n",
    "The process for the fuzzy binary search is:\n",
    "\n",
    "* Perform a regular binary search, and return m, even if there isn't an exact match.\n",
    "* Write a function that takes in the array, a lower value to search for, an upper value to search for, and m.\n",
    "* Assign m to j.\n",
    "* Assign m+1 to l.\n",
    "* Assign an empty list to matches.\n",
    "* While j is is greater than 0, and lower <= array[j] <= upper:\n",
    "    * Add the value at position j to matches.\n",
    "    * Subtract 1 from j.\n",
    "* While l is is less than the length of the array, and lower <= array[l] <= upper:\n",
    "    * Add the value at position l to matches.\n",
    "    * Add 1 to l\n",
    "\n",
    "When the procedure above is done, you'll have a list of all the fuzzy matches in the array.\n",
    "\n",
    "#### Instructions\n",
    "\n",
    "* Modify the binary_search function to return m, even if there's no exact match.\n",
    "* Write a function called fuzzy_match that:\n",
    "    * Takes in array, lower, upper, and m.\n",
    "    * Uses the procedure from earlier to find a list of all fuzzy match values.\n",
    "    * Returns the fuzzy matches.\n",
    "* Find all the values in amounts between 100 and 200:\n",
    "    * Run a binary_search across amounts looking for 150. Assign the result to m.\n",
    "    * Run fuzzy_match across amounts with the range 100 to 2000. Assign the results to matches.\n",
    "* Display matches -- what kind of pattern do you see in how the values were added to the list?"
   ]
  },
  {
   "cell_type": "code",
   "execution_count": 98,
   "metadata": {
    "collapsed": true
   },
   "outputs": [],
   "source": [
    "def binary_search(array, search):\n",
    "    array.sort()\n",
    "    m = 0\n",
    "    i = 0\n",
    "    z = len(array) - 1\n",
    "    while i<= z:\n",
    "        m = math.floor(i + ((z - i) / 2))\n",
    "        if array[m] == search:\n",
    "            return m\n",
    "        elif array[m] < search:\n",
    "            i = m + 1\n",
    "        elif array[m] > search:\n",
    "            z = m - 1\n",
    "    return m ### return even if there is no exact match !!!\n",
    "\n",
    "def fuzzy_match(array, lower, upper, m):\n",
    "    indexes = []\n",
    "    matches = []\n",
    "    left = m\n",
    "    right = m+1\n",
    "    while left>=0 and lower <= array[left] <= upper: ### left>0 ?? or left>=0 ??\n",
    "        indexes.append(left)\n",
    "        matches.append(array[left])\n",
    "        left -= 1\n",
    "    while right<len(array) and lower <= array[right] <= upper:\n",
    "        indexes.append(right)\n",
    "        matches.append(array[right])\n",
    "        right += 1\n",
    "    return indexes, matches"
   ]
  },
  {
   "cell_type": "code",
   "execution_count": 99,
   "metadata": {
    "collapsed": true
   },
   "outputs": [],
   "source": [
    "import copy\n",
    "amounts_copy = copy.deepcopy(amounts)\n",
    "m = binary_search(amounts_copy, 150)\n",
    "indexes, matches = fuzzy_match(amounts_copy, 100, 2000, m)"
   ]
  },
  {
   "cell_type": "code",
   "execution_count": 100,
   "metadata": {},
   "outputs": [
    {
     "data": {
      "text/plain": [
       "[149.62, 2.69, 378.66, 123.5, 69.99, 3.67, 4.99, 40.8, 93.2, 3.68]"
      ]
     },
     "metadata": {},
     "output_type": "display_data"
    },
    {
     "data": {
      "text/plain": [
       "[0.0, 0.0, 0.0, 0.0, 0.0, 0.0, 0.0, 0.0, 0.0, 0.0]"
      ]
     },
     "metadata": {},
     "output_type": "display_data"
    },
    {
     "name": "stdout",
     "output_type": "stream",
     "text": [
      "56709\n",
      "56709\n"
     ]
    },
    {
     "data": {
      "text/plain": [
       "25691.16"
      ]
     },
     "execution_count": 100,
     "metadata": {},
     "output_type": "execute_result"
    }
   ],
   "source": [
    "display(amounts[:10])\n",
    "display(amounts_copy[:10])\n",
    "print(len(indexes))\n",
    "print(len(matches))\n",
    "max(amounts)"
   ]
  },
  {
   "cell_type": "code",
   "execution_count": null,
   "metadata": {
    "collapsed": true
   },
   "outputs": [],
   "source": []
  },
  {
   "cell_type": "code",
   "execution_count": 101,
   "metadata": {},
   "outputs": [
    {
     "name": "stdout",
     "output_type": "stream",
     "text": [
      "56709\n"
     ]
    }
   ],
   "source": [
    "###### Solutions from Dataquest\n",
    "def binary_search(array, search):\n",
    "    array.sort()\n",
    "    m = 0\n",
    "    i = 0\n",
    "    z = len(array) - 1\n",
    "    while i<= z:\n",
    "        m = math.floor(i + ((z - i) / 2))\n",
    "        if array[m] == search:\n",
    "            return m\n",
    "        elif array[m] < search:\n",
    "            i = m + 1\n",
    "        elif array[m] > search:\n",
    "            z = m - 1\n",
    "    return m ## return m even if there is no exact match for fuzzy match in next step\n",
    "\n",
    "def fuzzy_match(array, lower, upper, m):\n",
    "    j = m\n",
    "    l = m + 1\n",
    "    matches = []\n",
    "    while j > 0 and lower <= array[j] <= upper:  ###### ???? j>=0??? \n",
    "        matches.append(array[j])\n",
    "        j -= 1\n",
    "        \n",
    "    while l < len(array) and lower <= array[l] <= upper:\n",
    "        matches.append(array[l])\n",
    "        l += 1\n",
    "    \n",
    "    return matches\n",
    "\n",
    "m = binary_search(amounts_copy, 150)\n",
    "matches = fuzzy_match(amounts_copy, 100, 2000, m)\n",
    "\n",
    "print(len(matches))"
   ]
  },
  {
   "cell_type": "code",
   "execution_count": null,
   "metadata": {
    "collapsed": true
   },
   "outputs": [],
   "source": []
  },
  {
   "cell_type": "markdown",
   "metadata": {},
   "source": [
    "### 4.10 Profiling Binary Search\n",
    "\n",
    "As we saw in an earlier screen, binary search performs much better than a linear search, since __it doesn't have to touch every single element__ in an array. Let's take a closer look at just how a binary search performs by plotting its performance. We'll look at performance by:\n",
    "\n",
    "    * Taking increasing numbers of items from a list (amounts)\n",
    "    * Searching for a non-existent element in the lists (so we get the worst-case performance of the sort).\n",
    "\n",
    "We'll construct shorter lists of 10, 100, 1000, and 10000 elements, like we did with linear search.\n",
    "\n",
    "You may have noticed that there's a wrinkle with binary search -- we need to __sort the list beforehand__. This __imposes a penalty__ in terms of operations performed. We won't try to account for this right now to make it easier to see the performance of just the binary search, but we'll discuss it in the next screen.\n",
    "\n",
    "#### Instructions\n",
    "\n",
    "* Modify the binary_search function to:\n",
    "    * Initialize counter with the value 0.\n",
    "    * Add 1 to counter right inside the while loop.\n",
    "    * Return counter.\n",
    "* Create a list, counters.\n",
    "* Loop across each length in lengths:\n",
    "    * Assign the first length items in amounts to first_amounts.\n",
    "    * Search for -1 in first_amounts with binary_search, and append the result to counters.\n",
    "* Use the matplotlib.pyplot.plot function to plot lengths on the x-axis, and counters on the y-axis.\n",
    "* What does the line plot tell you?\n",
    "* Try varying the lengths and seeing what happens."
   ]
  },
  {
   "cell_type": "code",
   "execution_count": 102,
   "metadata": {
    "collapsed": true
   },
   "outputs": [],
   "source": [
    "def binary_search(array, search):\n",
    "    array.sort()\n",
    "    counter = 0 # not including the operations in soring\n",
    "    lower_bound = 0\n",
    "    upper_bound = len(array)-1\n",
    "    m = (lower_bound + upper_bound)//2\n",
    "    while lower_bound<=upper_bound:\n",
    "        counter += 1\n",
    "        if array[m] == search:\n",
    "            return m\n",
    "        elif array[m] < search:\n",
    "            lower_bound = m+1\n",
    "        elif array[m] > search:\n",
    "            upper_bound = m-1  \n",
    "        m = (lower_bound + upper_bound)//2\n",
    "    return counter  ## if not found the search ---- worst case"
   ]
  },
  {
   "cell_type": "code",
   "execution_count": 103,
   "metadata": {},
   "outputs": [
    {
     "name": "stdout",
     "output_type": "stream",
     "text": [
      "[3, 6, 9, 13]\n"
     ]
    },
    {
     "data": {
      "image/png": "[encoded data removed]",
      "text/plain": [
       "<matplotlib.figure.Figure at 0x223a93160f0>"
      ]
     },
     "metadata": {},
     "output_type": "display_data"
    }
   ],
   "source": [
    "counters = []\n",
    "lengths = [10, 100, 1000, 10000]\n",
    "\n",
    "for length in lengths:\n",
    "    first_amounts = amounts[:length]\n",
    "    counter = binary_search(first_amounts, -1)   ### since -1 is not in the array\n",
    "    counters.append(counter)\n",
    "\n",
    "print(counters)\n",
    "plt.plot(lengths, counters)\n",
    "plt.show()"
   ]
  },
  {
   "cell_type": "code",
   "execution_count": null,
   "metadata": {
    "collapsed": true
   },
   "outputs": [],
   "source": []
  },
  {
   "cell_type": "markdown",
   "metadata": {},
   "source": [
    "### 4.11 Profiling Binart Search With Sorting\n",
    "\n",
    "You should have seen a graph on the last screen that looked something like this:\n",
    "\n",
    "![img alt](https://s3.amazonaws.com/dq-content/173/binary_search_perf.png)\n",
    "\n",
    "\n",
    "The above graph shows that binary search is very performant compared to a linear search! It takes less than 10 operations to scan through a 1000 element array to search for a value -- and that's in the worst case. Here's a comparison between linear and binary search:\n",
    "\n",
    "![img alt](https://s3.amazonaws.com/dq-content/173/linear_binary_comp.png)\n",
    "\n",
    "However, we didn't look at the true cost of the binary search, since we ignored the sort that came before the search. Let's try profiling binary search again, with an insertion sort that comes beforehand.\n",
    "\n",
    "#### Instructions\n",
    "\n",
    "* Modify insertion_sort to count up the number of operations:\n",
    "    * Initialize a variable called counter set to 0.\n",
    "    * Add 1 to counter inside the while loop.\n",
    "    * Return counter.\n",
    "* Modify binary_search to add the number of operations from insertion_sort to the number of operations for the binary search.\n",
    "* Perform the same plotting from the last screen."
   ]
  },
  {
   "cell_type": "code",
   "execution_count": 104,
   "metadata": {
    "collapsed": true
   },
   "outputs": [],
   "source": [
    "def swap(array, pos1, pos2):\n",
    "    store = array[pos1]\n",
    "    array[pos1] = array[pos2]\n",
    "    array[pos2] = store\n",
    "\n",
    "def insertion_sort(array):\n",
    "    counter = 0\n",
    "    for i in range(1, len(array)):\n",
    "        j = i\n",
    "        while j>0 and array[j-1]>array[j]:\n",
    "            swap(array, j-1, j)\n",
    "            j -= 1\n",
    "            counter += 1\n",
    "    return counter\n",
    "\n",
    "def binary_search(array, search):\n",
    "    counter = insertion_sort(array)\n",
    "    lower_bound = 0\n",
    "    upper_bound = len(array)-1\n",
    "    while lower_bound<=upper_bound:\n",
    "        counter += 1\n",
    "        m = (lower_bound+upper_bound)//2\n",
    "        if array[m] == search:\n",
    "            return m\n",
    "        elif array[m] < search:\n",
    "            lower_bound = m+1\n",
    "        elif array[m] > search:\n",
    "            upper_bound = m-1\n",
    "    return counter     "
   ]
  },
  {
   "cell_type": "code",
   "execution_count": 105,
   "metadata": {},
   "outputs": [
    {
     "name": "stdout",
     "output_type": "stream",
     "text": [
      "[48, 4943, 497584, 49622661]\n"
     ]
    },
    {
     "data": {
      "image/png": "[encoded data removed]",
      "text/plain": [
       "<matplotlib.figure.Figure at 0x223aa7a1048>"
      ]
     },
     "metadata": {},
     "output_type": "display_data"
    }
   ],
   "source": [
    "counters = []\n",
    "lengths = [10, 100, 1000, 10000]\n",
    "\n",
    "for length in lengths:\n",
    "    # We sort in reverse order so we get the worst case performance of the insertion sort.\n",
    "    first_amounts = sorted(amounts[:length], reverse=True)\n",
    "    counter = binary_search(first_amounts, -1)   ### since -1 is not in the array\n",
    "    counters.append(counter)\n",
    "\n",
    "print(counters)\n",
    "plt.plot(lengths, counters)\n",
    "plt.show()"
   ]
  },
  {
   "cell_type": "code",
   "execution_count": null,
   "metadata": {
    "collapsed": true
   },
   "outputs": [],
   "source": []
  },
  {
   "cell_type": "markdown",
   "metadata": {},
   "source": [
    "### 4.12 Linear Search VS Binary Search\n",
    "\n",
    "You should have seen a graph that looked like this in the last screen:\n",
    "\n",
    "![img alt](https://s3.amazonaws.com/dq-content/173/binary_search_sort_perf.png)\n",
    "\n",
    "Even through the binary search is extremely fast, the slow O(n^2) sort slowed it down considerably. There are sorting algorithms that are much faster than an insertion sort, but they're still slower than a single linear search. Here's a comparison between a binary search with an insertion sort and a linear search:\n",
    "\n",
    "![img alt](https://s3.amazonaws.com/dq-content/173/full_binary_linear_comp.png)\n",
    "\n",
    "In general, you should use a __linear search__ if:\n",
    "\n",
    "* You only need to search once.\n",
    "* You don't need to sort the list for another reason (like viewing items in order).\n",
    "* You have complex search criteria, or require external lookups.\n",
    "\n",
    "You should use __binary search__ if:\n",
    "\n",
    "* The data is already sorted, or you need to sort it for another reason.\n",
    "* You need to perform multiple searches.\n",
    "* You can distribute the sort across multiple machines, so it runs faster.\n",
    "\n",
    "In most cases, you'll wind up using a binary search, but you'll need to find ways to make the sorting go faster, so you can run the search efficiently. In the coming courses, we'll discuss __distributed sorting__, and how to search as quickly as possible.\n",
    "\n",
    "In the next mission, we'll cover a data structure that can make searching effectively instant called a __hash table__."
   ]
  },
  {
   "cell_type": "code",
   "execution_count": null,
   "metadata": {
    "collapsed": true
   },
   "outputs": [],
   "source": []
  },
  {
   "cell_type": "markdown",
   "metadata": {
    "collapsed": true
   },
   "source": [
    "## 5. Hash Tables"
   ]
  },
  {
   "cell_type": "markdown",
   "metadata": {
    "collapsed": true
   },
   "source": [
    "### 5.1 Hash Tables\n",
    "\n",
    "In the past few missions, we learned about arrays and how to sort and search them. We found that we could search for a value in an unsorted array in O(n) time using a linear search. But, there are many times when we want faster search performance than the O(n) time of a linear search, or even the O(log n) time of a binary search. For example, let's say we're working with the movie quotes dataset from the last course, which consists of quotes from the scripts of 1068 movies that constitute 894014 lines altogether, and take up 56 megabytes of disk space.\n",
    "\n",
    "Let's say we want a way to quickly find all of the quotes associated with a single movie. We could do this by storing all of the quotes in an array, and then using linear or binary search to look for the title of the movie. The data structure would look like this:\n",
    "\n",
    "```python\n",
    "[\n",
    "    [\"theprincessbride\", \"Hello. My name is Inigo Montoya, you killed my father, prepare to die....\"],\n",
    "    [\"xmen\", \"Man, what's the matter with you?...\"],\n",
    "    [\"youvegotmail\", \"Good morning...\"],\n",
    "    [\"watchmen\", \"A \\\"Have A Nice Day\\\" HAPPY FACE PIN. STEAM rises past the pin. We hear a...\"],\n",
    "    ...\n",
    "]\n",
    "```\n",
    "\n",
    "We'd first sort the outer list, and then do a binary search across the first elements of each inner list to find the title of a movie (for example, xmen). We'd then be able to extract the quotes from the second element of the matching inner list. But, what if we wanted to search for the names of a movies 1000 times? Or 10000 times? In these cases, even a binary search would start to take a lot of time.\n",
    "\n",
    "In cases like this we can use a __hash table__, which you know better in its implementation as a __Python dict__. A hash table allows us to store data with a key that is associated with a value. This allows us to look up a value using a key in __O(1)__ time. Here's how our data structure would look converted to a dict:\n",
    "\n",
    "```python\n",
    "{\n",
    "    \"theprincessbride\": \"Hello. My name is Inigo Montoya, you killed my father, prepare to die....\",\n",
    "    \"xmen\":\"Man, what's the matter with you?...\",\n",
    "    \"youvegotmail\": \"Good morning...\",\n",
    "    \"watchmen\": \"A \\\"Have A Nice Day\\\" HAPPY FACE PIN. STEAM rises past the pin. We hear a...\",\n",
    "    ...\n",
    "}\n",
    "```\n",
    "\n",
    "We can access the quotes of a single movie using just a key, like xmen. Because of how a hash table stores and retrieves data, this lookup takes O(1) time.\n",
    "\n",
    "In this mission, we'll implement our own hash table, and use it to store and look up data. There is a Python implementation of a hash table in the dict class, but __creating your own__ will help you understand the __performance tradeoffs__. Additionally, you'll need to implement your own hash table in cases where you want additional performance, or where you're working across multiple machines. In cases like this, several machines may be processing data, and storing it to centralized hash table. This requires custom logic not available in a default Python dictionary. __Custom hash tables__ are also useful when you're tuning for different performance characteristics than the Python implementation.\n",
    "\n",
    "Before we dive into how to implement a hash table, let's load in and explore our dataset. As we mentioned earlier, we have lines from 1068 movies. The lines are either __[IMDB](https://www.imdb.com/)__ memorable quotes, or lines surrounding memorable quotes. The number of lines we have for each movie doesn't necessarily correspond to the length of the movie. The dataset originally came from __[Cornell](https://www.cs.cornell.edu/~cristian/Cornell_Movie-Dialogs_Corpus.html)__, but has been modified to be easier to work with.\n",
    "\n",
    "The dataset consists of __1068__ different text files, one for each movie. All of the files are stored in the folder __lines__. Each text file contains all of the lines we have for the movie, separated by a newline character (\\n). Here's an example for __[The Princess Bride](https://www.imdb.com/title/tt0093779/)__, which is an excerpt from __theprincessbride.txt__:\n",
    "\n",
    "```python\n",
    "Hello. My name is Inigo Montoya, you killed my father, prepare to die.\n",
    "Hello. My name is Inigo Montoya. You killed my father. Prepare to die.\n",
    "Stop saying that!\n",
    "```"
   ]
  },
  {
   "cell_type": "markdown",
   "metadata": {
    "collapsed": true
   },
   "source": [
    "### 5.2 Hash Tables\n",
    "\n",
    "* Loop over each file in the __lines__ directory, and for each file:\n",
    "    * Read the data in the file into a string variable.\n",
    "    * Assign the data in the file to a dictionary key in quotes.\n",
    "        * The key should be the name of the file without the .txt suffix.\n",
    "* When you're done, each key should be the name of a movie, and each value should be the IMDB memorable quotes from that movie."
   ]
  },
  {
   "cell_type": "code",
   "execution_count": 106,
   "metadata": {
    "collapsed": true
   },
   "outputs": [],
   "source": [
    "with open('Data/amounts.csv') as f:\n",
    "    data = f.readlines()\n",
    "    f.readlines?"
   ]
  },
  {
   "cell_type": "code",
   "execution_count": 107,
   "metadata": {},
   "outputs": [
    {
     "data": {
      "text/plain": [
       "['.ipynb_checkpoints',\n",
       " '1.1 Guided Project - Storing Storm Data - PostgreSQL.ipynb',\n",
       " 'Data',\n",
       " 'Guided Project - Hacker News Pipeline & Git Bash - winpty.ipynb',\n",
       " 'pipeline.py',\n",
       " 'Pythonic - containor - iterable - iterator - generator.ipynb',\n",
       " 'Step 2.2 Optimizing Code Performance On Large Datasets.ipynb',\n",
       " 'Step 2.3 Algorithms And Data Structures (appendix - python datetime objects).ipynb',\n",
       " 'Step 2.4 Recursion and Trees.ipynb',\n",
       " 'Step 3 - Building a Data Pipeline.ipynb',\n",
       " 'stop_words.py',\n",
       " 'summarized.csv',\n",
       " 'temporary.csv',\n",
       " '__pycache__']"
      ]
     },
     "metadata": {},
     "output_type": "display_data"
    },
    {
     "data": {
      "text/plain": [
       "<module 'ntpath' from 'C:\\\\Miniconda3\\\\lib\\\\ntpath.py'>"
      ]
     },
     "metadata": {},
     "output_type": "display_data"
    }
   ],
   "source": [
    "import os\n",
    "display(os.listdir())\n",
    "display(os.path)"
   ]
  },
  {
   "cell_type": "code",
   "execution_count": 108,
   "metadata": {},
   "outputs": [
    {
     "name": "stdout",
     "output_type": "stream",
     "text": [
      "This is how we can read files in a folder by a loop\n",
      "But, where is the \"lines\" folder?\n"
     ]
    }
   ],
   "source": [
    "'''\n",
    "import os\n",
    "quotes = {}\n",
    "\n",
    "directory = 'lines'\n",
    "for filename in os.listdir(directory):\n",
    "    with open(os.path.join(directory, filename)) as f:\n",
    "        quotes[filename.replace(\".txt\", \"\")] = f.read()\n",
    "'''\n",
    "print('This is how we can read files in a folder by a loop')\n",
    "print('But, where is the \"lines\" folder?')"
   ]
  },
  {
   "cell_type": "code",
   "execution_count": null,
   "metadata": {
    "collapsed": true
   },
   "outputs": [],
   "source": []
  },
  {
   "cell_type": "markdown",
   "metadata": {
    "collapsed": true
   },
   "source": [
    "### 5.3 Hash Functions\n",
    "\n",
    "You may be surprised to learn that hash tables store their data in arrays. Think of an array as the base onto which more complicated data structures can be built. Here's how a hash table that was just initialized might look:\n",
    "\n",
    "![img alt](https://s3.amazonaws.com/dq-content/176/hash_table_init.svg)\n",
    "\n",
    "As you can see above, this hash table has 6 positions in which to store data, and since it was just initialized, they all hold the value None. In order to assign values to a position in the array, we have to figure out how to map between keys like xmen and positions in the array, like 1:\n",
    "\n",
    "![img alt](https://s3.amazonaws.com/dq-content/176/hash_table_array.svg)\n",
    "\n",
    "In the above diagram, we want to store some data associated with the key xmen. We pass xmen into a function (represented as ???? in the diagram), which returns 1, the position in the array where we should store the value. __The function that maps from xmen to the position 1 is known as a hash function__. A hash function will always return the same output with the same input. So every time we pass in xmen, we get the position 1. This allows us to store data in a position using a key, then retrieve it using the same key.\n",
    "\n",
    "Here's how storing and retrieving data would look in the console:\n",
    "\n",
    "```python\n",
    ">> hash_table = [None, None, None, None, None, None]\n",
    ">> position = hash(\"xmen\")\n",
    ">> position\n",
    "1\n",
    ">> hash_table[position] = \"Man, what's...\"\n",
    ">> hash_table\n",
    "[None, \"Man, what's...\", None, None, None, None]\n",
    ">> lookup_position = hash(\"xmen\")\n",
    ">> lookup_position\n",
    "1\n",
    ">> hash_table[lookup_position]\n",
    "\"Man, what's...\"\n",
    "```\n",
    "\n",
    "As you can see, we always get the position in the array to insert or lookup a value when we pass a key into the hash function. We can __create a simple hash function by using the built-in __[ord()](https://docs.python.org/3/library/functions.html#ord)__ function__. The ord() function returns an integer character code corresponding to a unicode character. If you don't recall how unicode works, you can read more about it __[here](https://docs.python.org/3/howto/unicode.html)__. Each character has a unique integer code:\n",
    "\n",
    "```python\n",
    ">> ord(\"a\")\n",
    "97\n",
    ">> ord(\"(\")\n",
    "40\n",
    "```\n",
    "\n",
    "This allows us to __quickly convert single characters to integers__. To simplify the hashing process, we'll only take into account the first character of a potential dictionary key. This will cause issues when storing multiple keys with the same first letter, but we'll cover how we'll solve this problem later in the mission.\n",
    "\n",
    "#### Instructions\n",
    "\n",
    "* Fill out the body of the __simple_hash__ function:\n",
    "    * Convert the input to a string (this allows us to also use integer and float keys)\n",
    "    * Extract the first character of the string.\n",
    "    * Use the __ord()__ function to get the character code of the first character.\n",
    "    * Return the character code.\n",
    "* Assign the result of calling simple_hash on the string __xmen__ to __xmen_hash__.\n",
    "* Assign the result of calling simple_hash on the string __10thingsihateaboutyou__ to __things_hash__.\n",
    "\n",
    "\n",
    "#### Howto - Unicode\n",
    "#### Python Builtin Hash Function\n"
   ]
  },
  {
   "cell_type": "code",
   "execution_count": 109,
   "metadata": {},
   "outputs": [
    {
     "name": "stdout",
     "output_type": "stream",
     "text": [
      "a simple hash function\n"
     ]
    }
   ],
   "source": [
    "'''\n",
    "def simple_hash(key):\n",
    "    key = str(key)\n",
    "    return ord(key[0])\n",
    "'''\n",
    "print('a simple hash function')"
   ]
  },
  {
   "cell_type": "code",
   "execution_count": null,
   "metadata": {
    "collapsed": true
   },
   "outputs": [],
   "source": []
  },
  {
   "cell_type": "markdown",
   "metadata": {
    "collapsed": true
   },
   "source": [
    "### 5.4 Fitting Values Into An Array\n",
    "\n",
    "__One complication with__ creating a hash table is assigning a __fixed size__ to the array that stores the data. For example, let's say we use the hash function we created in the last screen, simple_hash, to hash Z:\n",
    "\n",
    "```python\n",
    ">> def simple_hash(key):\n",
    "..    key = str(key)\n",
    "..    return ord(key[0])\n",
    "..\n",
    ">> simple_hash('Z')\n",
    "90\n",
    "```\n",
    "\n",
    "We get 90 as a result, which means we have to store the value associated with the key Z at index 90 in an array. But what if we only initialized the array to have 10 elements?\n",
    "\n",
    "In cases like this, we need to apply a __modulo operator__. A modulo is a mathematical operator that finds the remainder after a number is divided by another. A modulo tries to fit one number into another as many times as possible, then takes the remainder:\n",
    "\n",
    "![img alt](https://s3.amazonaws.com/dq-content/176/modulo_remainder.svg)\n",
    "\n",
    "In the above example, 2 * 2 is 4, but 2 * 3 is 6, which is greater than 5. So we can only fit 2 into 5 twice, and we have a remainder of 1. We can perform a modulo in Python using %. For example:\n",
    "\n",
    "\n",
    "```python\n",
    ">> 11 % 10\n",
    "1\n",
    ">> 10 % 10\n",
    "0\n",
    ">> 12 % 11\n",
    "1\n",
    ">> 23 % 2\n",
    "1\n",
    "```\n",
    "\n",
    "Let's walk through an example of what the modulo operator does. Let's say we want to find 184 modulo 3. Here's what we'd do:\n",
    "\n",
    "* Set dividend to 184.\n",
    "* Set divisor to 3.\n",
    "* Set total to 0.\n",
    "* While total is less than dividend - divisor:\n",
    "    * Add divisor to total.\n",
    "* The remainder is dividend - total.\n",
    "\n",
    "The above algorithm will end with total equal to 183, and the remainder will be 1.\n",
    "\n",
    "A modulo operator __has the effect of ensuring that__ the returned value can __never be greater than the divisor__. In the above example, no number modulo 3 can ever have a remainder greater than 2. Using a modulo operator on the value returned by our hash function ensures that the index returned is never larger than the size of our array. We simply __use the size of our array as the divisor__ when we use the modulo operator.\n",
    "\n",
    "#### Instructions\n",
    "\n",
    "* Add to the body of the simple_hash function:\n",
    "    * Prior to returning the character code, apply the modulo operator with the divisor 20.\n",
    "* Assign the result of calling simple_hash on the string xmen to xmen_hash.\n",
    "* Assign the result of calling simple_hash on the string 10thingsihateaboutyou to things_hash.\n",
    "\n",
    "#### modul0 ===> returned value can never be greater than the divisor !!!! (Property)\n",
    "#### any_number % 1 = 0    =====> to create the worst case in a hashtable"
   ]
  },
  {
   "cell_type": "code",
   "execution_count": 110,
   "metadata": {},
   "outputs": [
    {
     "name": "stdout",
     "output_type": "stream",
     "text": [
      "0\n",
      "9\n"
     ]
    }
   ],
   "source": [
    "def simple_hash(key):\n",
    "    key = str(key)\n",
    "    code = ord(key[0])%20 ## Assuming the size of the array is 20\n",
    "    return code\n",
    "\n",
    "xmen_hash = simple_hash(\"xmen\")\n",
    "things_hash = simple_hash('10thingsihateaboutyou')\n",
    "print(xmen_hash)\n",
    "print(things_hash)"
   ]
  },
  {
   "cell_type": "code",
   "execution_count": null,
   "metadata": {
    "collapsed": true
   },
   "outputs": [],
   "source": []
  },
  {
   "cell_type": "markdown",
   "metadata": {
    "collapsed": true
   },
   "source": [
    "### 5.5 Creating A Hash Table\n",
    "\n",
    "Now that we've created a simple hash function, we have all the pieces we need to create a __HashTable__ class. The class will allow for setting and getting values from an instance. You may recall from a previous mission that we overrode the __[object.\\_\\_getitem\\_\\_()](https://docs.python.org/3/reference/datamodel.html#object.\\_\\_getitem\\_\\_)__ and __[object.\\_\\_setitem\\_\\_()](https://docs.python.org/3/reference/datamodel.html#object.\\_\\_setitem\\_\\_)__ methods to get this functionality for an Array class:\n",
    "\n",
    "```python\n",
    "class Array():\n",
    "    def __init__(self, size):\n",
    "        self.array = np.zeros(size, dtype=np.float64)\n",
    "        self.size = size\n",
    "​\n",
    "    def __getitem__(self, key):\n",
    "        return self.array[key]\n",
    "​\n",
    "    def __setitem__(self, key, value):\n",
    "        self.array[key] = value\n",
    "```\n",
    "\n",
    "Our HashTable class will be slighly more complex, since we need to hash the key prior to storing the value in our array, or looking up the value.\n",
    "\n",
    "In the __\\_\\_getitem\\_\\___ method, we'll need to:\n",
    "\n",
    "    * Hash the key\n",
    "    * Return the value in our array corresponding to the hashed position\n",
    "\n",
    "In the __\\_\\_setitem\\_\\___ method, we'll need to:\n",
    "\n",
    "* Hash the key\n",
    "* Set the value at the hashed position equal to the value passed in\n",
    "\n",
    "We'll also need to use the __[numpy.object](https://docs.scipy.org/doc/numpy/reference/arrays.dtypes.html)__ datatype when initializing our array, which will allow us to store any kind of Python objects in the NumPy array that we create, including strings.\n",
    "\n",
    "#### Instructions\n",
    "\n",
    "* Fill out the methods in the HashTable class.\n",
    "    * __\\_\\_init\\_\\___ should create an array using numpy, as with our Array class.\n",
    "        * Use the dtype np.object when initializing the array, so we can store Python objects like strings.\n",
    "    * __\\_\\_getitem\\_\\___ should return a value from the array when a key is passed in.\n",
    "    * __\\_\\_setitem\\_\\___ should store a value in the array based on the key.\n",
    "* Initialize an instance of HashTable called hash_table with an array of size 20.\n",
    "* Set the key xmen in hash_table equal to the contents of __lines/xmen.txt__."
   ]
  },
  {
   "cell_type": "code",
   "execution_count": 111,
   "metadata": {
    "collapsed": true
   },
   "outputs": [],
   "source": [
    "import numpy as np\n",
    "\n",
    "def simple_hash(key):\n",
    "    key = str(key)\n",
    "    code = ord(key[0])\n",
    "    return code % 20\n",
    "\n",
    "class HashTable():\n",
    "    \n",
    "    def __init__(self, size):\n",
    "        self.array = np.full(size, None, dtype=np.object)   ## np.zeros ? np.full ?\n",
    "        self.size = size\n",
    "    \n",
    "    def __getitem__(self, key):\n",
    "        code = simple_hash(key)\n",
    "        return self.array[code]\n",
    "    \n",
    "    def __setitem__(self, key, value):\n",
    "        code = simple_hash(key)\n",
    "        self.array[code] = value\n",
    "\n",
    "'''\n",
    "with open('lines/xmen.txt', 'r') as f:\n",
    "    hash_table['xmen'] = f.read()\n",
    "'''\n",
    "        \n",
    "hash_table = HashTable(20)\n"
   ]
  },
  {
   "cell_type": "code",
   "execution_count": null,
   "metadata": {
    "collapsed": true
   },
   "outputs": [],
   "source": []
  },
  {
   "cell_type": "markdown",
   "metadata": {},
   "source": [
    "### 5.6 Hash Collisions\n",
    "\n",
    "You may have noticed in the past few screens that our simple hash function returns the same index for many values. For example:\n",
    "\n",
    "```python\n",
    ">> simple_hash(\"xmen\")\n",
    "0\n",
    ">> simple_hash(\"xray\")\n",
    "0\n",
    "```\n",
    "\n",
    "When the same hash results from two different values, it's known as a __hash collision__. Our hash collisions happen for 2 reasons:\n",
    "\n",
    "    * We only have 20 positions in our array, so we used the modulo operator to compress the range of our array positions\n",
    "    * We're only hashing based off of the first character in each string, so if the first character is the same, the strings are treated the same.\n",
    "    \n",
    "The first problem is the bigger one. For example, when we try to store values associated with 5 keys into 3 array positions, here's what happens:\n",
    "\n",
    "![img alt](https://s3.amazonaws.com/dq-content/176/hash_table_compress.svg)\n",
    "\n",
    "As you can see, if we have more hash table keys than positions, some keys point to the same array position. Because a key can be any string, we can effectively have infinite keys. We can't allocate an infinitely long array, so we need to find a way to manage hash collisions. If we don't, we can get unexpected results like this:\n",
    "\n",
    "```python\n",
    ">> hash_table[\"xmen\"] = \"Wolverine\"\n",
    ">> hash_table[\"xray\"] = \"Superman\"\n",
    ">> hash_table[\"xmen\"]\n",
    "Superman\n",
    ">> hash_table[\"xray\"]\n",
    "Superman\n",
    "```\n",
    "\n",
    "As you can see above, unless we deal with hash collisions, they result in older keys __being overwritten__ by newer ones that hash to the same array position.\n",
    "\n",
    "In order to manage collisions, we need to __deal with both how we store values, and how we retrieve values__. We'll deal with storage first.\n",
    "\n",
    "One way to avoid collisions is to store a list of values at each array position, like this:\n",
    "\n",
    "![img alt](https://s3.amazonaws.com/dq-content/176/hash_table_list.svg)\n",
    "\n",
    "This allows each position in the array to store multiple values, so we aren't overwriting previous values with the new ones.\n",
    "\n",
    "#### Instructions\n",
    "\n",
    "* Modify the \\_\\_setitem\\_\\_ method of the HashTable class.\n",
    "    * Hash key using simple_hash and get a position.\n",
    "    * If the value in the array at position isn't a list, initialize it to an empty list.\n",
    "    * Append value to the list.\n",
    "* Initialize an instance of HashTable called hash_table with an array of size 20.\n",
    "* Set the key xmen in hash_table equal to the contents of lines/xmen.txt.\n",
    "* Set the key xmenoriginswolverine in hash_table equal to the contents of lines/xmenoriginswolverine.txt."
   ]
  },
  {
   "cell_type": "code",
   "execution_count": 112,
   "metadata": {},
   "outputs": [],
   "source": [
    "class HashTable():\n",
    "    \n",
    "    def __init__(self, size):\n",
    "        self.array = np.zeros(size, dtype=np.object)\n",
    "        self.size = size\n",
    "    \n",
    "    def __getitem__(self, key):\n",
    "        ind = simple_hash(key)\n",
    "        return self.array[ind]\n",
    "    \n",
    "    def __setitem__(self, key, value):\n",
    "        ind = simple_hash(key)\n",
    "        if not isinstance(self.array[ind], list):\n",
    "            self.array[ind] = []\n",
    "        self.array[ind].append(value)\n",
    "\n",
    "'''\n",
    "with open(\"lines/xmen.txt\", 'r') as f:\n",
    "    hash_table[\"xmen\"] = f.read()\n",
    "\n",
    "with open(\"lines/xmenoriginswolverine.txt\", 'r') as f:\n",
    "    hash_table[\"xmenoriginswolverine\"] = f.read()\n",
    "    \n",
    "len(hash_table[\"xmen\"])\n",
    "hash_table[\"xmen\"]\n",
    "'''\n",
    "hash_table = HashTable(20)"
   ]
  },
  {
   "cell_type": "code",
   "execution_count": null,
   "metadata": {
    "collapsed": true
   },
   "outputs": [],
   "source": []
  },
  {
   "cell_type": "markdown",
   "metadata": {},
   "source": [
    "### 5.7 Retrieving Values From Hash Tables\n",
    "\n",
    "You may have noticed in the past screen that we don't have an easy way to look up the values after we insert them into the array. __The order__ that a value will take in an inner list __depends on when it was added__. For example:\n",
    "\n",
    "```python\n",
    ">> hash_table = HashTable(20)\n",
    ">> hash_table[\"xmen\"] = \"Wolverine\"\n",
    ">> hash_table[\"xmenoriginswolverine\"] = \"Superman\"\n",
    ">> hash_table[\"xmen\"]\n",
    "[\"Wolverine\", \"Superman\"]\n",
    ">> hash_table = HashTable(20)\n",
    ">> hash_table[\"xmenoriginswolverine\"] = \"Superman\"\n",
    ">> hash_table[\"xmen\"] = \"Wolverine\"\n",
    ">> hash_table[\"xmen\"]\n",
    "[\"Superman\", \"Wolverine\"]\n",
    "```\n",
    "\n",
    "Right now, looking up the value associated with a key returns all the keys in the list at that array position. It's also impossible to tell which value is associated with a particular key. In the above example, you don't know if Superman or Wolverine are associated with the key xmen.\n",
    "\n",
    "In order to fix this, we need to:\n",
    "\n",
    "* In \\_\\_setitem\\_\\_, store both the key and the value.\n",
    "* In \\_\\_getitem\\_\\_, iterate through each key value pair at the array position to find the correct value.\n",
    "\n",
    "Here's how this would look when storing values:\n",
    "\n",
    "![img alt](https://s3.amazonaws.com/dq-content/176/hash_table_tuples.svg)\n",
    "\n",
    "\n",
    "As you can see, each element in the array __becomes a list of tuples__. Each tuple contains the key and the value. When we're looking up the value associated with a key, we then:\n",
    "\n",
    "* Hash the key to get the position.\n",
    "* Iterate through each tuple in the list at the array position:\n",
    "    * If the key matches the key passed in, return the value.\n",
    "\n",
    "#### Instructions\n",
    "\n",
    "* Modify \\_\\_setitem\\_\\_ to:\n",
    "    * Hash key using simple_hash and get a position.\n",
    "    * If the value in the array at position isn't a list, initialize it to an empty list.\n",
    "    * Append a tuple containing the key and the value to the list.\n",
    "* Modify \\_\\_getitem\\_\\_ to:\n",
    "    * Hash key using simple_hash and get a position.\n",
    "    * Retrieve the list at position in the array, and iterate through each tuple in the array:\n",
    "        * If the first element of the tuple matches key, return the second element of the tuple.\n",
    "* Initialize an instance of HashTable called hash_table with an array of size 20.\n",
    "* Set the key xmen in hash_table equal to the contents of lines/xmen.txt.\n",
    "* Set the key xmenoriginswolverine in hash_table equal to the contents of lines/xmenoriginswolverine.txt."
   ]
  },
  {
   "cell_type": "code",
   "execution_count": 113,
   "metadata": {
    "collapsed": true
   },
   "outputs": [],
   "source": [
    "class HashTable():\n",
    "    \n",
    "    def __init__(self, size):\n",
    "        self.array = np.zeros(size, dtype=np.object)\n",
    "        self.size = size\n",
    "    \n",
    "    def __getitem__(self, key):\n",
    "        ind = simple_hash(key)\n",
    "        for k, v in self.array[ind]:\n",
    "            if k == key:\n",
    "                return v\n",
    "    \n",
    "    def __setitem__(self, key, value):\n",
    "        ind = simple_hash(key)\n",
    "        if not isinstance(self.array[ind], list):\n",
    "            self.array[ind] = []\n",
    "        self.array[ind].append((key, value))\n",
    "        \n",
    "\n",
    "'''\n",
    "with open(\"lines/xmen.txt\", 'r') as f:\n",
    "    hash_table[\"xmen\"] = f.read()\n",
    "\n",
    "with open(\"lines/xmenoriginswolverine.txt\", 'r') as f:\n",
    "    hash_table[\"xmenoriginswolverine\"] = f.read()\n",
    "'''\n",
    "    \n",
    "hash_table = HashTable(20)"
   ]
  },
  {
   "cell_type": "code",
   "execution_count": null,
   "metadata": {
    "collapsed": true
   },
   "outputs": [],
   "source": []
  },
  {
   "cell_type": "markdown",
   "metadata": {},
   "source": [
    "### 5.8 Overwriting Values\n",
    "\n",
    "You may have noticed that there's a flaw with our hash table when it comes time to assign new values to an existing key. For example:\n",
    "\n",
    "```python\n",
    ">> hash_table = HashTable(20)\n",
    ">> hash_table[\"xmen\"] = \"Wolverine\"\n",
    ">> hash_table[\"xmen\"] = \"Superman\"\n",
    ">> hash_table[\"xmen\"]\n",
    "\"Wolverine\"\n",
    "```\n",
    "\n",
    "We're appending values to the list like this in \\_\\_setitem\\_\\_:\n",
    "\n",
    "![img alt](https://s3.amazonaws.com/dq-content/176/hash_table_overwrite_1.svg)\n",
    "\n",
    "\n",
    "When we then retrieve these values in \\_\\_getitem\\_\\_, we get the __earliest value associated with a key__:\n",
    "\n",
    "```python\n",
    "def __getitem__(self, key):\n",
    "    ind = simple_hash(key)\n",
    "    for k,v in self.array[ind]:\n",
    "        if key == k:\n",
    "            return v\n",
    "```\n",
    "\n",
    "This means that although we append the new value, Superman, to the list at an array position in \\_\\_setitem\\_\\_, we don't retrieve it in \\_\\_getitem\\_\\_.\n",
    "\n",
    "There are two ways to solve this:\n",
    "\n",
    "    * Iterate from the back of the list at the array position to the front in \\_\\_getitem\\_\\_, so we get the latest value associated with a key instead of the earliest.\n",
    "    * In \\_\\_setitem\\_\\_, iterate through the list at the array position, and replace the current value with a new one.\n",
    "\n",
    "The first way above keeps appending new entries to the list, which consumes more memory, and causes slower indexing, since there are potentially more items to iterate through. The second way above makes insertion slower, since you need to perform a linear search, but it also makes indexing faster, and uses less memory. Because of the advantages, and the fact that dictionaries are usually indexed more than they're inserted into, it usually __makes more sense to use the second method__ above.\n",
    "   \n",
    "    * tradeoff: space vs time:\n",
    "        * first ==> more memory (space)\n",
    "        * second ===> more time (time)\n",
    "\n",
    "#### Instructions\n",
    "\n",
    "* Modify \\_\\_setitem\\_\\_ to:\n",
    "    * Hash key using simple_hash and get a position.\n",
    "    * If the value in the array at position isn't a list, initialize it to an empty list.\n",
    "    * Set replace to None.\n",
    "    * Iterate through each tuple in the list in the array at position:\n",
    "        * If the first item in the tuple matches key, store the position in replace.\n",
    "    * If replace is None, append a tuple containing the key and the value to the list.\n",
    "    * If replace isn't None, replace the tuple at position replace in the array with the new (key,value) tuple.\n",
    "* Initialize an instance of HashTable called hash_table with an array of size 20.\n",
    "* Set the key xmen in hash_table equal to the contents of lines/xmen.txt.\n",
    "* Set the key xmen in hash_table equal to the contents of lines/xmenoriginswolverine.txt.\n",
    "\n"
   ]
  },
  {
   "cell_type": "code",
   "execution_count": 114,
   "metadata": {
    "collapsed": true
   },
   "outputs": [],
   "source": [
    "class HashTable():\n",
    "    \n",
    "    def __init__(self, size):\n",
    "        self.array = np.zeros(size, dtype=np.object)\n",
    "        self.size = size\n",
    "    \n",
    "    def __getitem__(self, key):\n",
    "        ind = simple_hash(key)\n",
    "        for k,v in self.array[ind]:\n",
    "            if key == k:\n",
    "                return v\n",
    "    \n",
    "    def __setitem__(self, key, value):\n",
    "        ind = simple_hash(key)\n",
    "        if not isinstance(self.array[ind], list):\n",
    "            self.array[ind] = []\n",
    "        replace = None\n",
    "        for i, t in enumerate(self.array[ind]): ## i - index; t - tuple\n",
    "            if t[0] == key:\n",
    "                replace = i\n",
    "        if replace == None:\n",
    "            self.array[ind].append((key,value))\n",
    "        else:\n",
    "            self.array[ind][replace] = (key, value)\n",
    "            \n",
    "\n",
    "'''\n",
    "with open(\"lines/xmen.txt\", 'r') as f:\n",
    "    hash_table[\"xmen\"] = f.read()\n",
    "\n",
    "with open(\"lines/xmenoriginswolverine.txt\", 'r') as f:\n",
    "    hash_table[\"xmen\"] = f.read()\n",
    "'''\n",
    "    \n",
    "hash_table = HashTable(20)"
   ]
  },
  {
   "cell_type": "code",
   "execution_count": null,
   "metadata": {
    "collapsed": true
   },
   "outputs": [],
   "source": []
  },
  {
   "cell_type": "markdown",
   "metadata": {},
   "source": [
    "### 5.9 Profiling Hash Tables\n",
    "\n",
    "As you may have realized, the fact that we're now storing a list at each array position means that we have to iterate through the list to find the element we want. This means the __theoretical worst case time complexity is O(n)__, when __all__ the elements in the hash table are __in a single list__:\n",
    "\n",
    "![img alt](https://s3.amazonaws.com/dq-content/176/hash_table_scan.svg)\n",
    "\n",
    "In the above example, the lookup would have to scan through 2 elements to find a match, making the lookup O(n). We can also have two elements in an array, but not have the lookup be O(n):\n",
    "\n",
    "![img alt](https://s3.amazonaws.com/dq-content/176/hash_table_scan_1.svg)\n",
    "\n",
    "As you can see, the __worst case__ time complexity is when __all of the hash table keys and values are stored in a single array position__. In cases like this, you have to perform a linear search to locate the value. Let's test this principle out by:\n",
    "\n",
    "    * Creating a HashTable instance __with only one available array position__. <worst case>\n",
    "    * Using counters to count the number of operations needed to retrieve values.\n",
    "\n",
    "#### Instructions\n",
    "\n",
    "* Modify \\_\\_getitem\\_\\_:\n",
    "    * Create a variable called counter at the top.\n",
    "    * Increment counter by 1 for each loop iteration.\n",
    "    * Return counter instead of k.\n",
    "* Create an instance of the HashTable class called hash_table with array size 1.\n",
    "* Loop across data, and for each tuple:\n",
    "    * Use the first element of the tuple as a key, and insert the second element of the tuple into hash_table.\n",
    "* Use the last key in data to look up the value in hash_table. Assign the result to counter.\n",
    "* Inspect counter in the variables inspector. Why do you think it takes on the value it does?\n",
    "* Add values to data, and see what happens to counter."
   ]
  },
  {
   "cell_type": "code",
   "execution_count": 115,
   "metadata": {
    "collapsed": true
   },
   "outputs": [],
   "source": [
    "def simple_hash(key):\n",
    "    key = str(key)\n",
    "    code = ord(key[0])\n",
    "    return code % 1 ##### to create the worst case, where all keys in one single position"
   ]
  },
  {
   "cell_type": "code",
   "execution_count": 116,
   "metadata": {},
   "outputs": [],
   "source": [
    "### original\n",
    "class HashTable:\n",
    "    def __init__(self, size):\n",
    "        self.array = np.full(size, None, dtype=np.object)\n",
    "        self.size = size\n",
    "        \n",
    "    def __getitem__(self, key):\n",
    "        position = simple_hash(key)\n",
    "        for k, v in self.array[position]:\n",
    "            if k == key:\n",
    "                return v\n",
    "        \n",
    "    def __setitem__(self, key, value):\n",
    "        position = simple_hash(key)\n",
    "        if not isinstance(self.array[position], list):\n",
    "            self.array[position] = []\n",
    "        replace = None\n",
    "        for i, t in enumerate(self.array[position]):\n",
    "            if t[0] == key:\n",
    "                replace = i\n",
    "        if replace is None:\n",
    "            self.array[position].append((key, value))\n",
    "        else:\n",
    "            self.array[position][replace] = (key, value)\n",
    "        "
   ]
  },
  {
   "cell_type": "code",
   "execution_count": 117,
   "metadata": {
    "collapsed": true
   },
   "outputs": [],
   "source": [
    "## Modified for profiling\n",
    "class HashTable:\n",
    "    def __init__(self, size):\n",
    "        self.array = np.full(size, None, dtype=np.object)\n",
    "        self.size = size\n",
    "        \n",
    "    def __getitem__(self, key):\n",
    "        counter = 0\n",
    "        position = simple_hash(key)\n",
    "        for k, v in self.array[position]:\n",
    "            counter += 1\n",
    "            if k == key:\n",
    "                return counter\n",
    "        \n",
    "    def __setitem__(self, key, value):\n",
    "        position = simple_hash(key)\n",
    "        if not isinstance(self.array[position], list):\n",
    "            self.array[position] = []\n",
    "        replace = None\n",
    "        for i, t in enumerate(self.array[position]):\n",
    "            if t[0] == key:\n",
    "                replace = i\n",
    "        if replace is None:\n",
    "            self.array[position].append((key, value))\n",
    "        else:\n",
    "            self.array[position][replace] = (key, value)"
   ]
  },
  {
   "cell_type": "code",
   "execution_count": 118,
   "metadata": {},
   "outputs": [
    {
     "name": "stdout",
     "output_type": "stream",
     "text": [
      "4\n"
     ]
    }
   ],
   "source": [
    "data = [\n",
    "    (\"xmen\", \"Wolverine\"), \n",
    "    (\"xmenoriginswolverine\", \"Superman\"), \n",
    "    (\"vanillasky\", \"Thor\"), \n",
    "    (\"tremors\", \"Aquaman\")\n",
    "]\n",
    "\n",
    "hash_table = HashTable(1) ## worst case, only one position avaiable, all keys in the same slot. ===> O(n)\n",
    "\n",
    "for k, v in data:\n",
    "    hash_table[k] = v\n",
    "    \n",
    "counter = hash_table[\"tremors\"]\n",
    "print(counter)"
   ]
  },
  {
   "cell_type": "code",
   "execution_count": 119,
   "metadata": {},
   "outputs": [
    {
     "data": {
      "text/plain": [
       "[('xmen', 'Wolverine'),\n",
       " ('xmenoriginswolverine', 'Superman'),\n",
       " ('vanillasky', 'Thor'),\n",
       " ('tremors', 'Aquaman')]"
      ]
     },
     "execution_count": 119,
     "metadata": {},
     "output_type": "execute_result"
    }
   ],
   "source": [
    "hash_table.array[0]"
   ]
  },
  {
   "cell_type": "code",
   "execution_count": null,
   "metadata": {
    "collapsed": true
   },
   "outputs": [],
   "source": []
  },
  {
   "cell_type": "markdown",
   "metadata": {},
   "source": [
    "### 5.10 Profiling Array Length ==> tradeoff: Time vs Space\n",
    "#### More space mean less hash collision\n",
    "\n",
    "We can __improve the time complexity by increasing the size of the array__, and improving our hashing algorithm. If we improve our hashing algorithm, we decrease the chance that two strings map to the same array position. Currently, our hashing algorithm assigns keys to positions based on the first letter, which only allows us to use a few array positions. For example, if all of our potential dictionary keys were strings starting with lowercase letters from a to z, we'd only be able to utilize 26 array positions, since our keys only hash to 26 possible numbers.\n",
    "\n",
    "Instead, we'll upgrade our hashing algorithm to use the __[built-in Python hash() function](https://docs.python.org/3/library/functions.html#hash)__, which is used by Python's built-in hash table implementation, __[dict](https://docs.python.org/3/tutorial/datastructures.html#dictionaries)__. This algorithm will allow us to hash based on the __entire string__, not just the first character, and will allow us to utilize longer arrays. By using longer arrays, we can __make hash collisions less likely__, which will give us a speed boost when it comes to insertion and lookups, since we don't need to iterate over as many list values.\n",
    "\n",
    "#### Instructions\n",
    "\n",
    "* Swap out the simple_hash function for the hash function.\n",
    "    * Make sure to use a modulo operator to reduce the maximum hash to the array length minus 1.\n",
    "* Fill in the rest of profile_table:\n",
    "    * Insert a line at the beginning that gets the time, and assigns to start.\n",
    "    * Insert a line at the end that gets the difference between the current time and start. Assign to duration.\n",
    "    * Return duration.\n",
    "* Create a list, times.\n",
    "* Loop across each length in lengths:\n",
    "    * Run profile_table, and pass in length. Append the result to times.\n",
    "* Use the matplotlib.pyplot.plot function to plot lengths on the x-axis, and times on the y-axis.\n",
    "* What does the line plot tell you?\n",
    "* Try varying the lengths and seeing what happens."
   ]
  },
  {
   "cell_type": "code",
   "execution_count": 120,
   "metadata": {},
   "outputs": [
    {
     "name": "stdout",
     "output_type": "stream",
     "text": [
      "space-time tradeoff\n"
     ]
    }
   ],
   "source": [
    "class HashTable():\n",
    "    \n",
    "    def __init__(self, size):\n",
    "        self.array = np.zeros(size, dtype=np.object)\n",
    "        self.size = size\n",
    "    \n",
    "    def __getitem__(self, key):\n",
    "        ind = hash(key) % self.size  ### magic of modulo ===> reduce the maximumu hash at will\n",
    "        for k,v in self.array[ind]:\n",
    "            if key == k:\n",
    "                return v\n",
    "    \n",
    "    def __setitem__(self, key, value):\n",
    "        ind = hash(key) % self.size  ### magic of modulo ===> reduce the maximumu hash at will\n",
    "        if not isinstance(self.array[ind], list):\n",
    "            self.array[ind] = []\n",
    "        replace = None\n",
    "        for i,data in enumerate(self.array[ind]):\n",
    "            if data[0] == key:\n",
    "                replace = i\n",
    "        if replace is None:\n",
    "            self.array[ind].append((key,value))\n",
    "        else:\n",
    "            self.array[ind][replace] = (key, value)\n",
    "'''\n",
    "def profile_table(size):\n",
    "    start = time.time()\n",
    "    hash_table = HashTable(size)\n",
    "    directory = \"lines\"\n",
    "    \n",
    "    for filename in os.listdir(directory):  ### around 1000 movies\n",
    "        name = filename.replace(\".txt\", \"\")\n",
    "        hash_table[name] = quotes[name]\n",
    "    \n",
    "    duration = time.time() - start\n",
    "    return duration\n",
    "\n",
    "lengths = [1,10,20,30,40,50]\n",
    "times = []\n",
    "for l in lengths:\n",
    "    times.append(profile_table(l))\n",
    "\n",
    "plt.plot(lengths, times)\n",
    "'''\n",
    "\n",
    "print('space-time tradeoff')"
   ]
  },
  {
   "cell_type": "code",
   "execution_count": null,
   "metadata": {
    "collapsed": true
   },
   "outputs": [],
   "source": []
  },
  {
   "cell_type": "markdown",
   "metadata": {},
   "source": [
    "### 5.11 Hash Tables Versus Lists\n",
    "\n",
    "You should have seen a plot like this in the last screen:\n",
    "\n",
    "![img alt](https://s3.amazonaws.com/dq-content/176/profile_table.png)\n",
    "\n",
    "As you can see, as we increase the array size, the __insertion time decreases__. This is __only true to a point__, though. Once every key hashes to a unique array position, then we can't reduce our insertion time anymore. The tradeoff to increasing the array size is that some of the positions will likely be unfilled, which increases our memory usage.\n",
    "\n",
    "The Python dict class is implemented slightly differently that our implementation, to optimize for speed, but the same general principles apply:\n",
    "\n",
    "* Insertion is generally O(1), but worst-case can be O(n).\n",
    "* Indexing is generally O(1), but worst-case can be O(n).\n",
    "\n",
    "You can read more about the Python dictionary implementation __[here](http://www.laurentluce.com/posts/python-dictionary-implementation/)__. Dictionaries are excellent in cases when we want to do quick searches based on keys. The tradeoff for this is __slightly higher memory usage__. When working across multiple machines, a dictionary is an excellent data structure since hash tables can __be combined fairly easily__. It's very commonly used when doing __distributed computation__, and understanding the memory and lookup time constraints can be vert helpful.\n",
    "\n",
    "The next mission will be a guided project where you'll __pull together__ what you've done with data structures to work with stock prices.\n",
    "\n",
    "\n",
    "#### How hash table could used in Distributed Computation ???\n",
    "* __[video](https://www.coursera.org/lecture/data-structures/distributed-hash-tables-tvH8H)__\n",
    "\n",
    "#### How to easily combine two hash tables ???"
   ]
  },
  {
   "cell_type": "code",
   "execution_count": null,
   "metadata": {
    "collapsed": true
   },
   "outputs": [],
   "source": []
  },
  {
   "cell_type": "code",
   "execution_count": null,
   "metadata": {
    "collapsed": true
   },
   "outputs": [],
   "source": []
  },
  {
   "cell_type": "markdown",
   "metadata": {},
   "source": [
    "## Appendix Understanding \"datetime\" module in Python\n",
    "\n",
    "* __[python中的datetime模块详解](https://www.jianshu.com/p/113bd56f7b56)__\n",
    "* __[python中的时间处理总结 - 无总结， 不进步](https://www.jianshu.com/p/a035a564b248?utm_campaign=maleskine&utm_content=note&utm_medium=seo_notes&utm_source=recommendation)__\n",
    "* __[official doc](https://docs.python.org/3/library/datetime.html#datetime-objects)__\n",
    "\n",
    "* __[time module](https://docs.python.org/3/library/time.html#module-time)__\n",
    "    * epoch - Unix\n",
    "    * UTC vs GMT\n",
    "    * time.time() in seconds\n",
    "    \n",
    "### 1. \"datetime\" module: 2 constances and 7 classes\n",
    "    ```python\n",
    "    import datetime\n",
    "    dir(datetime)\n",
    "    [attr for attr in dir(datetime) if not attr.startswith('__')]\n",
    "    ```\n",
    "    * 'MAXYEAR': constant = 9999\n",
    "    * 'MINYEAR': constant = 1\n",
    "    * 'date': class\n",
    "    * 'datetime': class\n",
    "    * 'datetime_CAPI': class\n",
    "    * 'time': class\n",
    "    * 'timedelta': class\n",
    "    * 'timezone': class\n",
    "    * 'tzinfo': class\n",
    "\n",
    "### 2. \"datetime.timedelta\" class\n",
    "    ```python\n",
    "    [attr for attr in dir(datetime.timedelta) if not attr.startswith(\"__\")]\n",
    "    \n",
    "    ['days', 'max', 'microseconds', 'min', 'resolution', 'seconds', 'total_seconds']\n",
    "    ```\n",
    "    * 6 attributes, 1 class methods - total_seconds\n",
    "    * default parameters: days, seconds, microseconds\n",
    "    * value range for the three default parameters:\n",
    "        * 0 <= microseconds < 1000000\n",
    "        * 0 <= seconds < 3600*24 (一天的秒数)\n",
    "        * -999999999 <= days <= 999999999\n",
    "    * max, min attribute could display the above value range\n",
    "        * datetime.timedelta.max ---> datetime.timedelta(999999999, 86399, 999999)\n",
    "        * datetime.timedelta.min ---> datetime.timedelta(-999999999)\n",
    "    * days, seconds, microseconds: 获取各自取值\n",
    "    * total_seconds(): 获取总时间 - in terms of seconds \n",
    "    \n",
    "    ```python\n",
    "    Example: creating an instance out of \"datetime.timedelta\" class\n",
    "    tmp = datetime.timedelta(days=30, seconds=3600)\n",
    "    tmp.days -> 30\n",
    "    tmp.seconds -> 3600\n",
    "    tmp.microseconds -> 0\n",
    "    tmp.total_seconds() -> 2595600.0\n",
    "    ```\n",
    "### 3. \"datetime.datetime\" class --> date 和 time 的结合 -- QQQ why not in capital form as a class??\n",
    "```python\n",
    "[attr for attr in dir(datetime.datetime) if not attr.startswith(\"__\")]\n",
    "\n",
    "['astimezone', 'combine', 'ctime', 'date', 'day', 'dst', 'fold', 'fromordinal', 'fromtimestamp', 'hour', 'isocalendar', 'isoformat', 'isoweekday', 'max', 'microsecond', 'min', 'minute', 'month', 'now', 'replace', 'resolution', 'second', 'strftime', 'strptime', 'time', 'timestamp', 'timetuple', 'timetz', 'today', 'toordinal', 'tzinfo', 'tzname', 'utcfromtimestamp', 'utcnow', 'utcoffset', 'utctimetuple', 'weekday', 'year']\n",
    "\n",
    "class method/instance method\n",
    "class attribute/instance attribute\n",
    "\n",
    "\n",
    "*****************************创建datetime对象：\n",
    "\n",
    "datetime.datetime(year, month, day[, hour[, minute[, second[, microsecond[,tzinfo]]]]])\n",
    "\n",
    "1. 手动直接创建\n",
    ">>> cur = datetime(year=2016, month=9, day=2)\n",
    ">>> cur\n",
    "datetime.datetime(2016, 9, 2, 0, 0)\n",
    "\n",
    "2. 自动获取当前本地时间\n",
    ">>> datetime.today()\n",
    "datetime.datetime(2018, 6, 27, 10, 58, 31, 609549)\n",
    "\n",
    "3. 自动获取当前本地时间 - now可以传入时区信息\n",
    ">>> datetime.now()\n",
    "datetime.datetime(2018, 6, 27, 10, 58, 46, 332292)\n",
    "\n",
    "4. 从时间戳创建 (timestamp)\n",
    "import time\n",
    "## time.time() 获取时间戳 ---- timestamp ---- in seconds ----- Unix Timestamp, A.K.A., Epoch\n",
    ">>> datetime.fromtimestamp(time.time())\n",
    "datetime.datetime(2018, 6, 27, 11, 4, 12, 162084)\n",
    "\n",
    "5. 从格式化的字符串获取\n",
    ">>> datetime.datetime.strptime('2018-06-27 11:00:00', '%Y-%m-%d %H:%M:%S')\n",
    "datetime.datetime(2018, 6, 27, 11, 0)\n",
    "\n",
    "6. 从date和time两个对象联合生成\n",
    ">>> d = datetime.date(year=2018, month=6, day=27)\n",
    ">>> d\n",
    "datetime.date(2018, 6, 27)\n",
    ">>> t = datetime.time(hour=11, minute=15)\n",
    ">>> t\n",
    "datetime.time(11, 15)\n",
    ">>> datetime.datetime.combine(d, t)\n",
    "datetime.datetime(2018, 6, 27, 11, 15)\n",
    "\n",
    "\n",
    "******************************************常用方法：\n",
    "1. date(), time()\n",
    ">>> today = datetime.datetime.today()\n",
    ">>> today.date()\n",
    "datetime.date(2018, 6, 27)\n",
    ">>> today.time()\n",
    "datetime.time(12, 2, 36, 629445)\n",
    "\n",
    "2. replace()方法可以用于 --》 替换datetime中的任意字段\n",
    "\n",
    ">>> next_month = today.replace(month=today.month+1)\n",
    ">>> next_month\n",
    "datetime.datetime(2018, 7, 27, 12, 2, 36, 629445)\n",
    "\n",
    "3. strftime() 有datetime对象生成格式化字符串 -- return a string representing the date and time, controlled by an explicit format string\n",
    "\n",
    ">>> next_month.strftime('%Y-%m-%d %H:%M:%S')\n",
    "'2018-6-27 12:2:36'\n",
    "\n",
    "\n",
    "**********************************************Examples of working with datetime objects\n",
    ">>> from datetime import datetime, date, time\n",
    ">>> # Using datetime.combine()\n",
    ">>> d = date(2005, 7, 14)\n",
    ">>> t = time(12, 30)\n",
    ">>> datetime.combine(d, t)\n",
    "datetime.datetime(2005, 7, 14, 12, 30)\n",
    ">>> # Using datetime.now() or datetime.utcnow()\n",
    ">>> datetime.now()   \n",
    "datetime.datetime(2007, 12, 6, 16, 29, 43, 79043)   # GMT +1\n",
    ">>> datetime.utcnow()   \n",
    "datetime.datetime(2007, 12, 6, 15, 29, 43, 79060)\n",
    ">>> # Using datetime.strptime()\n",
    ">>> dt = datetime.strptime(\"21/11/06 16:30\", \"%d/%m/%y %H:%M\")\n",
    ">>> dt\n",
    "datetime.datetime(2006, 11, 21, 16, 30)\n",
    ">>> # Using datetime.timetuple() to get tuple of all attributes\n",
    ">>> tt = dt.timetuple()\n",
    ">>> for it in tt:   \n",
    "...     print(it)\n",
    "...\n",
    "2006    # year\n",
    "11      # month\n",
    "21      # day\n",
    "16      # hour\n",
    "30      # minute\n",
    "0       # second\n",
    "1       # weekday (0 = Monday)\n",
    "325     # number of days since 1st January\n",
    "-1      # dst - method tzinfo.dst() returned None\n",
    ">>> # Date in ISO format\n",
    ">>> ic = dt.isocalendar()\n",
    ">>> for it in ic:   \n",
    "...     print(it)\n",
    "...\n",
    "2006    # ISO year\n",
    "47      # ISO week\n",
    "2       # ISO weekday\n",
    ">>> # Formatting datetime\n",
    ">>> dt.strftime(\"%A, %d. %B %Y %I:%M%p\")\n",
    "'Tuesday, 21. November 2006 04:30PM'\n",
    ">>> 'The {1} is {0:%d}, the {2} is {0:%B}, the {3} is {0:%I:%M%p}.'.format(dt, \"day\", \"month\", \"time\")\n",
    "'The day is 21, the month is November, the time is 04:30PM.'\n",
    "\n",
    "************************************************************using datetime with tzinfo\n",
    "\n",
    ">>> from datetime import timedelta, datetime, tzinfo\n",
    ">>> class GMT1(tzinfo): # 自定义class，based on/inherit from tzinfo\n",
    "...     def utcoffset(self, dt):\n",
    "...         return timedelta(hours=1) + self.dst(dt)\n",
    "...     def dst(self, dt):\n",
    "...         # DST starts last Sunday in March\n",
    "...         d = datetime(dt.year, 4, 1)   # ends last Sunday in October\n",
    "...         self.dston = d - timedelta(days=d.weekday() + 1)\n",
    "...         d = datetime(dt.year, 11, 1)\n",
    "...         self.dstoff = d - timedelta(days=d.weekday() + 1)\n",
    "...         if self.dston <=  dt.replace(tzinfo=None) < self.dstoff:\n",
    "...             return timedelta(hours=1)\n",
    "...         else:\n",
    "...             return timedelta(0)\n",
    "...     def tzname(self,dt):\n",
    "...          return \"GMT +1\"\n",
    "...\n",
    ">>> class GMT2(tzinfo): # 自定义class, based on/inherit from tzinfo\n",
    "...     def utcoffset(self, dt):\n",
    "...         return timedelta(hours=2) + self.dst(dt)\n",
    "...     def dst(self, dt):\n",
    "...         d = datetime(dt.year, 4, 1)\n",
    "...         self.dston = d - timedelta(days=d.weekday() + 1)\n",
    "...         d = datetime(dt.year, 11, 1)\n",
    "...         self.dstoff = d - timedelta(days=d.weekday() + 1)\n",
    "...         if self.dston <=  dt.replace(tzinfo=None) < self.dstoff:\n",
    "...             return timedelta(hours=1)\n",
    "...         else:\n",
    "...             return timedelta(0)\n",
    "...     def tzname(self,dt):\n",
    "...         return \"GMT +2\"\n",
    "...\n",
    ">>> gmt1 = GMT1()\n",
    ">>> # Daylight Saving Time\n",
    ">>> dt1 = datetime(2006, 11, 21, 16, 30, tzinfo=gmt1)\n",
    ">>> dt1.dst()\n",
    "datetime.timedelta(0)\n",
    ">>> dt1.utcoffset()\n",
    "datetime.timedelta(0, 3600)\n",
    ">>> dt2 = datetime(2006, 6, 14, 13, 0, tzinfo=gmt1)\n",
    ">>> dt2.dst()\n",
    "datetime.timedelta(0, 3600)\n",
    ">>> dt2.utcoffset()\n",
    "datetime.timedelta(0, 7200)\n",
    ">>> # Convert datetime to another time zone\n",
    ">>> dt3 = dt2.astimezone(GMT2())\n",
    ">>> dt3     \n",
    "datetime.datetime(2006, 6, 14, 14, 0, tzinfo=<GMT2 object at 0x...>)\n",
    ">>> dt2     \n",
    "datetime.datetime(2006, 6, 14, 13, 0, tzinfo=<GMT1 object at 0x...>)\n",
    ">>> dt2.utctimetuple() == dt3.utctimetuple()\n",
    "True\n",
    "```\n",
    "\n",
    "### 4. tzinfo - 基类 - Abstract base class for time zone info objects\n",
    "\n",
    "\n"
   ]
  },
  {
   "cell_type": "code",
   "execution_count": null,
   "metadata": {
    "collapsed": true
   },
   "outputs": [],
   "source": [
    "\n"
   ]
  },
  {
   "cell_type": "code",
   "execution_count": null,
   "metadata": {
    "collapsed": true
   },
   "outputs": [],
   "source": []
  },
  {
   "cell_type": "code",
   "execution_count": null,
   "metadata": {
    "collapsed": true
   },
   "outputs": [],
   "source": []
  },
  {
   "cell_type": "code",
   "execution_count": null,
   "metadata": {
    "collapsed": true
   },
   "outputs": [],
   "source": []
  }
 ],
 "metadata": {
  "kernelspec": {
   "display_name": "Python 3",
   "language": "python",
   "name": "python3"
  },
  "language_info": {
   "codemirror_mode": {
    "name": "ipython",
    "version": 3
   },
   "file_extension": ".py",
   "mimetype": "text/x-python",
   "name": "python",
   "nbconvert_exporter": "python",
   "pygments_lexer": "ipython3",
   "version": "3.6.3"
  }
 },
 "nbformat": 4,
 "nbformat_minor": 2
}
